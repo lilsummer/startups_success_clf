{
 "cells": [
  {
   "cell_type": "markdown",
   "metadata": {
    "id": "2u1slszvL7Gq"
   },
   "source": [
    "# Predicting the chance of startup success\n",
    "\n",
    "## Table of Contents\n",
    "\n",
    "[Take a Peek at the Dataset](#t1)\n",
    "\n",
    "[Which metric should we use?](#t4)\n",
    "\n",
    "[Train a model using Autogluon](#t2)\n",
    "\n",
    "[Use Cleanlab to find outliers](#t3)\n",
    "\n",
    "[Use Cleanlab to train better models](#t5)\n",
    "\n",
    "[How does Cleanlab help to improve performance](#t6)\n",
    "\n",
    "[Reference](#t7)"
   ]
  },
  {
   "cell_type": "code",
   "execution_count": 1,
   "metadata": {
    "execution": {
     "iopub.execute_input": "2022-09-20T01:56:44.607467Z",
     "iopub.status.busy": "2022-09-20T01:56:44.606941Z",
     "iopub.status.idle": "2022-09-20T01:56:45.034606Z",
     "shell.execute_reply": "2022-09-20T01:56:45.033781Z",
     "shell.execute_reply.started": "2022-09-20T01:56:44.607421Z"
    },
    "id": "icwUQ-bJjiaj",
    "outputId": "d2b4244a-09cf-43af-e2a6-9e234e68d005"
   },
   "outputs": [],
   "source": [
    "import pandas as pd\n",
    "import numpy as np\n",
    "import statsmodels.api as sm\n",
    "import seaborn as sns\n",
    "import graphviz\n",
    "import matplotlib.pyplot as plt\n",
    "from sklearn import metrics\n",
    "from sklearn import preprocessing\n",
    "from sklearn.feature_selection import VarianceThreshold,RFECV\n",
    "from sklearn.inspection import permutation_importance\n",
    "from sklearn.neighbors import KNeighborsClassifier\n",
    "from sklearn.linear_model import LogisticRegressionCV\n",
    "from sklearn.ensemble import RandomForestClassifier\n",
    "from sklearn.model_selection import train_test_split, cross_val_score, cross_val_predict,RepeatedStratifiedKFold,StratifiedKFold\n",
    "from imblearn.over_sampling import SMOTE\n",
    "\n",
    "pd.options.mode.chained_assignment = None\n",
    "pd.set_option(\"display.max_colwidth\", None)\n",
    "plt.style.use('bmh')\n"
   ]
  },
  {
   "cell_type": "markdown",
   "metadata": {},
   "source": [
    "<a id='t1'></a>\n",
    "## Take a peek at the dataset"
   ]
  },
  {
   "cell_type": "code",
   "execution_count": 2,
   "metadata": {},
   "outputs": [],
   "source": [
    "train_path = '../data/crunchbase_train.csv'\n",
    "test_path = '../data/crunchbase_test.csv'\n",
    "train_pd = pd.read_csv(train_path)\n",
    "test_pd = pd.read_csv(test_path)"
   ]
  },
  {
   "cell_type": "code",
   "execution_count": 3,
   "metadata": {},
   "outputs": [
    {
     "data": {
      "text/html": [
       "<div>\n",
       "<style scoped>\n",
       "    .dataframe tbody tr th:only-of-type {\n",
       "        vertical-align: middle;\n",
       "    }\n",
       "\n",
       "    .dataframe tbody tr th {\n",
       "        vertical-align: top;\n",
       "    }\n",
       "\n",
       "    .dataframe thead th {\n",
       "        text-align: right;\n",
       "    }\n",
       "</style>\n",
       "<table border=\"1\" class=\"dataframe\">\n",
       "  <thead>\n",
       "    <tr style=\"text-align: right;\">\n",
       "      <th></th>\n",
       "      <th>name</th>\n",
       "      <th>market</th>\n",
       "      <th>funding_total_usd</th>\n",
       "      <th>country_code</th>\n",
       "      <th>region</th>\n",
       "      <th>city</th>\n",
       "      <th>funding_rounds</th>\n",
       "      <th>founded_month</th>\n",
       "      <th>founded_quarter</th>\n",
       "      <th>founded_year</th>\n",
       "      <th>...</th>\n",
       "      <th>round_C</th>\n",
       "      <th>round_D</th>\n",
       "      <th>round_E</th>\n",
       "      <th>round_F</th>\n",
       "      <th>round_G</th>\n",
       "      <th>round_H</th>\n",
       "      <th>age_first_funding</th>\n",
       "      <th>age_last_funding</th>\n",
       "      <th>status_binary</th>\n",
       "      <th>total_investment</th>\n",
       "    </tr>\n",
       "  </thead>\n",
       "  <tbody>\n",
       "    <tr>\n",
       "      <th>0</th>\n",
       "      <td>1000memories</td>\n",
       "      <td>Curated Web</td>\n",
       "      <td>25,35,000</td>\n",
       "      <td>USA</td>\n",
       "      <td>SF Bay Area</td>\n",
       "      <td>San Francisco</td>\n",
       "      <td>2.0</td>\n",
       "      <td>7.0</td>\n",
       "      <td>3.0</td>\n",
       "      <td>2010.0</td>\n",
       "      <td>...</td>\n",
       "      <td>0.0</td>\n",
       "      <td>0.0</td>\n",
       "      <td>0.0</td>\n",
       "      <td>0.0</td>\n",
       "      <td>0.0</td>\n",
       "      <td>0.0</td>\n",
       "      <td>0.00000</td>\n",
       "      <td>0.630137</td>\n",
       "      <td>1</td>\n",
       "      <td>2535000.0</td>\n",
       "    </tr>\n",
       "    <tr>\n",
       "      <th>1</th>\n",
       "      <td>10BestThings</td>\n",
       "      <td>Curated Web</td>\n",
       "      <td>50,000</td>\n",
       "      <td>USA</td>\n",
       "      <td>Cleveland</td>\n",
       "      <td>Cleveland</td>\n",
       "      <td>1.0</td>\n",
       "      <td>4.0</td>\n",
       "      <td>2.0</td>\n",
       "      <td>2009.0</td>\n",
       "      <td>...</td>\n",
       "      <td>0.0</td>\n",
       "      <td>0.0</td>\n",
       "      <td>0.0</td>\n",
       "      <td>0.0</td>\n",
       "      <td>0.0</td>\n",
       "      <td>0.0</td>\n",
       "      <td>0.00000</td>\n",
       "      <td>0.000000</td>\n",
       "      <td>0</td>\n",
       "      <td>50000.0</td>\n",
       "    </tr>\n",
       "    <tr>\n",
       "      <th>2</th>\n",
       "      <td>1bib</td>\n",
       "      <td>Curated Web</td>\n",
       "      <td>-</td>\n",
       "      <td>CHN</td>\n",
       "      <td>Guangzhou</td>\n",
       "      <td>Guangzhou</td>\n",
       "      <td>1.0</td>\n",
       "      <td>1.0</td>\n",
       "      <td>1.0</td>\n",
       "      <td>2006.0</td>\n",
       "      <td>...</td>\n",
       "      <td>0.0</td>\n",
       "      <td>0.0</td>\n",
       "      <td>0.0</td>\n",
       "      <td>0.0</td>\n",
       "      <td>0.0</td>\n",
       "      <td>0.0</td>\n",
       "      <td>2.10137</td>\n",
       "      <td>2.101370</td>\n",
       "      <td>0</td>\n",
       "      <td>0.0</td>\n",
       "    </tr>\n",
       "    <tr>\n",
       "      <th>3</th>\n",
       "      <td>1Cast</td>\n",
       "      <td>Other</td>\n",
       "      <td>-</td>\n",
       "      <td>USA</td>\n",
       "      <td>Seattle</td>\n",
       "      <td>Kirkland</td>\n",
       "      <td>1.0</td>\n",
       "      <td>6.0</td>\n",
       "      <td>2.0</td>\n",
       "      <td>2006.0</td>\n",
       "      <td>...</td>\n",
       "      <td>0.0</td>\n",
       "      <td>0.0</td>\n",
       "      <td>0.0</td>\n",
       "      <td>0.0</td>\n",
       "      <td>0.0</td>\n",
       "      <td>0.0</td>\n",
       "      <td>2.20000</td>\n",
       "      <td>2.200000</td>\n",
       "      <td>0</td>\n",
       "      <td>0.0</td>\n",
       "    </tr>\n",
       "    <tr>\n",
       "      <th>4</th>\n",
       "      <td>1DayMakeover</td>\n",
       "      <td>E-Commerce</td>\n",
       "      <td>50,000</td>\n",
       "      <td>USA</td>\n",
       "      <td>Orange County, California</td>\n",
       "      <td>Santa Ana</td>\n",
       "      <td>1.0</td>\n",
       "      <td>6.0</td>\n",
       "      <td>2.0</td>\n",
       "      <td>2008.0</td>\n",
       "      <td>...</td>\n",
       "      <td>0.0</td>\n",
       "      <td>0.0</td>\n",
       "      <td>0.0</td>\n",
       "      <td>0.0</td>\n",
       "      <td>0.0</td>\n",
       "      <td>0.0</td>\n",
       "      <td>0.00000</td>\n",
       "      <td>0.000000</td>\n",
       "      <td>0</td>\n",
       "      <td>50000.0</td>\n",
       "    </tr>\n",
       "  </tbody>\n",
       "</table>\n",
       "<p>5 rows × 35 columns</p>\n",
       "</div>"
      ],
      "text/plain": [
       "           name        market funding_total_usd country_code  \\\n",
       "0  1000memories  Curated Web         25,35,000           USA   \n",
       "1  10BestThings  Curated Web            50,000           USA   \n",
       "2          1bib  Curated Web               -             CHN   \n",
       "3         1Cast         Other              -             USA   \n",
       "4  1DayMakeover   E-Commerce            50,000           USA   \n",
       "\n",
       "                      region           city  funding_rounds  founded_month  \\\n",
       "0                SF Bay Area  San Francisco             2.0            7.0   \n",
       "1                  Cleveland      Cleveland             1.0            4.0   \n",
       "2                  Guangzhou      Guangzhou             1.0            1.0   \n",
       "3                    Seattle       Kirkland             1.0            6.0   \n",
       "4  Orange County, California      Santa Ana             1.0            6.0   \n",
       "\n",
       "   founded_quarter  founded_year  ...  round_C  round_D  round_E  round_F  \\\n",
       "0              3.0        2010.0  ...      0.0      0.0      0.0      0.0   \n",
       "1              2.0        2009.0  ...      0.0      0.0      0.0      0.0   \n",
       "2              1.0        2006.0  ...      0.0      0.0      0.0      0.0   \n",
       "3              2.0        2006.0  ...      0.0      0.0      0.0      0.0   \n",
       "4              2.0        2008.0  ...      0.0      0.0      0.0      0.0   \n",
       "\n",
       "   round_G  round_H  age_first_funding  age_last_funding  status_binary  \\\n",
       "0      0.0      0.0            0.00000          0.630137              1   \n",
       "1      0.0      0.0            0.00000          0.000000              0   \n",
       "2      0.0      0.0            2.10137          2.101370              0   \n",
       "3      0.0      0.0            2.20000          2.200000              0   \n",
       "4      0.0      0.0            0.00000          0.000000              0   \n",
       "\n",
       "   total_investment  \n",
       "0         2535000.0  \n",
       "1           50000.0  \n",
       "2               0.0  \n",
       "3               0.0  \n",
       "4           50000.0  \n",
       "\n",
       "[5 rows x 35 columns]"
      ]
     },
     "execution_count": 3,
     "metadata": {},
     "output_type": "execute_result"
    }
   ],
   "source": [
    "train_pd.head()"
   ]
  },
  {
   "cell_type": "code",
   "execution_count": 4,
   "metadata": {},
   "outputs": [
    {
     "data": {
      "text/plain": [
       "Index(['name', 'market', 'funding_total_usd', 'country_code', 'region', 'city',\n",
       "       'funding_rounds', 'founded_month', 'founded_quarter', 'founded_year',\n",
       "       'seed', 'venture', 'equity_crowdfunding', 'undisclosed',\n",
       "       'convertible_note', 'debt_financing', 'angel', 'grant',\n",
       "       'private_equity', 'post_ipo_equity', 'post_ipo_debt',\n",
       "       'secondary_market', 'product_crowdfunding', 'round_A', 'round_B',\n",
       "       'round_C', 'round_D', 'round_E', 'round_F', 'round_G', 'round_H',\n",
       "       'age_first_funding', 'age_last_funding', 'status_binary',\n",
       "       'total_investment'],\n",
       "      dtype='object')"
      ]
     },
     "execution_count": 4,
     "metadata": {},
     "output_type": "execute_result"
    }
   ],
   "source": [
    "train_pd.columns"
   ]
  },
  {
   "cell_type": "markdown",
   "metadata": {},
   "source": [
    "### Acquired Vs Closed Ratio by Founded Year"
   ]
  },
  {
   "cell_type": "code",
   "execution_count": 5,
   "metadata": {},
   "outputs": [],
   "source": [
    "merge_pd = pd.concat([train_pd, test_pd], axis= 0)\n",
    "acquired_counts = pd.DataFrame(merge_pd[merge_pd.status_binary == 1].groupby(['founded_year'])['name'].count())\n",
    "closed_counts = pd.DataFrame(merge_pd[merge_pd.status_binary == 0].groupby(['founded_year'])['name'].count())"
   ]
  },
  {
   "cell_type": "code",
   "execution_count": 6,
   "metadata": {},
   "outputs": [],
   "source": [
    "total_pd = pd.merge(left = acquired_counts, right = closed_counts, left_on='founded_year', right_on='founded_year')\n",
    "total_pd.columns = ['acquired', 'closed']\n",
    "total_pd['ratio'] = total_pd.acquired/total_pd.closed"
   ]
  },
  {
   "cell_type": "code",
   "execution_count": 7,
   "metadata": {},
   "outputs": [
    {
     "data": {
      "image/png": "[encoded data removed]",
      "text/plain": [
       "<Figure size 800x400 with 1 Axes>"
      ]
     },
     "metadata": {},
     "output_type": "display_data"
    }
   ],
   "source": [
    "melt_pd = total_pd.reset_index().melt(id_vars='founded_year')\n",
    "bar_1 = melt_pd[melt_pd.variable.isin(['acquired', 'closed'])]\n",
    "bar_1['founded_year'] = bar_1['founded_year'].astype('int')\n",
    "plt.figure(figsize=(8, 4))\n",
    "sns.barplot(data=bar_1, x='founded_year', y='value', hue='variable')\n",
    "plt.ylabel('number of startups')\n",
    "plt.xticks(rotation=45)\n",
    "plt.title('Number of startups by founded year');"
   ]
  },
  {
   "cell_type": "code",
   "execution_count": 8,
   "metadata": {},
   "outputs": [
    {
     "data": {
      "image/png": "[encoded data removed]",
      "text/plain": [
       "<Figure size 800x400 with 1 Axes>"
      ]
     },
     "metadata": {},
     "output_type": "display_data"
    }
   ],
   "source": [
    "plt.figure(figsize=(8, 4))\n",
    "sns.lineplot(data=total_pd, x=total_pd.index, y=total_pd.ratio)\n",
    "plt.ylabel('ratio')\n",
    "plt.title('Acquired vs closed ratio');"
   ]
  },
  {
   "cell_type": "code",
   "execution_count": 9,
   "metadata": {},
   "outputs": [
    {
     "data": {
      "image/png": "[encoded data removed]",
      "text/plain": [
       "<Figure size 640x480 with 1 Axes>"
      ]
     },
     "metadata": {},
     "output_type": "display_data"
    }
   ],
   "source": [
    "plt.hist(np.log1p(merge_pd[merge_pd.status_binary==0]['total_investment']), bins=30, alpha=.7, label='closed')\n",
    "plt.hist(np.log1p(merge_pd[merge_pd.status_binary==1]['total_investment']), bins=30, alpha=.7, label='acquired')\n",
    "plt.legend()\n",
    "plt.ylabel('log(total_investment)')\n",
    "plt.title('Distribution of total investment');"
   ]
  },
  {
   "cell_type": "markdown",
   "metadata": {},
   "source": [
    "<a id='t4'></a>\n",
    "## Which metric should we use?"
   ]
  },
  {
   "cell_type": "markdown",
   "metadata": {},
   "source": [
    "- Conventionally, F1 (a combination of precisiona and recall) is used for classification tasks\n",
    "\n",
    "- In this case, we choose to focus on different metrics based on the clients we serve\n",
    "\n",
    "- **For investors and buyers** we focus on **precision** because the cost of **false positive** is high -- imagine if they make a proposal to acquire but end up failing at it, it will cost them billions in lawsuit; this is exactly what's happening on Elon Musk's twitter deal!\n",
    "\n",
    "- **For startup founders** we focus on **recall** because it costs them lots of effort if the model gives **false negative** prediction. They might easily give up on their amibitious goal even though it can be successful in the future!"
   ]
  },
  {
   "cell_type": "markdown",
   "metadata": {},
   "source": [
    "<a id='t2'></a>\n",
    "\n",
    "## Train an ML model using Autogluon"
   ]
  },
  {
   "cell_type": "code",
   "execution_count": 10,
   "metadata": {},
   "outputs": [],
   "source": [
    "from autogluon.tabular import TabularPredictor\n"
   ]
  },
  {
   "cell_type": "code",
   "execution_count": 11,
   "metadata": {},
   "outputs": [
    {
     "name": "stderr",
     "output_type": "stream",
     "text": [
      "No path specified. Models will be saved in: \"AutogluonModels/ag-20220930_022724/\"\n"
     ]
    }
   ],
   "source": [
    "estimator = TabularPredictor(label='status_binary', verbosity=1)"
   ]
  },
  {
   "cell_type": "code",
   "execution_count": 12,
   "metadata": {},
   "outputs": [],
   "source": [
    "## drop some unnessary columns\n",
    "drop_cols = [\n",
    "    'name', 'country_code', 'region', 'city',\n",
    "    'post_ipo_equity', 'post_ipo_debt',\n",
    "    'round_G', 'round_H','age_last_funding', 'funding_total_usd'\n",
    "]\n",
    "X_train = train_pd.drop(drop_cols, axis=1)\n",
    "X_test = test_pd.drop(drop_cols, axis=1)\n",
    "hyperparam = {'RF':{}, 'GBM':{}, 'XGB': {}}"
   ]
  },
  {
   "cell_type": "code",
   "execution_count": 13,
   "metadata": {},
   "outputs": [
    {
     "name": "stderr",
     "output_type": "stream",
     "text": [
      "AutoGluon infers your prediction problem is: 'binary' (because only two unique label-values observed).\n",
      "\tIf 'binary' is not the correct problem_type, please manually specify the problem_type parameter during predictor init (You may specify problem_type as one of: ['binary', 'multiclass', 'regression'])\n",
      "AutoGluon will gauge predictive performance using evaluation metric: 'accuracy'\n",
      "/Users/cassie/anaconda3/envs/pytorch/lib/python3.8/site-packages/xgboost/compat.py:36: FutureWarning: pandas.Int64Index is deprecated and will be removed from pandas in a future version. Use pandas.Index with the appropriate dtype instead.\n",
      "  from pandas import MultiIndex, Int64Index\n"
     ]
    },
    {
     "data": {
      "text/plain": [
       "<autogluon.tabular.predictor.predictor.TabularPredictor at 0x7f999d0b3850>"
      ]
     },
     "execution_count": 13,
     "metadata": {},
     "output_type": "execute_result"
    }
   ],
   "source": [
    "estimator.fit(train_data=X_train, tuning_data=X_test, hyperparameters=hyperparam)"
   ]
  },
  {
   "cell_type": "code",
   "execution_count": 14,
   "metadata": {},
   "outputs": [
    {
     "name": "stdout",
     "output_type": "stream",
     "text": [
      "                 model  score_val  pred_time_val  fit_time  pred_time_val_marginal  fit_time_marginal  stack_level  can_infer  fit_order\n",
      "0  WeightedEnsemble_L2   0.738693       0.011142  7.166007                0.001134           0.079239            2       True          4\n",
      "1             LightGBM   0.737018       0.003818  5.306924                0.003818           5.306924            1       True          1\n",
      "2              XGBoost   0.718593       0.006190  1.779844                0.006190           1.779844            1       True          3\n",
      "3         RandomForest   0.693467       0.049442  0.404277                0.049442           0.404277            1       True          2\n"
     ]
    }
   ],
   "source": [
    "lb = estimator.leaderboard()"
   ]
  },
  {
   "cell_type": "code",
   "execution_count": 15,
   "metadata": {},
   "outputs": [
    {
     "data": {
      "text/html": [
       "<div>\n",
       "<style scoped>\n",
       "    .dataframe tbody tr th:only-of-type {\n",
       "        vertical-align: middle;\n",
       "    }\n",
       "\n",
       "    .dataframe tbody tr th {\n",
       "        vertical-align: top;\n",
       "    }\n",
       "\n",
       "    .dataframe thead th {\n",
       "        text-align: right;\n",
       "    }\n",
       "</style>\n",
       "<table border=\"1\" class=\"dataframe\">\n",
       "  <thead>\n",
       "    <tr style=\"text-align: right;\">\n",
       "      <th></th>\n",
       "      <th>model</th>\n",
       "      <th>score_val</th>\n",
       "      <th>pred_time_val</th>\n",
       "      <th>fit_time</th>\n",
       "      <th>pred_time_val_marginal</th>\n",
       "      <th>fit_time_marginal</th>\n",
       "      <th>stack_level</th>\n",
       "      <th>can_infer</th>\n",
       "      <th>fit_order</th>\n",
       "    </tr>\n",
       "  </thead>\n",
       "  <tbody>\n",
       "    <tr>\n",
       "      <th>0</th>\n",
       "      <td>WeightedEnsemble_L2</td>\n",
       "      <td>0.738693</td>\n",
       "      <td>0.011142</td>\n",
       "      <td>7.166007</td>\n",
       "      <td>0.001134</td>\n",
       "      <td>0.079239</td>\n",
       "      <td>2</td>\n",
       "      <td>True</td>\n",
       "      <td>4</td>\n",
       "    </tr>\n",
       "    <tr>\n",
       "      <th>1</th>\n",
       "      <td>LightGBM</td>\n",
       "      <td>0.737018</td>\n",
       "      <td>0.003818</td>\n",
       "      <td>5.306924</td>\n",
       "      <td>0.003818</td>\n",
       "      <td>5.306924</td>\n",
       "      <td>1</td>\n",
       "      <td>True</td>\n",
       "      <td>1</td>\n",
       "    </tr>\n",
       "    <tr>\n",
       "      <th>2</th>\n",
       "      <td>XGBoost</td>\n",
       "      <td>0.718593</td>\n",
       "      <td>0.006190</td>\n",
       "      <td>1.779844</td>\n",
       "      <td>0.006190</td>\n",
       "      <td>1.779844</td>\n",
       "      <td>1</td>\n",
       "      <td>True</td>\n",
       "      <td>3</td>\n",
       "    </tr>\n",
       "    <tr>\n",
       "      <th>3</th>\n",
       "      <td>RandomForest</td>\n",
       "      <td>0.693467</td>\n",
       "      <td>0.049442</td>\n",
       "      <td>0.404277</td>\n",
       "      <td>0.049442</td>\n",
       "      <td>0.404277</td>\n",
       "      <td>1</td>\n",
       "      <td>True</td>\n",
       "      <td>2</td>\n",
       "    </tr>\n",
       "  </tbody>\n",
       "</table>\n",
       "</div>"
      ],
      "text/plain": [
       "                 model  score_val  pred_time_val  fit_time  \\\n",
       "0  WeightedEnsemble_L2   0.738693       0.011142  7.166007   \n",
       "1             LightGBM   0.737018       0.003818  5.306924   \n",
       "2              XGBoost   0.718593       0.006190  1.779844   \n",
       "3         RandomForest   0.693467       0.049442  0.404277   \n",
       "\n",
       "   pred_time_val_marginal  fit_time_marginal  stack_level  can_infer  \\\n",
       "0                0.001134           0.079239            2       True   \n",
       "1                0.003818           5.306924            1       True   \n",
       "2                0.006190           1.779844            1       True   \n",
       "3                0.049442           0.404277            1       True   \n",
       "\n",
       "   fit_order  \n",
       "0          4  \n",
       "1          1  \n",
       "2          3  \n",
       "3          2  "
      ]
     },
     "execution_count": 15,
     "metadata": {},
     "output_type": "execute_result"
    }
   ],
   "source": [
    "lb"
   ]
  },
  {
   "cell_type": "code",
   "execution_count": 16,
   "metadata": {},
   "outputs": [
    {
     "data": {
      "text/plain": [
       "0    WeightedEnsemble_L2\n",
       "1               LightGBM\n",
       "2                XGBoost\n",
       "3           RandomForest\n",
       "Name: model, dtype: object"
      ]
     },
     "execution_count": 16,
     "metadata": {},
     "output_type": "execute_result"
    }
   ],
   "source": [
    "lb['model']"
   ]
  },
  {
   "cell_type": "code",
   "execution_count": 17,
   "metadata": {},
   "outputs": [],
   "source": [
    "y_test = X_test[\"status_binary\"]\n",
    "# Drop label col for prediction.\n",
    "test_data_nolab = X_test.drop(\"status_binary\", axis=1)"
   ]
  },
  {
   "cell_type": "code",
   "execution_count": 18,
   "metadata": {},
   "outputs": [],
   "source": [
    "y_pred_1 = estimator.predict(model='WeightedEnsemble_L2', data=test_data_nolab)\n",
    "y_pred_2 = estimator.predict(model='LightGBM', data=test_data_nolab)\n",
    "y_pred_3 = estimator.predict(model='XGBoost', data=test_data_nolab)\n",
    "y_pred_4 = estimator.predict(model='RandomForest', data=test_data_nolab)"
   ]
  },
  {
   "cell_type": "code",
   "execution_count": 19,
   "metadata": {},
   "outputs": [],
   "source": [
    "from sklearn.metrics import confusion_matrix, plot_confusion_matrix, precision_score, recall_score, accuracy_score"
   ]
  },
  {
   "cell_type": "code",
   "execution_count": 20,
   "metadata": {},
   "outputs": [],
   "source": [
    "def eval_model_perf( y_test, y_pred, plot=False, results=False):\n",
    "    \"\"\"\n",
    "    evaluating on accuracy, precision, recall\n",
    "    plot confusion matrix\n",
    "    \"\"\"\n",
    "    \n",
    "    base_acc = accuracy_score(y_test, y_pred)\n",
    "\n",
    "    print(f\"Accuracy: {base_acc:.1%}\")\n",
    "    #print(class_acc_str)\n",
    "\n",
    "    preci = precision_score(y_test, y_pred)\n",
    "    reca = recall_score(y_test, y_pred)\n",
    "    print(f\"Precision: {preci: .3f}\")\n",
    "    print(f\"Recall: {reca: .3f}\")\n",
    "    \n",
    "    if plot:\n",
    "        columns=[ 'Closed', 'Acquired']\n",
    "        df_cm = pd.DataFrame(matrix, index=columns, columns=columns)\n",
    "        plt.figure(figsize=(3,3))\n",
    "        ax = sns.heatmap(df_cm, cmap='Oranges', annot=True, fmt='g')\n",
    "        plt.xlabel('Predicted')\n",
    "        plt.ylabel('Actual')\n",
    "        plt.show()\n",
    "    if results:\n",
    "        return (preci, reca, base_acc)"
   ]
  },
  {
   "cell_type": "code",
   "execution_count": 21,
   "metadata": {},
   "outputs": [
    {
     "name": "stdout",
     "output_type": "stream",
     "text": [
      "Accuracy: 73.9%\n",
      "Precision:  0.749\n",
      "Recall:  0.692\n",
      "Accuracy: 73.7%\n",
      "Precision:  0.746\n",
      "Recall:  0.692\n",
      "Accuracy: 71.9%\n",
      "Precision:  0.810\n",
      "Recall:  0.547\n",
      "Accuracy: 69.3%\n",
      "Precision:  0.757\n",
      "Recall:  0.540\n"
     ]
    }
   ],
   "source": [
    "pre1, reca1, acc1= eval_model_perf(y_test, y_pred_1, results = True)\n",
    "pre2, reca2, acc2 = eval_model_perf(y_test, y_pred_2, results = True)\n",
    "pre3, reca3, acc3 = eval_model_perf(y_test, y_pred_3, results = True)\n",
    "pre4, reca4, acc4 = eval_model_perf(y_test, y_pred_4, results = True)"
   ]
  },
  {
   "cell_type": "code",
   "execution_count": 22,
   "metadata": {},
   "outputs": [
    {
     "data": {
      "text/html": [
       "<div>\n",
       "<style scoped>\n",
       "    .dataframe tbody tr th:only-of-type {\n",
       "        vertical-align: middle;\n",
       "    }\n",
       "\n",
       "    .dataframe tbody tr th {\n",
       "        vertical-align: top;\n",
       "    }\n",
       "\n",
       "    .dataframe thead th {\n",
       "        text-align: right;\n",
       "    }\n",
       "</style>\n",
       "<table border=\"1\" class=\"dataframe\">\n",
       "  <thead>\n",
       "    <tr style=\"text-align: right;\">\n",
       "      <th></th>\n",
       "      <th>model</th>\n",
       "      <th>accuracy</th>\n",
       "      <th>recall</th>\n",
       "      <th>precision</th>\n",
       "      <th>stack_level</th>\n",
       "      <th>fit order</th>\n",
       "    </tr>\n",
       "  </thead>\n",
       "  <tbody>\n",
       "    <tr>\n",
       "      <th>0</th>\n",
       "      <td>WeightedEnsemble_L2</td>\n",
       "      <td>0.738693</td>\n",
       "      <td>0.692042</td>\n",
       "      <td>0.749064</td>\n",
       "      <td>2</td>\n",
       "      <td>4</td>\n",
       "    </tr>\n",
       "    <tr>\n",
       "      <th>1</th>\n",
       "      <td>LightGBM</td>\n",
       "      <td>0.737018</td>\n",
       "      <td>0.692042</td>\n",
       "      <td>0.746269</td>\n",
       "      <td>1</td>\n",
       "      <td>1</td>\n",
       "    </tr>\n",
       "    <tr>\n",
       "      <th>2</th>\n",
       "      <td>XGBoost</td>\n",
       "      <td>0.718593</td>\n",
       "      <td>0.546713</td>\n",
       "      <td>0.810256</td>\n",
       "      <td>1</td>\n",
       "      <td>3</td>\n",
       "    </tr>\n",
       "    <tr>\n",
       "      <th>3</th>\n",
       "      <td>RandomForest</td>\n",
       "      <td>0.693467</td>\n",
       "      <td>0.539792</td>\n",
       "      <td>0.757282</td>\n",
       "      <td>1</td>\n",
       "      <td>2</td>\n",
       "    </tr>\n",
       "  </tbody>\n",
       "</table>\n",
       "</div>"
      ],
      "text/plain": [
       "                 model  accuracy    recall  precision  stack_level  fit order\n",
       "0  WeightedEnsemble_L2  0.738693  0.692042   0.749064            2          4\n",
       "1             LightGBM  0.737018  0.692042   0.746269            1          1\n",
       "2              XGBoost  0.718593  0.546713   0.810256            1          3\n",
       "3         RandomForest  0.693467  0.539792   0.757282            1          2"
      ]
     },
     "execution_count": 22,
     "metadata": {},
     "output_type": "execute_result"
    }
   ],
   "source": [
    "pd.DataFrame({'model': lb['model'], 'accuracy': [acc1,acc2,acc3,acc4], \\\n",
    "             'recall':[reca1,reca2, reca3,reca4], 'precision':[pre1, pre2, pre3, pre4],\\\n",
    "             'stack_level': lb.stack_level, 'fit order': lb.fit_order})"
   ]
  },
  {
   "cell_type": "markdown",
   "metadata": {},
   "source": [
    "### Computer Overall Accuracies and Confusion Matrix"
   ]
  },
  {
   "cell_type": "code",
   "execution_count": 23,
   "metadata": {},
   "outputs": [],
   "source": [
    "from sklearn.metrics import confusion_matrix, plot_confusion_matrix, precision_score, recall_score"
   ]
  },
  {
   "cell_type": "code",
   "execution_count": 24,
   "metadata": {},
   "outputs": [],
   "source": [
    "# Get labels.\n",
    "y_test = X_test[\"status_binary\"]\n",
    "# Drop label col for prediction.\n",
    "test_data_nolab = X_test.drop(\"status_binary\", axis=1)\n",
    "# Make prediction and evaluate performance\n",
    "y_pred = estimator.predict(test_data_nolab)\n",
    "perf = estimator.evaluate_predictions(\n",
    "    y_true=y_test, y_pred=y_pred, auxiliary_metrics=True\n",
    ")\n",
    "\n",
    "def eval_model_perf_2(perf, y_test, y_pred, plot=False, results=False):\n",
    "    \"\"\"\n",
    "    evaluating on accuracy, precision, recall\n",
    "    plot confusion matrix\n",
    "    \"\"\"\n",
    "    \n",
    "    base_acc = perf[\"accuracy\"]\n",
    "    matrix = confusion_matrix(y_test, y_pred)\n",
    "    # Per-class accuracies are important!\n",
    "    class_acc = matrix.diagonal() / matrix.sum(axis=1)\n",
    "    class_acc_str = [f\"{acc:0.1%}\" for acc in class_acc]\n",
    "\n",
    "    print(f\"Accuracy: {base_acc:.1%}\")\n",
    "    print(class_acc_str)\n",
    "\n",
    "    preci = precision_score(y_test, y_pred)\n",
    "    reca = recall_score(y_test, y_pred)\n",
    "    print(f\"Precision: {preci: .3f}\")\n",
    "    print(f\"Recall: {reca: .3f}\")\n",
    "    \n",
    "    if plot:\n",
    "        columns=[ 'Closed', 'Acquired']\n",
    "        df_cm = pd.DataFrame(matrix, index=columns, columns=columns)\n",
    "        plt.figure(figsize=(3,3))\n",
    "        ax = sns.heatmap(df_cm, cmap='Oranges', annot=True, fmt='g')\n",
    "        plt.xlabel('Predicted')\n",
    "        plt.ylabel('Actual')\n",
    "        plt.show()\n",
    "    if results:\n",
    "        return (preci, reca, base_acc)"
   ]
  },
  {
   "cell_type": "code",
   "execution_count": 25,
   "metadata": {},
   "outputs": [
    {
     "name": "stdout",
     "output_type": "stream",
     "text": [
      "Accuracy: 73.9%\n",
      "['78.2%', '69.2%']\n",
      "Precision:  0.749\n",
      "Recall:  0.692\n"
     ]
    },
    {
     "data": {
      "image/png": "[encoded data removed]",
      "text/plain": [
       "<Figure size 300x300 with 2 Axes>"
      ]
     },
     "metadata": {},
     "output_type": "display_data"
    }
   ],
   "source": [
    "origin_prec, origin_reca, origin_accu= eval_model_perf_2(perf, y_test, y_pred, plot=True, results=True)"
   ]
  },
  {
   "cell_type": "markdown",
   "metadata": {},
   "source": [
    "<a id='t3'></a>\n",
    "## Using `cleanlab` to identify outliers"
   ]
  },
  {
   "cell_type": "code",
   "execution_count": 26,
   "metadata": {},
   "outputs": [],
   "source": [
    "from cleanlab.outlier import OutOfDistribution\n",
    "from cleanlab.rank import find_top_issues"
   ]
  },
  {
   "cell_type": "code",
   "execution_count": 27,
   "metadata": {},
   "outputs": [],
   "source": [
    "del estimator"
   ]
  },
  {
   "cell_type": "code",
   "execution_count": 28,
   "metadata": {},
   "outputs": [],
   "source": [
    "def get_pred_probs(X_train, X_test, label='status_binary'):\n",
    "    \"\"\"Uses cross-validation to obtain out-of-sample predicted probabilities\n",
    "    for our entire dataset\"\"\"\n",
    "\n",
    "    hyperparameters = {\n",
    "        'RF':{},\n",
    "        'GBM':{},\n",
    "        'XGB':{}\n",
    "    }\n",
    "    num_examples, num_classes = X_train.shape[0], len(X_train[label].value_counts())\n",
    "    skf = StratifiedKFold()\n",
    "    skf_splits = [\n",
    "        [train_index, test_index]\n",
    "        for train_index, test_index in skf.split(X=X_train, y=X_train[label])\n",
    "    ]\n",
    "    pred_probs = pd.DataFrame(\n",
    "        np.zeros((num_examples, num_classes)),\n",
    "        columns=['Closed', 'Acquired'],\n",
    "    )\n",
    "\n",
    "    # Iterate through cross-validation folds\n",
    "    for split_num, split in enumerate(skf_splits):\n",
    "        train_index, val_index = split\n",
    "        train_data_subset = X_train.iloc[train_index]\n",
    "        validation_data = X_train.iloc[val_index]\n",
    "        predictor = TabularPredictor(label=label, verbosity=0)\n",
    "        predictor.fit(\n",
    "            train_data_subset,\n",
    "            tuning_data=validation_data,\n",
    "            hyperparameters=hyperparameters,\n",
    "        )\n",
    "        pred_probs_fold = predictor.predict_proba(validation_data, as_pandas=True)\n",
    "        pred_probs.iloc[val_index] = pred_probs_fold\n",
    "        del pred_probs_fold\n",
    "    return pred_probs.values\n",
    "# Out-of-sample predicted probabilities\n",
    "pred_probs = get_pred_probs(X_train, X_test)"
   ]
  },
  {
   "cell_type": "code",
   "execution_count": 29,
   "metadata": {},
   "outputs": [
    {
     "name": "stdout",
     "output_type": "stream",
     "text": [
      "Fitting OOD estimator based on provided pred_probs ...\n"
     ]
    }
   ],
   "source": [
    "ood = OutOfDistribution()\n",
    "true_label = X_train['status_binary']\n",
    "# To get outlier scores for train_data using predicted class probabilities (from a trained classifier) and given class labels\n",
    "ood_train_predictions_scores = ood.fit_score(pred_probs=pred_probs, labels=true_label)"
   ]
  },
  {
   "cell_type": "code",
   "execution_count": 30,
   "metadata": {},
   "outputs": [],
   "source": [
    "top_train_ood_prediction_idxs = find_top_issues(quality_scores=ood_train_predictions_scores, top=600)"
   ]
  },
  {
   "cell_type": "code",
   "execution_count": 31,
   "metadata": {},
   "outputs": [
    {
     "data": {
      "text/html": [
       "<div>\n",
       "<style scoped>\n",
       "    .dataframe tbody tr th:only-of-type {\n",
       "        vertical-align: middle;\n",
       "    }\n",
       "\n",
       "    .dataframe tbody tr th {\n",
       "        vertical-align: top;\n",
       "    }\n",
       "\n",
       "    .dataframe thead th {\n",
       "        text-align: right;\n",
       "    }\n",
       "</style>\n",
       "<table border=\"1\" class=\"dataframe\">\n",
       "  <thead>\n",
       "    <tr style=\"text-align: right;\">\n",
       "      <th></th>\n",
       "      <th>name</th>\n",
       "      <th>market</th>\n",
       "      <th>funding_total_usd</th>\n",
       "      <th>country_code</th>\n",
       "      <th>region</th>\n",
       "      <th>city</th>\n",
       "      <th>funding_rounds</th>\n",
       "      <th>founded_month</th>\n",
       "      <th>founded_quarter</th>\n",
       "      <th>founded_year</th>\n",
       "      <th>...</th>\n",
       "      <th>round_C</th>\n",
       "      <th>round_D</th>\n",
       "      <th>round_E</th>\n",
       "      <th>round_F</th>\n",
       "      <th>round_G</th>\n",
       "      <th>round_H</th>\n",
       "      <th>age_first_funding</th>\n",
       "      <th>age_last_funding</th>\n",
       "      <th>status_binary</th>\n",
       "      <th>total_investment</th>\n",
       "    </tr>\n",
       "  </thead>\n",
       "  <tbody>\n",
       "    <tr>\n",
       "      <th>963</th>\n",
       "      <td>Flextrip</td>\n",
       "      <td>Finance</td>\n",
       "      <td>3,50,000</td>\n",
       "      <td>USA</td>\n",
       "      <td>Denver</td>\n",
       "      <td>Boulder</td>\n",
       "      <td>2.0</td>\n",
       "      <td>9.0</td>\n",
       "      <td>3.0</td>\n",
       "      <td>2010.0</td>\n",
       "      <td>...</td>\n",
       "      <td>0.0</td>\n",
       "      <td>0.0</td>\n",
       "      <td>0.0</td>\n",
       "      <td>0.0</td>\n",
       "      <td>0.0</td>\n",
       "      <td>0.0</td>\n",
       "      <td>0.915068</td>\n",
       "      <td>1.167123</td>\n",
       "      <td>1</td>\n",
       "      <td>350000.0</td>\n",
       "    </tr>\n",
       "    <tr>\n",
       "      <th>625</th>\n",
       "      <td>CoTweet</td>\n",
       "      <td>Other</td>\n",
       "      <td>11,00,000</td>\n",
       "      <td>USA</td>\n",
       "      <td>SF Bay Area</td>\n",
       "      <td>San Francisco</td>\n",
       "      <td>1.0</td>\n",
       "      <td>1.0</td>\n",
       "      <td>1.0</td>\n",
       "      <td>2009.0</td>\n",
       "      <td>...</td>\n",
       "      <td>0.0</td>\n",
       "      <td>0.0</td>\n",
       "      <td>0.0</td>\n",
       "      <td>0.0</td>\n",
       "      <td>0.0</td>\n",
       "      <td>0.0</td>\n",
       "      <td>0.517808</td>\n",
       "      <td>0.517808</td>\n",
       "      <td>1</td>\n",
       "      <td>1100000.0</td>\n",
       "    </tr>\n",
       "    <tr>\n",
       "      <th>2691</th>\n",
       "      <td>Summify</td>\n",
       "      <td>Other</td>\n",
       "      <td>-</td>\n",
       "      <td>CAN</td>\n",
       "      <td>Vancouver</td>\n",
       "      <td>Vancouver</td>\n",
       "      <td>3.0</td>\n",
       "      <td>11.0</td>\n",
       "      <td>4.0</td>\n",
       "      <td>2009.0</td>\n",
       "      <td>...</td>\n",
       "      <td>0.0</td>\n",
       "      <td>0.0</td>\n",
       "      <td>0.0</td>\n",
       "      <td>0.0</td>\n",
       "      <td>0.0</td>\n",
       "      <td>0.0</td>\n",
       "      <td>0.375342</td>\n",
       "      <td>1.408219</td>\n",
       "      <td>1</td>\n",
       "      <td>0.0</td>\n",
       "    </tr>\n",
       "    <tr>\n",
       "      <th>1863</th>\n",
       "      <td>Netbyte Hosting</td>\n",
       "      <td>Web Hosting</td>\n",
       "      <td>25,00,000</td>\n",
       "      <td>USA</td>\n",
       "      <td>Boston</td>\n",
       "      <td>Newton Center</td>\n",
       "      <td>1.0</td>\n",
       "      <td>10.0</td>\n",
       "      <td>4.0</td>\n",
       "      <td>2005.0</td>\n",
       "      <td>...</td>\n",
       "      <td>0.0</td>\n",
       "      <td>0.0</td>\n",
       "      <td>0.0</td>\n",
       "      <td>0.0</td>\n",
       "      <td>0.0</td>\n",
       "      <td>0.0</td>\n",
       "      <td>4.169863</td>\n",
       "      <td>4.169863</td>\n",
       "      <td>0</td>\n",
       "      <td>2500000.0</td>\n",
       "    </tr>\n",
       "    <tr>\n",
       "      <th>1116</th>\n",
       "      <td>GotVoice</td>\n",
       "      <td>Messaging</td>\n",
       "      <td>30,00,000</td>\n",
       "      <td>USA</td>\n",
       "      <td>Seattle</td>\n",
       "      <td>Kirkland</td>\n",
       "      <td>1.0</td>\n",
       "      <td>10.0</td>\n",
       "      <td>4.0</td>\n",
       "      <td>2003.0</td>\n",
       "      <td>...</td>\n",
       "      <td>0.0</td>\n",
       "      <td>0.0</td>\n",
       "      <td>0.0</td>\n",
       "      <td>0.0</td>\n",
       "      <td>0.0</td>\n",
       "      <td>0.0</td>\n",
       "      <td>3.068493</td>\n",
       "      <td>3.068493</td>\n",
       "      <td>1</td>\n",
       "      <td>3000000.0</td>\n",
       "    </tr>\n",
       "  </tbody>\n",
       "</table>\n",
       "<p>5 rows × 35 columns</p>\n",
       "</div>"
      ],
      "text/plain": [
       "                 name        market funding_total_usd country_code  \\\n",
       "963          Flextrip      Finance          3,50,000           USA   \n",
       "625           CoTweet         Other        11,00,000           USA   \n",
       "2691          Summify         Other              -             CAN   \n",
       "1863  Netbyte Hosting  Web Hosting         25,00,000           USA   \n",
       "1116         GotVoice    Messaging         30,00,000           USA   \n",
       "\n",
       "           region           city  funding_rounds  founded_month  \\\n",
       "963        Denver        Boulder             2.0            9.0   \n",
       "625   SF Bay Area  San Francisco             1.0            1.0   \n",
       "2691    Vancouver      Vancouver             3.0           11.0   \n",
       "1863       Boston  Newton Center             1.0           10.0   \n",
       "1116      Seattle       Kirkland             1.0           10.0   \n",
       "\n",
       "      founded_quarter  founded_year  ...  round_C  round_D  round_E  round_F  \\\n",
       "963               3.0        2010.0  ...      0.0      0.0      0.0      0.0   \n",
       "625               1.0        2009.0  ...      0.0      0.0      0.0      0.0   \n",
       "2691              4.0        2009.0  ...      0.0      0.0      0.0      0.0   \n",
       "1863              4.0        2005.0  ...      0.0      0.0      0.0      0.0   \n",
       "1116              4.0        2003.0  ...      0.0      0.0      0.0      0.0   \n",
       "\n",
       "      round_G  round_H  age_first_funding  age_last_funding  status_binary  \\\n",
       "963       0.0      0.0           0.915068          1.167123              1   \n",
       "625       0.0      0.0           0.517808          0.517808              1   \n",
       "2691      0.0      0.0           0.375342          1.408219              1   \n",
       "1863      0.0      0.0           4.169863          4.169863              0   \n",
       "1116      0.0      0.0           3.068493          3.068493              1   \n",
       "\n",
       "      total_investment  \n",
       "963           350000.0  \n",
       "625          1100000.0  \n",
       "2691               0.0  \n",
       "1863         2500000.0  \n",
       "1116         3000000.0  \n",
       "\n",
       "[5 rows x 35 columns]"
      ]
     },
     "execution_count": 31,
     "metadata": {},
     "output_type": "execute_result"
    }
   ],
   "source": [
    "train_pd.iloc[top_train_ood_prediction_idxs[:5],:]"
   ]
  },
  {
   "cell_type": "markdown",
   "metadata": {},
   "source": [
    "<a id='t5'></a>\n",
    "## Building better models with cleaner dataset"
   ]
  },
  {
   "cell_type": "code",
   "execution_count": 32,
   "metadata": {},
   "outputs": [
    {
     "name": "stdout",
     "output_type": "stream",
     "text": [
      "Accuracy: 73.7%\n",
      "['85.4%', '61.2%']\n",
      "Precision:  0.797\n",
      "Recall:  0.612\n",
      "Accuracy: 73.4%\n",
      "['82.5%', '63.7%']\n",
      "Precision:  0.773\n",
      "Recall:  0.637\n",
      "Accuracy: 74.2%\n",
      "['83.8%', '64.0%']\n",
      "Precision:  0.787\n",
      "Recall:  0.640\n",
      "Accuracy: 73.5%\n",
      "['70.5%', '76.8%']\n",
      "Precision:  0.709\n",
      "Recall:  0.768\n",
      "Accuracy: 73.7%\n",
      "['83.1%', '63.7%']\n",
      "Precision:  0.780\n",
      "Recall:  0.637\n",
      "Accuracy: 74.2%\n",
      "['85.4%', '62.3%']\n",
      "Precision:  0.800\n",
      "Recall:  0.623\n",
      "Accuracy: 73.9%\n",
      "['84.7%', '62.3%']\n",
      "Precision:  0.793\n",
      "Recall:  0.623\n",
      "Accuracy: 74.2%\n",
      "['74.4%', '74.0%']\n",
      "Precision:  0.730\n",
      "Recall:  0.740\n",
      "Accuracy: 73.9%\n",
      "['86.0%', '60.9%']\n",
      "Precision:  0.804\n",
      "Recall:  0.609\n",
      "Accuracy: 73.7%\n",
      "['83.1%', '63.7%']\n",
      "Precision:  0.780\n",
      "Recall:  0.637\n",
      "Accuracy: 74.0%\n",
      "['86.7%', '60.6%']\n",
      "Precision:  0.810\n",
      "Recall:  0.606\n",
      "Accuracy: 73.7%\n",
      "['85.4%', '61.2%']\n",
      "Precision:  0.797\n",
      "Recall:  0.612\n",
      "Accuracy: 73.5%\n",
      "['83.1%', '63.3%']\n",
      "Precision:  0.779\n",
      "Recall:  0.633\n",
      "Accuracy: 74.2%\n",
      "['85.1%', '62.6%']\n",
      "Precision:  0.797\n",
      "Recall:  0.626\n",
      "Accuracy: 74.0%\n",
      "['75.6%', '72.3%']\n",
      "Precision:  0.736\n",
      "Recall:  0.723\n",
      "Accuracy: 74.5%\n",
      "['75.6%', '73.4%']\n",
      "Precision:  0.739\n",
      "Recall:  0.734\n",
      "Accuracy: 74.7%\n",
      "['78.2%', '70.9%']\n",
      "Precision:  0.754\n",
      "Recall:  0.709\n",
      "Accuracy: 75.2%\n",
      "['77.6%', '72.7%']\n",
      "Precision:  0.753\n",
      "Recall:  0.727\n",
      "Accuracy: 75.0%\n",
      "['85.4%', '64.0%']\n",
      "Precision:  0.804\n",
      "Recall:  0.640\n",
      "Accuracy: 74.5%\n",
      "['76.9%', '72.0%']\n",
      "Precision:  0.746\n",
      "Recall:  0.720\n",
      "Accuracy: 74.7%\n",
      "['77.3%', '72.0%']\n",
      "Precision:  0.748\n",
      "Recall:  0.720\n",
      "Accuracy: 73.9%\n",
      "['74.0%', '73.7%']\n",
      "Precision:  0.727\n",
      "Recall:  0.737\n",
      "Accuracy: 74.5%\n",
      "['73.4%', '75.8%']\n",
      "Precision:  0.728\n",
      "Recall:  0.758\n",
      "Accuracy: 73.0%\n",
      "['78.2%', '67.5%']\n",
      "Precision:  0.744\n",
      "Recall:  0.675\n",
      "Accuracy: 72.4%\n",
      "['88.3%', '55.4%']\n",
      "Precision:  0.816\n",
      "Recall:  0.554\n",
      "Accuracy: 74.2%\n",
      "['87.7%', '59.9%']\n",
      "Precision:  0.820\n",
      "Recall:  0.599\n",
      "Accuracy: 75.5%\n",
      "['78.2%', '72.7%']\n",
      "Precision:  0.758\n",
      "Recall:  0.727\n",
      "Accuracy: 74.5%\n",
      "['85.7%', '62.6%']\n",
      "Precision:  0.804\n",
      "Recall:  0.626\n",
      "Accuracy: 75.9%\n",
      "['79.5%', '72.0%']\n",
      "Precision:  0.768\n",
      "Recall:  0.720\n",
      "Accuracy: 74.7%\n",
      "['79.5%', '69.6%']\n",
      "Precision:  0.761\n",
      "Recall:  0.696\n"
     ]
    }
   ],
   "source": [
    "prec_list = []\n",
    "drop_label_numbers = []\n",
    "recall_list = []\n",
    "accu_list = []\n",
    "for i in range(10, len(top_train_ood_prediction_idxs), 20):\n",
    "    # Remove error-prone labels from training set.\n",
    "    clean_train_data = X_train.drop(top_train_ood_prediction_idxs[:i])\n",
    "    #print(f\"drop labels: {i}\")\n",
    "    # Train the models with cleaned data (we are actually training with LESS data!)\n",
    "    predictor = TabularPredictor(label=\"status_binary\", verbosity=0)\n",
    "    predictor.fit(clean_train_data, tuning_data=X_test, hyperparameters=hyperparam)\n",
    "    \n",
    "    # Test model\n",
    "    y_true = X_test[\"status_binary\"]\n",
    "    test_data = X_test.drop(\"status_binary\", axis=1)\n",
    "    y_pred = predictor.predict(test_data)\n",
    "    perf = predictor.evaluate_predictions(\n",
    "        y_true=y_true, y_pred=y_pred, auxiliary_metrics=True\n",
    "    )\n",
    "    prec, reca, accu = eval_model_perf_2(perf, y_true, y_pred, results=True)\n",
    "    prec_list.append(prec)\n",
    "    recall_list.append(reca)\n",
    "    drop_label_numbers.append(i)\n",
    "    accu_list.append(accu)"
   ]
  },
  {
   "cell_type": "code",
   "execution_count": 33,
   "metadata": {},
   "outputs": [],
   "source": [
    "perf_pd = pd.DataFrame({'numbers': drop_label_numbers, 'precision': prec_list, 'recall': recall_list,\n",
    "                        'accuracy': accu_list})\n",
    "\n",
    "perf_pd['precision_changed'] = (perf_pd.precision-origin_prec)*100/origin_prec\n",
    "perf_pd['recall_changed'] =( perf_pd.recall-origin_reca)*100/origin_reca\n",
    "perf_pd['accuracy_changed'] = (perf_pd.accuracy-origin_accu)*100/origin_accu"
   ]
  },
  {
   "cell_type": "code",
   "execution_count": 34,
   "metadata": {},
   "outputs": [
    {
     "data": {
      "image/png": "[encoded data removed]",
      "text/plain": [
       "<Figure size 700x400 with 1 Axes>"
      ]
     },
     "metadata": {},
     "output_type": "display_data"
    }
   ],
   "source": [
    "plt.figure(figsize=(7, 4))\n",
    "plt.plot(drop_label_numbers, prec_list, label='precision')\n",
    "plt.plot(drop_label_numbers, recall_list, label='recall')\n",
    "#plt.plot(drop_label_numbers, accu_list, label='accuracy')\n",
    "\n",
    "plt.legend(bbox_to_anchor=(1.2, 1), loc='upper right', ncol=1)\n",
    "plt.xlabel('Numbers of Dropped Ouliers')\n",
    "plt.hlines(y=origin_prec, xmin=0, xmax=600, linestyles='--', color='deepskyblue', linewidth=1)\n",
    "plt.hlines(y=origin_reca, xmin=0, xmax=600, linestyles='--', color='darkred', linewidth=1)\n",
    "#plt.hlines(y=origin_accu, xmin=0, xmax=600, linestyles='--', color='black', linewidth=1)\n",
    "#plt.text(500, origin_accu-0.003, 'original_accuracy', **style)\n",
    "style = dict(size=10, color='gray')\n",
    "plt.text(550, 0.739, 'Original Precision w/o Cleanlab', size=10, color='deepskyblue')\n",
    "plt.text(550, 0.682, 'Original Recall w/o Cleanlab', size=10, color='darkred')\n",
    "plt.title('Performance of models after removing outliers');"
   ]
  },
  {
   "cell_type": "code",
   "execution_count": 35,
   "metadata": {},
   "outputs": [],
   "source": [
    "perf_pos = perf_pd[(perf_pd.precision_changed > 0 )& (perf_pd.recall_changed > 0) & (perf_pd.accuracy_changed >0)]"
   ]
  },
  {
   "cell_type": "code",
   "execution_count": 36,
   "metadata": {},
   "outputs": [
    {
     "data": {
      "text/html": [
       "<div>\n",
       "<style scoped>\n",
       "    .dataframe tbody tr th:only-of-type {\n",
       "        vertical-align: middle;\n",
       "    }\n",
       "\n",
       "    .dataframe tbody tr th {\n",
       "        vertical-align: top;\n",
       "    }\n",
       "\n",
       "    .dataframe thead th {\n",
       "        text-align: right;\n",
       "    }\n",
       "</style>\n",
       "<table border=\"1\" class=\"dataframe\">\n",
       "  <thead>\n",
       "    <tr style=\"text-align: right;\">\n",
       "      <th></th>\n",
       "      <th>numbers</th>\n",
       "      <th>precision</th>\n",
       "      <th>recall</th>\n",
       "      <th>accuracy</th>\n",
       "      <th>precision_changed</th>\n",
       "      <th>recall_changed</th>\n",
       "      <th>accuracy_changed</th>\n",
       "    </tr>\n",
       "  </thead>\n",
       "  <tbody>\n",
       "    <tr>\n",
       "      <th>16</th>\n",
       "      <td>330</td>\n",
       "      <td>0.753676</td>\n",
       "      <td>0.709343</td>\n",
       "      <td>0.747069</td>\n",
       "      <td>0.615809</td>\n",
       "      <td>2.5</td>\n",
       "      <td>1.133787</td>\n",
       "    </tr>\n",
       "    <tr>\n",
       "      <th>17</th>\n",
       "      <td>350</td>\n",
       "      <td>0.752688</td>\n",
       "      <td>0.726644</td>\n",
       "      <td>0.752094</td>\n",
       "      <td>0.483871</td>\n",
       "      <td>5.0</td>\n",
       "      <td>1.814059</td>\n",
       "    </tr>\n",
       "    <tr>\n",
       "      <th>26</th>\n",
       "      <td>530</td>\n",
       "      <td>0.758123</td>\n",
       "      <td>0.726644</td>\n",
       "      <td>0.755444</td>\n",
       "      <td>1.209386</td>\n",
       "      <td>5.0</td>\n",
       "      <td>2.267574</td>\n",
       "    </tr>\n",
       "    <tr>\n",
       "      <th>28</th>\n",
       "      <td>570</td>\n",
       "      <td>0.767528</td>\n",
       "      <td>0.719723</td>\n",
       "      <td>0.758794</td>\n",
       "      <td>2.464945</td>\n",
       "      <td>4.0</td>\n",
       "      <td>2.721088</td>\n",
       "    </tr>\n",
       "    <tr>\n",
       "      <th>29</th>\n",
       "      <td>590</td>\n",
       "      <td>0.761364</td>\n",
       "      <td>0.695502</td>\n",
       "      <td>0.747069</td>\n",
       "      <td>1.642045</td>\n",
       "      <td>0.5</td>\n",
       "      <td>1.133787</td>\n",
       "    </tr>\n",
       "  </tbody>\n",
       "</table>\n",
       "</div>"
      ],
      "text/plain": [
       "    numbers  precision    recall  accuracy  precision_changed  recall_changed  \\\n",
       "16      330   0.753676  0.709343  0.747069           0.615809             2.5   \n",
       "17      350   0.752688  0.726644  0.752094           0.483871             5.0   \n",
       "26      530   0.758123  0.726644  0.755444           1.209386             5.0   \n",
       "28      570   0.767528  0.719723  0.758794           2.464945             4.0   \n",
       "29      590   0.761364  0.695502  0.747069           1.642045             0.5   \n",
       "\n",
       "    accuracy_changed  \n",
       "16          1.133787  \n",
       "17          1.814059  \n",
       "26          2.267574  \n",
       "28          2.721088  \n",
       "29          1.133787  "
      ]
     },
     "execution_count": 36,
     "metadata": {},
     "output_type": "execute_result"
    }
   ],
   "source": [
    "perf_pos"
   ]
  },
  {
   "cell_type": "code",
   "execution_count": 37,
   "metadata": {},
   "outputs": [],
   "source": [
    "orig_pd = pd.DataFrame({'precision': [origin_prec], 'recall': [origin_reca], 'accuracy': [origin_accu]})"
   ]
  },
  {
   "cell_type": "code",
   "execution_count": 38,
   "metadata": {},
   "outputs": [],
   "source": [
    "comparison_pd = pd.concat([orig_pd, perf_pos[['precision', 'recall', 'accuracy']]], axis=0)"
   ]
  },
  {
   "cell_type": "code",
   "execution_count": 39,
   "metadata": {},
   "outputs": [
    {
     "data": {
      "text/html": [
       "<div>\n",
       "<style scoped>\n",
       "    .dataframe tbody tr th:only-of-type {\n",
       "        vertical-align: middle;\n",
       "    }\n",
       "\n",
       "    .dataframe tbody tr th {\n",
       "        vertical-align: top;\n",
       "    }\n",
       "\n",
       "    .dataframe thead th {\n",
       "        text-align: right;\n",
       "    }\n",
       "</style>\n",
       "<table border=\"1\" class=\"dataframe\">\n",
       "  <thead>\n",
       "    <tr style=\"text-align: right;\">\n",
       "      <th></th>\n",
       "      <th>precision</th>\n",
       "      <th>recall</th>\n",
       "      <th>accuracy</th>\n",
       "    </tr>\n",
       "  </thead>\n",
       "  <tbody>\n",
       "    <tr>\n",
       "      <th>0</th>\n",
       "      <td>0.749064</td>\n",
       "      <td>0.692042</td>\n",
       "      <td>0.738693</td>\n",
       "    </tr>\n",
       "    <tr>\n",
       "      <th>16</th>\n",
       "      <td>0.753676</td>\n",
       "      <td>0.709343</td>\n",
       "      <td>0.747069</td>\n",
       "    </tr>\n",
       "    <tr>\n",
       "      <th>17</th>\n",
       "      <td>0.752688</td>\n",
       "      <td>0.726644</td>\n",
       "      <td>0.752094</td>\n",
       "    </tr>\n",
       "    <tr>\n",
       "      <th>26</th>\n",
       "      <td>0.758123</td>\n",
       "      <td>0.726644</td>\n",
       "      <td>0.755444</td>\n",
       "    </tr>\n",
       "    <tr>\n",
       "      <th>28</th>\n",
       "      <td>0.767528</td>\n",
       "      <td>0.719723</td>\n",
       "      <td>0.758794</td>\n",
       "    </tr>\n",
       "    <tr>\n",
       "      <th>29</th>\n",
       "      <td>0.761364</td>\n",
       "      <td>0.695502</td>\n",
       "      <td>0.747069</td>\n",
       "    </tr>\n",
       "  </tbody>\n",
       "</table>\n",
       "</div>"
      ],
      "text/plain": [
       "    precision    recall  accuracy\n",
       "0    0.749064  0.692042  0.738693\n",
       "16   0.753676  0.709343  0.747069\n",
       "17   0.752688  0.726644  0.752094\n",
       "26   0.758123  0.726644  0.755444\n",
       "28   0.767528  0.719723  0.758794\n",
       "29   0.761364  0.695502  0.747069"
      ]
     },
     "execution_count": 39,
     "metadata": {},
     "output_type": "execute_result"
    }
   ],
   "source": [
    "comparison_pd"
   ]
  },
  {
   "cell_type": "code",
   "execution_count": 40,
   "metadata": {},
   "outputs": [],
   "source": [
    "comparison_pd.drop([16, 29], axis=0, inplace=True)"
   ]
  },
  {
   "cell_type": "code",
   "execution_count": 41,
   "metadata": {},
   "outputs": [],
   "source": [
    "comparison_pd['group'] = ['original', 'cleanlab-version-1', 'cleanlab-version-2', 'cleanlab-version-3']"
   ]
  },
  {
   "cell_type": "code",
   "execution_count": 42,
   "metadata": {},
   "outputs": [],
   "source": [
    "seq_col_brew = sns.color_palette(\"Blues_r\", 4)[::-1]"
   ]
  },
  {
   "cell_type": "code",
   "execution_count": 43,
   "metadata": {},
   "outputs": [],
   "source": [
    "from matplotlib.patches import Patch\n",
    "from matplotlib.lines import Line2D\n",
    "\n",
    "legend_elements = [Patch(facecolor=seq_col_brew[0], edgecolor=seq_col_brew[0],\n",
    "                         label='baseline'),\n",
    "                   Patch(facecolor=seq_col_brew[1], edgecolor=seq_col_brew[1],\n",
    "                         label='cleanlab-1'),\n",
    "                   Patch(facecolor=seq_col_brew[2], edgecolor=seq_col_brew[2],\n",
    "                         label='cleanlab-2'),\n",
    "                   Patch(facecolor=seq_col_brew[3], edgecolor=seq_col_brew[3],\n",
    "                         label='cleanlab-3')]\n"
   ]
  },
  {
   "cell_type": "code",
   "execution_count": 44,
   "metadata": {},
   "outputs": [
    {
     "data": {
      "image/png": "[encoded data removed]",
      "text/plain": [
       "<Figure size 600x300 with 3 Axes>"
      ]
     },
     "metadata": {},
     "output_type": "display_data"
    }
   ],
   "source": [
    "ind = np.arange(len(comparison_pd))[::-1]\n",
    "width = 0.4\n",
    "fig, axs = plt.subplots(1, 3, figsize=(6, 3), sharey=True)\n",
    "\n",
    "axs[0].bar(x=comparison_pd.group, height=comparison_pd.precision, color=seq_col_brew)\n",
    "axs[0].set_ylim(0.68, 0.78)\n",
    "axs[0].set_xticks('')\n",
    "axs[0].set_title('Precision')\n",
    "axs[1].bar(x=comparison_pd.group, height=comparison_pd.recall,  color=seq_col_brew)\n",
    "axs[1].set_xticks('')\n",
    "axs[1].set_title('Recall')\n",
    "axs[2].bar(x=comparison_pd.group, height=comparison_pd.accuracy, color=seq_col_brew)\n",
    "axs[2].set_xticks('')\n",
    "axs[2].legend(handles=legend_elements, bbox_to_anchor=(1,1))\n",
    "axs[2].set_title('Accuracy');\n"
   ]
  },
  {
   "cell_type": "code",
   "execution_count": 45,
   "metadata": {},
   "outputs": [
    {
     "data": {
      "text/html": [
       "<div>\n",
       "<style scoped>\n",
       "    .dataframe tbody tr th:only-of-type {\n",
       "        vertical-align: middle;\n",
       "    }\n",
       "\n",
       "    .dataframe tbody tr th {\n",
       "        vertical-align: top;\n",
       "    }\n",
       "\n",
       "    .dataframe thead th {\n",
       "        text-align: right;\n",
       "    }\n",
       "</style>\n",
       "<table border=\"1\" class=\"dataframe\">\n",
       "  <thead>\n",
       "    <tr style=\"text-align: right;\">\n",
       "      <th></th>\n",
       "      <th>numbers</th>\n",
       "      <th>precision</th>\n",
       "      <th>recall</th>\n",
       "      <th>accuracy</th>\n",
       "      <th>precision_changed</th>\n",
       "      <th>recall_changed</th>\n",
       "      <th>accuracy_changed</th>\n",
       "    </tr>\n",
       "  </thead>\n",
       "  <tbody>\n",
       "    <tr>\n",
       "      <th>16</th>\n",
       "      <td>330</td>\n",
       "      <td>0.753676</td>\n",
       "      <td>0.709343</td>\n",
       "      <td>0.747069</td>\n",
       "      <td>0.615809</td>\n",
       "      <td>2.5</td>\n",
       "      <td>1.133787</td>\n",
       "    </tr>\n",
       "    <tr>\n",
       "      <th>17</th>\n",
       "      <td>350</td>\n",
       "      <td>0.752688</td>\n",
       "      <td>0.726644</td>\n",
       "      <td>0.752094</td>\n",
       "      <td>0.483871</td>\n",
       "      <td>5.0</td>\n",
       "      <td>1.814059</td>\n",
       "    </tr>\n",
       "    <tr>\n",
       "      <th>26</th>\n",
       "      <td>530</td>\n",
       "      <td>0.758123</td>\n",
       "      <td>0.726644</td>\n",
       "      <td>0.755444</td>\n",
       "      <td>1.209386</td>\n",
       "      <td>5.0</td>\n",
       "      <td>2.267574</td>\n",
       "    </tr>\n",
       "    <tr>\n",
       "      <th>28</th>\n",
       "      <td>570</td>\n",
       "      <td>0.767528</td>\n",
       "      <td>0.719723</td>\n",
       "      <td>0.758794</td>\n",
       "      <td>2.464945</td>\n",
       "      <td>4.0</td>\n",
       "      <td>2.721088</td>\n",
       "    </tr>\n",
       "    <tr>\n",
       "      <th>29</th>\n",
       "      <td>590</td>\n",
       "      <td>0.761364</td>\n",
       "      <td>0.695502</td>\n",
       "      <td>0.747069</td>\n",
       "      <td>1.642045</td>\n",
       "      <td>0.5</td>\n",
       "      <td>1.133787</td>\n",
       "    </tr>\n",
       "  </tbody>\n",
       "</table>\n",
       "</div>"
      ],
      "text/plain": [
       "    numbers  precision    recall  accuracy  precision_changed  recall_changed  \\\n",
       "16      330   0.753676  0.709343  0.747069           0.615809             2.5   \n",
       "17      350   0.752688  0.726644  0.752094           0.483871             5.0   \n",
       "26      530   0.758123  0.726644  0.755444           1.209386             5.0   \n",
       "28      570   0.767528  0.719723  0.758794           2.464945             4.0   \n",
       "29      590   0.761364  0.695502  0.747069           1.642045             0.5   \n",
       "\n",
       "    accuracy_changed  \n",
       "16          1.133787  \n",
       "17          1.814059  \n",
       "26          2.267574  \n",
       "28          2.721088  \n",
       "29          1.133787  "
      ]
     },
     "execution_count": 45,
     "metadata": {},
     "output_type": "execute_result"
    }
   ],
   "source": [
    "perf_pos"
   ]
  },
  {
   "cell_type": "code",
   "execution_count": 46,
   "metadata": {},
   "outputs": [
    {
     "data": {
      "text/plain": [
       "Index(['precision', 'recall', 'accuracy', 'precision_changed',\n",
       "       'recall_changed', 'accuracy_changed', 'group'],\n",
       "      dtype='object')"
      ]
     },
     "execution_count": 46,
     "metadata": {},
     "output_type": "execute_result"
    }
   ],
   "source": [
    "perf_pos_2 = pd.concat([orig_pd, perf_pos], axis=0)\n",
    "perf_pos_2.drop(['numbers'], axis=1, inplace=True)\n",
    "perf_pos_2['group'] = ['baseline', 'cleanlab', 'cleanlab', 'cleanlab', 'cleanlab', 'cleanlab']\n",
    "perf_pos_2.columns"
   ]
  },
  {
   "cell_type": "code",
   "execution_count": 47,
   "metadata": {},
   "outputs": [],
   "source": [
    "perf_pos_2 = perf_pos_2[['group', 'precision', 'recall', 'accuracy', 'precision_changed',\n",
    "       'recall_changed', 'accuracy_changed']]"
   ]
  },
  {
   "cell_type": "code",
   "execution_count": 48,
   "metadata": {},
   "outputs": [],
   "source": [
    "perf_pos_2.columns = ['group', 'precision', 'recall', 'accuracy', 'precision_changed%',\n",
    "       'recall_changed%', 'accuracy_changed%']"
   ]
  },
  {
   "cell_type": "code",
   "execution_count": 49,
   "metadata": {},
   "outputs": [
    {
     "data": {
      "text/html": [
       "<div>\n",
       "<style scoped>\n",
       "    .dataframe tbody tr th:only-of-type {\n",
       "        vertical-align: middle;\n",
       "    }\n",
       "\n",
       "    .dataframe tbody tr th {\n",
       "        vertical-align: top;\n",
       "    }\n",
       "\n",
       "    .dataframe thead th {\n",
       "        text-align: right;\n",
       "    }\n",
       "</style>\n",
       "<table border=\"1\" class=\"dataframe\">\n",
       "  <thead>\n",
       "    <tr style=\"text-align: right;\">\n",
       "      <th></th>\n",
       "      <th>group</th>\n",
       "      <th>precision</th>\n",
       "      <th>recall</th>\n",
       "      <th>accuracy</th>\n",
       "      <th>precision_changed%</th>\n",
       "      <th>recall_changed%</th>\n",
       "      <th>accuracy_changed%</th>\n",
       "    </tr>\n",
       "  </thead>\n",
       "  <tbody>\n",
       "    <tr>\n",
       "      <th>0</th>\n",
       "      <td>baseline</td>\n",
       "      <td>0.749064</td>\n",
       "      <td>0.692042</td>\n",
       "      <td>0.738693</td>\n",
       "      <td>0.000000</td>\n",
       "      <td>0.0</td>\n",
       "      <td>0.000000</td>\n",
       "    </tr>\n",
       "    <tr>\n",
       "      <th>1</th>\n",
       "      <td>cleanlab</td>\n",
       "      <td>0.753676</td>\n",
       "      <td>0.709343</td>\n",
       "      <td>0.747069</td>\n",
       "      <td>0.615809</td>\n",
       "      <td>2.5</td>\n",
       "      <td>1.133787</td>\n",
       "    </tr>\n",
       "    <tr>\n",
       "      <th>2</th>\n",
       "      <td>cleanlab</td>\n",
       "      <td>0.752688</td>\n",
       "      <td>0.726644</td>\n",
       "      <td>0.752094</td>\n",
       "      <td>0.483871</td>\n",
       "      <td>5.0</td>\n",
       "      <td>1.814059</td>\n",
       "    </tr>\n",
       "    <tr>\n",
       "      <th>3</th>\n",
       "      <td>cleanlab</td>\n",
       "      <td>0.758123</td>\n",
       "      <td>0.726644</td>\n",
       "      <td>0.755444</td>\n",
       "      <td>1.209386</td>\n",
       "      <td>5.0</td>\n",
       "      <td>2.267574</td>\n",
       "    </tr>\n",
       "    <tr>\n",
       "      <th>4</th>\n",
       "      <td>cleanlab</td>\n",
       "      <td>0.767528</td>\n",
       "      <td>0.719723</td>\n",
       "      <td>0.758794</td>\n",
       "      <td>2.464945</td>\n",
       "      <td>4.0</td>\n",
       "      <td>2.721088</td>\n",
       "    </tr>\n",
       "    <tr>\n",
       "      <th>5</th>\n",
       "      <td>cleanlab</td>\n",
       "      <td>0.761364</td>\n",
       "      <td>0.695502</td>\n",
       "      <td>0.747069</td>\n",
       "      <td>1.642045</td>\n",
       "      <td>0.5</td>\n",
       "      <td>1.133787</td>\n",
       "    </tr>\n",
       "  </tbody>\n",
       "</table>\n",
       "</div>"
      ],
      "text/plain": [
       "      group  precision    recall  accuracy  precision_changed%  \\\n",
       "0  baseline   0.749064  0.692042  0.738693            0.000000   \n",
       "1  cleanlab   0.753676  0.709343  0.747069            0.615809   \n",
       "2  cleanlab   0.752688  0.726644  0.752094            0.483871   \n",
       "3  cleanlab   0.758123  0.726644  0.755444            1.209386   \n",
       "4  cleanlab   0.767528  0.719723  0.758794            2.464945   \n",
       "5  cleanlab   0.761364  0.695502  0.747069            1.642045   \n",
       "\n",
       "   recall_changed%  accuracy_changed%  \n",
       "0              0.0           0.000000  \n",
       "1              2.5           1.133787  \n",
       "2              5.0           1.814059  \n",
       "3              5.0           2.267574  \n",
       "4              4.0           2.721088  \n",
       "5              0.5           1.133787  "
      ]
     },
     "execution_count": 49,
     "metadata": {},
     "output_type": "execute_result"
    }
   ],
   "source": [
    "perf_pos_2.reset_index().drop('index', axis=1).fillna(0)"
   ]
  },
  {
   "cell_type": "markdown",
   "metadata": {},
   "source": [
    "<a id='t6'></a>\n",
    "\n",
    "## How does CleanLab help to improve model performance?"
   ]
  },
  {
   "cell_type": "markdown",
   "metadata": {},
   "source": [
    "Looking at the results above, `CleanLab` is able to **increase both precision and recall** as follows\n",
    "\n",
    "- Drop the top 350 (11% of the training data) outliers identified by  `cleanlab`\n",
    "    * Precision: 0.753 <font color='#00cc66'>+0.5%</font>\n",
    "    * Recall: 0.727 <font color='#00cc66'>+5%</font>\n",
    "    * Accuracy: 0.752 <font color='#00cc66'>+1.8%</font>\n",
    "- Drop the top 530 (16% of the training data) outliers identified by  `cleanlab`\n",
    "    * Precision: 0.758 <font color='#00cc66'>+1.2%</font>\n",
    "    * Recall: 0.727 <font color='#00cc66'>+5%</font>\n",
    "    * Accuracy: 0.755 <font color='#00cc66'>+2.3%</font>\n",
    "- Drop the top 570 (18% of the training data) outliers identified by  `cleanlab`\n",
    "    * Precision: 0.768 <font color='#00cc66'>+2.5%</font>\n",
    "    * Recall: 0.720 <font color='#00cc66'>+4%</font>\n",
    "    * Accuracy: 0.752 <font color='#00cc66'>+2.7%</font>\n",
    "\n",
    "Hot take: Elon's team should try to improve the precision of their model for the next company acquisition..."
   ]
  },
  {
   "cell_type": "markdown",
   "metadata": {},
   "source": [
    "<a id='t7'></a>\n",
    "## Reference"
   ]
  },
  {
   "cell_type": "markdown",
   "metadata": {},
   "source": [
    "Kaggle notebook: https://www.kaggle.com/code/nikolajtrampedach/random-forrest-and-logistic-regression-auc-81-4\n",
    "\n",
    "Autogluon Tabular Predictor https://auto.gluon.ai/stable/tutorials/tabular_prediction/index.html\n",
    "\n",
    "Cleanlab Tutorial\n",
    "https://docs.cleanlab.ai/stable/tutorials/tabular.html\n"
   ]
  },
  {
   "cell_type": "code",
   "execution_count": null,
   "metadata": {},
   "outputs": [],
   "source": []
  }
 ],
 "metadata": {
  "kernelspec": {
   "display_name": "Python 3 (ipykernel)",
   "language": "python",
   "name": "python3"
  },
  "language_info": {
   "codemirror_mode": {
    "name": "ipython",
    "version": 3
   },
   "file_extension": ".py",
   "mimetype": "text/x-python",
   "name": "python",
   "nbconvert_exporter": "python",
   "pygments_lexer": "ipython3",
   "version": "3.8.13"
  }
 },
 "nbformat": 4,
 "nbformat_minor": 4
}
