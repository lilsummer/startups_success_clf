{
 "cells": [
  {
   "cell_type": "markdown",
   "metadata": {
    "id": "2u1slszvL7Gq"
   },
   "source": [
    "# Predicting the chance of startup success\n",
    "\n",
    "## Table of Contents\n",
    "\n",
    "[Take a Peek at the Dataset](#t1)\n",
    "\n",
    "[Which metric should we use?](#t4)\n",
    "\n",
    "[Train a model using Autogluon](#t2)\n",
    "\n",
    "[Use Cleanlab filter to find label issues](#t3)\n",
    "\n",
    "[Use Cleanlab to train better models](#t5)\n",
    "\n",
    "[How does Cleanlab help to improve performance](#t6)\n",
    "\n",
    "[Reference](#t7)"
   ]
  },
  {
   "cell_type": "code",
   "execution_count": 1,
   "metadata": {
    "execution": {
     "iopub.execute_input": "2022-09-20T01:56:44.607467Z",
     "iopub.status.busy": "2022-09-20T01:56:44.606941Z",
     "iopub.status.idle": "2022-09-20T01:56:45.034606Z",
     "shell.execute_reply": "2022-09-20T01:56:45.033781Z",
     "shell.execute_reply.started": "2022-09-20T01:56:44.607421Z"
    },
    "id": "icwUQ-bJjiaj",
    "outputId": "d2b4244a-09cf-43af-e2a6-9e234e68d005"
   },
   "outputs": [],
   "source": [
    "import pandas as pd\n",
    "import numpy as np\n",
    "import statsmodels.api as sm\n",
    "import seaborn as sns\n",
    "import graphviz\n",
    "import matplotlib.pyplot as plt\n",
    "from sklearn import metrics\n",
    "from sklearn import preprocessing\n",
    "from sklearn.feature_selection import VarianceThreshold,RFECV\n",
    "from sklearn.inspection import permutation_importance\n",
    "from sklearn.neighbors import KNeighborsClassifier\n",
    "from sklearn.linear_model import LogisticRegressionCV\n",
    "from sklearn.ensemble import RandomForestClassifier\n",
    "from sklearn.model_selection import train_test_split, cross_val_score, cross_val_predict,RepeatedStratifiedKFold,StratifiedKFold\n",
    "from imblearn.over_sampling import SMOTE\n",
    "\n",
    "pd.options.mode.chained_assignment = None\n",
    "pd.set_option(\"display.max_colwidth\", None)\n",
    "plt.style.use('bmh')\n"
   ]
  },
  {
   "cell_type": "markdown",
   "metadata": {},
   "source": [
    "<a id='t1'></a>\n",
    "## Take a peek at the dataset"
   ]
  },
  {
   "cell_type": "code",
   "execution_count": 2,
   "metadata": {},
   "outputs": [],
   "source": [
    "train_path = '../data/crunchbase_train.csv'\n",
    "test_path = '../data/crunchbase_test.csv'\n",
    "train_pd = pd.read_csv(train_path)\n",
    "test_pd = pd.read_csv(test_path)"
   ]
  },
  {
   "cell_type": "code",
   "execution_count": 3,
   "metadata": {},
   "outputs": [
    {
     "data": {
      "text/html": [
       "<div>\n",
       "<style scoped>\n",
       "    .dataframe tbody tr th:only-of-type {\n",
       "        vertical-align: middle;\n",
       "    }\n",
       "\n",
       "    .dataframe tbody tr th {\n",
       "        vertical-align: top;\n",
       "    }\n",
       "\n",
       "    .dataframe thead th {\n",
       "        text-align: right;\n",
       "    }\n",
       "</style>\n",
       "<table border=\"1\" class=\"dataframe\">\n",
       "  <thead>\n",
       "    <tr style=\"text-align: right;\">\n",
       "      <th></th>\n",
       "      <th>name</th>\n",
       "      <th>market</th>\n",
       "      <th>funding_total_usd</th>\n",
       "      <th>country_code</th>\n",
       "      <th>region</th>\n",
       "      <th>city</th>\n",
       "      <th>funding_rounds</th>\n",
       "      <th>founded_month</th>\n",
       "      <th>founded_quarter</th>\n",
       "      <th>founded_year</th>\n",
       "      <th>...</th>\n",
       "      <th>round_C</th>\n",
       "      <th>round_D</th>\n",
       "      <th>round_E</th>\n",
       "      <th>round_F</th>\n",
       "      <th>round_G</th>\n",
       "      <th>round_H</th>\n",
       "      <th>age_first_funding</th>\n",
       "      <th>age_last_funding</th>\n",
       "      <th>status_binary</th>\n",
       "      <th>total_investment</th>\n",
       "    </tr>\n",
       "  </thead>\n",
       "  <tbody>\n",
       "    <tr>\n",
       "      <th>0</th>\n",
       "      <td>1000memories</td>\n",
       "      <td>Curated Web</td>\n",
       "      <td>25,35,000</td>\n",
       "      <td>USA</td>\n",
       "      <td>SF Bay Area</td>\n",
       "      <td>San Francisco</td>\n",
       "      <td>2.0</td>\n",
       "      <td>7.0</td>\n",
       "      <td>3.0</td>\n",
       "      <td>2010.0</td>\n",
       "      <td>...</td>\n",
       "      <td>0.0</td>\n",
       "      <td>0.0</td>\n",
       "      <td>0.0</td>\n",
       "      <td>0.0</td>\n",
       "      <td>0.0</td>\n",
       "      <td>0.0</td>\n",
       "      <td>0.00000</td>\n",
       "      <td>0.630137</td>\n",
       "      <td>1</td>\n",
       "      <td>2535000.0</td>\n",
       "    </tr>\n",
       "    <tr>\n",
       "      <th>1</th>\n",
       "      <td>10BestThings</td>\n",
       "      <td>Curated Web</td>\n",
       "      <td>50,000</td>\n",
       "      <td>USA</td>\n",
       "      <td>Cleveland</td>\n",
       "      <td>Cleveland</td>\n",
       "      <td>1.0</td>\n",
       "      <td>4.0</td>\n",
       "      <td>2.0</td>\n",
       "      <td>2009.0</td>\n",
       "      <td>...</td>\n",
       "      <td>0.0</td>\n",
       "      <td>0.0</td>\n",
       "      <td>0.0</td>\n",
       "      <td>0.0</td>\n",
       "      <td>0.0</td>\n",
       "      <td>0.0</td>\n",
       "      <td>0.00000</td>\n",
       "      <td>0.000000</td>\n",
       "      <td>0</td>\n",
       "      <td>50000.0</td>\n",
       "    </tr>\n",
       "    <tr>\n",
       "      <th>2</th>\n",
       "      <td>1bib</td>\n",
       "      <td>Curated Web</td>\n",
       "      <td>-</td>\n",
       "      <td>CHN</td>\n",
       "      <td>Guangzhou</td>\n",
       "      <td>Guangzhou</td>\n",
       "      <td>1.0</td>\n",
       "      <td>1.0</td>\n",
       "      <td>1.0</td>\n",
       "      <td>2006.0</td>\n",
       "      <td>...</td>\n",
       "      <td>0.0</td>\n",
       "      <td>0.0</td>\n",
       "      <td>0.0</td>\n",
       "      <td>0.0</td>\n",
       "      <td>0.0</td>\n",
       "      <td>0.0</td>\n",
       "      <td>2.10137</td>\n",
       "      <td>2.101370</td>\n",
       "      <td>0</td>\n",
       "      <td>0.0</td>\n",
       "    </tr>\n",
       "    <tr>\n",
       "      <th>3</th>\n",
       "      <td>1Cast</td>\n",
       "      <td>Other</td>\n",
       "      <td>-</td>\n",
       "      <td>USA</td>\n",
       "      <td>Seattle</td>\n",
       "      <td>Kirkland</td>\n",
       "      <td>1.0</td>\n",
       "      <td>6.0</td>\n",
       "      <td>2.0</td>\n",
       "      <td>2006.0</td>\n",
       "      <td>...</td>\n",
       "      <td>0.0</td>\n",
       "      <td>0.0</td>\n",
       "      <td>0.0</td>\n",
       "      <td>0.0</td>\n",
       "      <td>0.0</td>\n",
       "      <td>0.0</td>\n",
       "      <td>2.20000</td>\n",
       "      <td>2.200000</td>\n",
       "      <td>0</td>\n",
       "      <td>0.0</td>\n",
       "    </tr>\n",
       "    <tr>\n",
       "      <th>4</th>\n",
       "      <td>1DayMakeover</td>\n",
       "      <td>E-Commerce</td>\n",
       "      <td>50,000</td>\n",
       "      <td>USA</td>\n",
       "      <td>Orange County, California</td>\n",
       "      <td>Santa Ana</td>\n",
       "      <td>1.0</td>\n",
       "      <td>6.0</td>\n",
       "      <td>2.0</td>\n",
       "      <td>2008.0</td>\n",
       "      <td>...</td>\n",
       "      <td>0.0</td>\n",
       "      <td>0.0</td>\n",
       "      <td>0.0</td>\n",
       "      <td>0.0</td>\n",
       "      <td>0.0</td>\n",
       "      <td>0.0</td>\n",
       "      <td>0.00000</td>\n",
       "      <td>0.000000</td>\n",
       "      <td>0</td>\n",
       "      <td>50000.0</td>\n",
       "    </tr>\n",
       "  </tbody>\n",
       "</table>\n",
       "<p>5 rows × 35 columns</p>\n",
       "</div>"
      ],
      "text/plain": [
       "           name        market funding_total_usd country_code  \\\n",
       "0  1000memories  Curated Web         25,35,000           USA   \n",
       "1  10BestThings  Curated Web            50,000           USA   \n",
       "2          1bib  Curated Web               -             CHN   \n",
       "3         1Cast         Other              -             USA   \n",
       "4  1DayMakeover   E-Commerce            50,000           USA   \n",
       "\n",
       "                      region           city  funding_rounds  founded_month  \\\n",
       "0                SF Bay Area  San Francisco             2.0            7.0   \n",
       "1                  Cleveland      Cleveland             1.0            4.0   \n",
       "2                  Guangzhou      Guangzhou             1.0            1.0   \n",
       "3                    Seattle       Kirkland             1.0            6.0   \n",
       "4  Orange County, California      Santa Ana             1.0            6.0   \n",
       "\n",
       "   founded_quarter  founded_year  ...  round_C  round_D  round_E  round_F  \\\n",
       "0              3.0        2010.0  ...      0.0      0.0      0.0      0.0   \n",
       "1              2.0        2009.0  ...      0.0      0.0      0.0      0.0   \n",
       "2              1.0        2006.0  ...      0.0      0.0      0.0      0.0   \n",
       "3              2.0        2006.0  ...      0.0      0.0      0.0      0.0   \n",
       "4              2.0        2008.0  ...      0.0      0.0      0.0      0.0   \n",
       "\n",
       "   round_G  round_H  age_first_funding  age_last_funding  status_binary  \\\n",
       "0      0.0      0.0            0.00000          0.630137              1   \n",
       "1      0.0      0.0            0.00000          0.000000              0   \n",
       "2      0.0      0.0            2.10137          2.101370              0   \n",
       "3      0.0      0.0            2.20000          2.200000              0   \n",
       "4      0.0      0.0            0.00000          0.000000              0   \n",
       "\n",
       "   total_investment  \n",
       "0         2535000.0  \n",
       "1           50000.0  \n",
       "2               0.0  \n",
       "3               0.0  \n",
       "4           50000.0  \n",
       "\n",
       "[5 rows x 35 columns]"
      ]
     },
     "execution_count": 3,
     "metadata": {},
     "output_type": "execute_result"
    }
   ],
   "source": [
    "train_pd.head()"
   ]
  },
  {
   "cell_type": "code",
   "execution_count": 4,
   "metadata": {},
   "outputs": [
    {
     "data": {
      "text/plain": [
       "Index(['name', 'market', 'funding_total_usd', 'country_code', 'region', 'city',\n",
       "       'funding_rounds', 'founded_month', 'founded_quarter', 'founded_year',\n",
       "       'seed', 'venture', 'equity_crowdfunding', 'undisclosed',\n",
       "       'convertible_note', 'debt_financing', 'angel', 'grant',\n",
       "       'private_equity', 'post_ipo_equity', 'post_ipo_debt',\n",
       "       'secondary_market', 'product_crowdfunding', 'round_A', 'round_B',\n",
       "       'round_C', 'round_D', 'round_E', 'round_F', 'round_G', 'round_H',\n",
       "       'age_first_funding', 'age_last_funding', 'status_binary',\n",
       "       'total_investment'],\n",
       "      dtype='object')"
      ]
     },
     "execution_count": 4,
     "metadata": {},
     "output_type": "execute_result"
    }
   ],
   "source": [
    "train_pd.columns"
   ]
  },
  {
   "cell_type": "markdown",
   "metadata": {},
   "source": [
    "### Acquired Vs Closed Ratio by Founded Year"
   ]
  },
  {
   "cell_type": "code",
   "execution_count": 5,
   "metadata": {},
   "outputs": [],
   "source": [
    "merge_pd = pd.concat([train_pd, test_pd], axis= 0)\n",
    "acquired_counts = pd.DataFrame(merge_pd[merge_pd.status_binary == 1].groupby(['founded_year'])['name'].count())\n",
    "closed_counts = pd.DataFrame(merge_pd[merge_pd.status_binary == 0].groupby(['founded_year'])['name'].count())"
   ]
  },
  {
   "cell_type": "code",
   "execution_count": 6,
   "metadata": {},
   "outputs": [],
   "source": [
    "total_pd = pd.merge(left = acquired_counts, right = closed_counts, left_on='founded_year', right_on='founded_year')\n",
    "total_pd.columns = ['acquired', 'closed']\n",
    "total_pd['ratio'] = total_pd.acquired/total_pd.closed"
   ]
  },
  {
   "cell_type": "code",
   "execution_count": 7,
   "metadata": {},
   "outputs": [
    {
     "data": {
      "image/png": "[encoded data removed]",
      "text/plain": [
       "<Figure size 800x400 with 1 Axes>"
      ]
     },
     "metadata": {},
     "output_type": "display_data"
    }
   ],
   "source": [
    "melt_pd = total_pd.reset_index().melt(id_vars='founded_year')\n",
    "bar_1 = melt_pd[melt_pd.variable.isin(['acquired', 'closed'])]\n",
    "bar_1['founded_year'] = bar_1['founded_year'].astype('int')\n",
    "plt.figure(figsize=(8, 4))\n",
    "sns.barplot(data=bar_1, x='founded_year', y='value', hue='variable')\n",
    "plt.ylabel('number of startups')\n",
    "plt.xticks(rotation=45)\n",
    "plt.title('Number of startups by founded year');"
   ]
  },
  {
   "cell_type": "code",
   "execution_count": 8,
   "metadata": {},
   "outputs": [
    {
     "data": {
      "image/png": "[encoded data removed]",
      "text/plain": [
       "<Figure size 800x400 with 1 Axes>"
      ]
     },
     "metadata": {},
     "output_type": "display_data"
    }
   ],
   "source": [
    "plt.figure(figsize=(8, 4))\n",
    "sns.lineplot(data=total_pd, x=total_pd.index, y=total_pd.ratio)\n",
    "plt.ylabel('ratio')\n",
    "plt.title('Acquired vs closed ratio');"
   ]
  },
  {
   "cell_type": "code",
   "execution_count": 9,
   "metadata": {},
   "outputs": [
    {
     "data": {
      "image/png": "[encoded data removed]",
      "text/plain": [
       "<Figure size 640x480 with 1 Axes>"
      ]
     },
     "metadata": {},
     "output_type": "display_data"
    }
   ],
   "source": [
    "plt.hist(np.log1p(merge_pd[merge_pd.status_binary==0]['total_investment']), bins=30, alpha=.7, label='closed')\n",
    "plt.hist(np.log1p(merge_pd[merge_pd.status_binary==1]['total_investment']), bins=30, alpha=.7, label='acquired')\n",
    "plt.legend()\n",
    "plt.ylabel('log(total_investment)')\n",
    "plt.title('Distribution of total investment');"
   ]
  },
  {
   "cell_type": "markdown",
   "metadata": {},
   "source": [
    "<a id='t4'></a>\n",
    "## Which metric should we use?"
   ]
  },
  {
   "cell_type": "markdown",
   "metadata": {},
   "source": [
    "- Conventionally, F1 (a combination of precisiona and recall) is used for classification tasks\n",
    "\n",
    "- In this case, we choose to focus on different metrics based on the clients we serve\n",
    "\n",
    "- **For investors and buyers** we focus on **precision** because the cost of **false positive** is high -- imagine if they make a proposal to acquire but end up failing at it, it will cost them billions in lawsuit; this is exactly what's happening on Elon Musk's twitter deal!\n",
    "\n",
    "- **For startup founders** we focus on **recall** because it costs them lots of effort if the model gives **false negative** prediction. They might easily give up on their amibitious goal even though it can be successful in the future!"
   ]
  },
  {
   "cell_type": "markdown",
   "metadata": {},
   "source": [
    "<a id='t2'></a>\n",
    "\n",
    "## Train an ML model using Autogluon"
   ]
  },
  {
   "cell_type": "code",
   "execution_count": 10,
   "metadata": {},
   "outputs": [],
   "source": [
    "from autogluon.tabular import TabularPredictor\n"
   ]
  },
  {
   "cell_type": "code",
   "execution_count": 11,
   "metadata": {},
   "outputs": [
    {
     "name": "stderr",
     "output_type": "stream",
     "text": [
      "No path specified. Models will be saved in: \"AutogluonModels/ag-20220929_220447/\"\n"
     ]
    }
   ],
   "source": [
    "estimator = TabularPredictor(label='status_binary', verbosity=1)"
   ]
  },
  {
   "cell_type": "code",
   "execution_count": 12,
   "metadata": {},
   "outputs": [],
   "source": [
    "## drop some unnessary columns\n",
    "drop_cols = [\n",
    "    'name', 'country_code', 'region', 'city',\n",
    "    'post_ipo_equity', 'post_ipo_debt',\n",
    "    'round_G', 'round_H','age_last_funding', 'funding_total_usd'\n",
    "]\n",
    "X_train = train_pd.drop(drop_cols, axis=1)\n",
    "X_test = test_pd.drop(drop_cols, axis=1)\n",
    "hyperparam = {'RF':{}, 'GBM':{}, 'XGB': {}}"
   ]
  },
  {
   "cell_type": "code",
   "execution_count": 13,
   "metadata": {},
   "outputs": [
    {
     "name": "stderr",
     "output_type": "stream",
     "text": [
      "AutoGluon infers your prediction problem is: 'binary' (because only two unique label-values observed).\n",
      "\tIf 'binary' is not the correct problem_type, please manually specify the problem_type parameter during predictor init (You may specify problem_type as one of: ['binary', 'multiclass', 'regression'])\n",
      "AutoGluon will gauge predictive performance using evaluation metric: 'accuracy'\n",
      "/Users/cassie/anaconda3/envs/pytorch/lib/python3.8/site-packages/xgboost/compat.py:36: FutureWarning: pandas.Int64Index is deprecated and will be removed from pandas in a future version. Use pandas.Index with the appropriate dtype instead.\n",
      "  from pandas import MultiIndex, Int64Index\n"
     ]
    },
    {
     "data": {
      "text/plain": [
       "<autogluon.tabular.predictor.predictor.TabularPredictor at 0x7fbc8d3b9760>"
      ]
     },
     "execution_count": 13,
     "metadata": {},
     "output_type": "execute_result"
    }
   ],
   "source": [
    "estimator.fit(train_data=X_train, tuning_data=X_test, hyperparameters=hyperparam)"
   ]
  },
  {
   "cell_type": "code",
   "execution_count": 14,
   "metadata": {},
   "outputs": [
    {
     "name": "stdout",
     "output_type": "stream",
     "text": [
      "                 model  score_val  pred_time_val  fit_time  pred_time_val_marginal  fit_time_marginal  stack_level  can_infer  fit_order\n",
      "0  WeightedEnsemble_L2   0.738693       0.010974  4.727870                0.001171           0.080352            2       True          4\n",
      "1             LightGBM   0.737018       0.003572  3.271125                0.003572           3.271125            1       True          1\n",
      "2              XGBoost   0.718593       0.006231  1.376393                0.006231           1.376393            1       True          3\n",
      "3         RandomForest   0.693467       0.048715  0.405232                0.048715           0.405232            1       True          2\n"
     ]
    }
   ],
   "source": [
    "lb = estimator.leaderboard()"
   ]
  },
  {
   "cell_type": "code",
   "execution_count": 15,
   "metadata": {},
   "outputs": [
    {
     "data": {
      "text/html": [
       "<div>\n",
       "<style scoped>\n",
       "    .dataframe tbody tr th:only-of-type {\n",
       "        vertical-align: middle;\n",
       "    }\n",
       "\n",
       "    .dataframe tbody tr th {\n",
       "        vertical-align: top;\n",
       "    }\n",
       "\n",
       "    .dataframe thead th {\n",
       "        text-align: right;\n",
       "    }\n",
       "</style>\n",
       "<table border=\"1\" class=\"dataframe\">\n",
       "  <thead>\n",
       "    <tr style=\"text-align: right;\">\n",
       "      <th></th>\n",
       "      <th>model</th>\n",
       "      <th>score_val</th>\n",
       "      <th>pred_time_val</th>\n",
       "      <th>fit_time</th>\n",
       "      <th>pred_time_val_marginal</th>\n",
       "      <th>fit_time_marginal</th>\n",
       "      <th>stack_level</th>\n",
       "      <th>can_infer</th>\n",
       "      <th>fit_order</th>\n",
       "    </tr>\n",
       "  </thead>\n",
       "  <tbody>\n",
       "    <tr>\n",
       "      <th>0</th>\n",
       "      <td>WeightedEnsemble_L2</td>\n",
       "      <td>0.738693</td>\n",
       "      <td>0.010974</td>\n",
       "      <td>4.727870</td>\n",
       "      <td>0.001171</td>\n",
       "      <td>0.080352</td>\n",
       "      <td>2</td>\n",
       "      <td>True</td>\n",
       "      <td>4</td>\n",
       "    </tr>\n",
       "    <tr>\n",
       "      <th>1</th>\n",
       "      <td>LightGBM</td>\n",
       "      <td>0.737018</td>\n",
       "      <td>0.003572</td>\n",
       "      <td>3.271125</td>\n",
       "      <td>0.003572</td>\n",
       "      <td>3.271125</td>\n",
       "      <td>1</td>\n",
       "      <td>True</td>\n",
       "      <td>1</td>\n",
       "    </tr>\n",
       "    <tr>\n",
       "      <th>2</th>\n",
       "      <td>XGBoost</td>\n",
       "      <td>0.718593</td>\n",
       "      <td>0.006231</td>\n",
       "      <td>1.376393</td>\n",
       "      <td>0.006231</td>\n",
       "      <td>1.376393</td>\n",
       "      <td>1</td>\n",
       "      <td>True</td>\n",
       "      <td>3</td>\n",
       "    </tr>\n",
       "    <tr>\n",
       "      <th>3</th>\n",
       "      <td>RandomForest</td>\n",
       "      <td>0.693467</td>\n",
       "      <td>0.048715</td>\n",
       "      <td>0.405232</td>\n",
       "      <td>0.048715</td>\n",
       "      <td>0.405232</td>\n",
       "      <td>1</td>\n",
       "      <td>True</td>\n",
       "      <td>2</td>\n",
       "    </tr>\n",
       "  </tbody>\n",
       "</table>\n",
       "</div>"
      ],
      "text/plain": [
       "                 model  score_val  pred_time_val  fit_time  \\\n",
       "0  WeightedEnsemble_L2   0.738693       0.010974  4.727870   \n",
       "1             LightGBM   0.737018       0.003572  3.271125   \n",
       "2              XGBoost   0.718593       0.006231  1.376393   \n",
       "3         RandomForest   0.693467       0.048715  0.405232   \n",
       "\n",
       "   pred_time_val_marginal  fit_time_marginal  stack_level  can_infer  \\\n",
       "0                0.001171           0.080352            2       True   \n",
       "1                0.003572           3.271125            1       True   \n",
       "2                0.006231           1.376393            1       True   \n",
       "3                0.048715           0.405232            1       True   \n",
       "\n",
       "   fit_order  \n",
       "0          4  \n",
       "1          1  \n",
       "2          3  \n",
       "3          2  "
      ]
     },
     "execution_count": 15,
     "metadata": {},
     "output_type": "execute_result"
    }
   ],
   "source": [
    "lb"
   ]
  },
  {
   "cell_type": "code",
   "execution_count": 16,
   "metadata": {},
   "outputs": [
    {
     "data": {
      "text/plain": [
       "0    WeightedEnsemble_L2\n",
       "1               LightGBM\n",
       "2                XGBoost\n",
       "3           RandomForest\n",
       "Name: model, dtype: object"
      ]
     },
     "execution_count": 16,
     "metadata": {},
     "output_type": "execute_result"
    }
   ],
   "source": [
    "lb['model']"
   ]
  },
  {
   "cell_type": "code",
   "execution_count": 17,
   "metadata": {},
   "outputs": [],
   "source": [
    "y_test = X_test[\"status_binary\"]\n",
    "# Drop label col for prediction.\n",
    "test_data_nolab = X_test.drop(\"status_binary\", axis=1)"
   ]
  },
  {
   "cell_type": "code",
   "execution_count": 18,
   "metadata": {},
   "outputs": [],
   "source": [
    "y_pred_1 = estimator.predict(model='WeightedEnsemble_L2', data=test_data_nolab)\n",
    "y_pred_2 = estimator.predict(model='LightGBM', data=test_data_nolab)\n",
    "y_pred_3 = estimator.predict(model='XGBoost', data=test_data_nolab)\n",
    "y_pred_4 = estimator.predict(model='RandomForest', data=test_data_nolab)"
   ]
  },
  {
   "cell_type": "code",
   "execution_count": 19,
   "metadata": {},
   "outputs": [],
   "source": [
    "from sklearn.metrics import confusion_matrix, plot_confusion_matrix, precision_score, recall_score, accuracy_score"
   ]
  },
  {
   "cell_type": "code",
   "execution_count": 20,
   "metadata": {},
   "outputs": [],
   "source": [
    "def eval_model_perf( y_test, y_pred, plot=False, results=False):\n",
    "    \"\"\"\n",
    "    evaluating on accuracy, precision, recall\n",
    "    plot confusion matrix\n",
    "    \"\"\"\n",
    "    \n",
    "    base_acc = accuracy_score(y_test, y_pred)\n",
    "\n",
    "    print(f\"Accuracy: {base_acc:.1%}\")\n",
    "    #print(class_acc_str)\n",
    "\n",
    "    preci = precision_score(y_test, y_pred)\n",
    "    reca = recall_score(y_test, y_pred)\n",
    "    print(f\"Precision: {preci: .3f}\")\n",
    "    print(f\"Recall: {reca: .3f}\")\n",
    "    \n",
    "    if plot:\n",
    "        columns=[ 'Closed', 'Acquired']\n",
    "        df_cm = pd.DataFrame(matrix, index=columns, columns=columns)\n",
    "        plt.figure(figsize=(3,3))\n",
    "        ax = sns.heatmap(df_cm, cmap='Oranges', annot=True, fmt='g')\n",
    "        plt.xlabel('Predicted')\n",
    "        plt.ylabel('Actual')\n",
    "        plt.show()\n",
    "    if results:\n",
    "        return (preci, reca, base_acc)"
   ]
  },
  {
   "cell_type": "code",
   "execution_count": 21,
   "metadata": {},
   "outputs": [
    {
     "name": "stdout",
     "output_type": "stream",
     "text": [
      "Accuracy: 73.9%\n",
      "Precision:  0.749\n",
      "Recall:  0.692\n",
      "Accuracy: 73.7%\n",
      "Precision:  0.746\n",
      "Recall:  0.692\n",
      "Accuracy: 71.9%\n",
      "Precision:  0.810\n",
      "Recall:  0.547\n",
      "Accuracy: 69.3%\n",
      "Precision:  0.757\n",
      "Recall:  0.540\n"
     ]
    }
   ],
   "source": [
    "pre1, reca1, acc1= eval_model_perf(y_test, y_pred_1, results = True)\n",
    "pre2, reca2, acc2 = eval_model_perf(y_test, y_pred_2, results = True)\n",
    "pre3, reca3, acc3 = eval_model_perf(y_test, y_pred_3, results = True)\n",
    "pre4, reca4, acc4 = eval_model_perf(y_test, y_pred_4, results = True)"
   ]
  },
  {
   "cell_type": "code",
   "execution_count": 22,
   "metadata": {},
   "outputs": [
    {
     "data": {
      "text/html": [
       "<div>\n",
       "<style scoped>\n",
       "    .dataframe tbody tr th:only-of-type {\n",
       "        vertical-align: middle;\n",
       "    }\n",
       "\n",
       "    .dataframe tbody tr th {\n",
       "        vertical-align: top;\n",
       "    }\n",
       "\n",
       "    .dataframe thead th {\n",
       "        text-align: right;\n",
       "    }\n",
       "</style>\n",
       "<table border=\"1\" class=\"dataframe\">\n",
       "  <thead>\n",
       "    <tr style=\"text-align: right;\">\n",
       "      <th></th>\n",
       "      <th>model</th>\n",
       "      <th>accuracy</th>\n",
       "      <th>recall</th>\n",
       "      <th>precision</th>\n",
       "      <th>stack_level</th>\n",
       "      <th>fit order</th>\n",
       "    </tr>\n",
       "  </thead>\n",
       "  <tbody>\n",
       "    <tr>\n",
       "      <th>0</th>\n",
       "      <td>WeightedEnsemble_L2</td>\n",
       "      <td>0.738693</td>\n",
       "      <td>0.692042</td>\n",
       "      <td>0.749064</td>\n",
       "      <td>2</td>\n",
       "      <td>4</td>\n",
       "    </tr>\n",
       "    <tr>\n",
       "      <th>1</th>\n",
       "      <td>LightGBM</td>\n",
       "      <td>0.737018</td>\n",
       "      <td>0.692042</td>\n",
       "      <td>0.746269</td>\n",
       "      <td>1</td>\n",
       "      <td>1</td>\n",
       "    </tr>\n",
       "    <tr>\n",
       "      <th>2</th>\n",
       "      <td>XGBoost</td>\n",
       "      <td>0.718593</td>\n",
       "      <td>0.546713</td>\n",
       "      <td>0.810256</td>\n",
       "      <td>1</td>\n",
       "      <td>3</td>\n",
       "    </tr>\n",
       "    <tr>\n",
       "      <th>3</th>\n",
       "      <td>RandomForest</td>\n",
       "      <td>0.693467</td>\n",
       "      <td>0.539792</td>\n",
       "      <td>0.757282</td>\n",
       "      <td>1</td>\n",
       "      <td>2</td>\n",
       "    </tr>\n",
       "  </tbody>\n",
       "</table>\n",
       "</div>"
      ],
      "text/plain": [
       "                 model  accuracy    recall  precision  stack_level  fit order\n",
       "0  WeightedEnsemble_L2  0.738693  0.692042   0.749064            2          4\n",
       "1             LightGBM  0.737018  0.692042   0.746269            1          1\n",
       "2              XGBoost  0.718593  0.546713   0.810256            1          3\n",
       "3         RandomForest  0.693467  0.539792   0.757282            1          2"
      ]
     },
     "execution_count": 22,
     "metadata": {},
     "output_type": "execute_result"
    }
   ],
   "source": [
    "pd.DataFrame({'model': lb['model'], 'accuracy': [acc1,acc2,acc3,acc4], \\\n",
    "             'recall':[reca1,reca2, reca3,reca4], 'precision':[pre1, pre2, pre3, pre4],\\\n",
    "             'stack_level': lb.stack_level, 'fit order': lb.fit_order})"
   ]
  },
  {
   "cell_type": "markdown",
   "metadata": {},
   "source": [
    "### Computer Overall Accuracies and Confusion Matrix"
   ]
  },
  {
   "cell_type": "code",
   "execution_count": 23,
   "metadata": {},
   "outputs": [],
   "source": [
    "from sklearn.metrics import confusion_matrix, plot_confusion_matrix, precision_score, recall_score"
   ]
  },
  {
   "cell_type": "code",
   "execution_count": 24,
   "metadata": {},
   "outputs": [],
   "source": [
    "# Get labels.\n",
    "y_test = X_test[\"status_binary\"]\n",
    "# Drop label col for prediction.\n",
    "test_data_nolab = X_test.drop(\"status_binary\", axis=1)\n",
    "# Make prediction and evaluate performance\n",
    "y_pred = estimator.predict(test_data_nolab)\n",
    "perf = estimator.evaluate_predictions(\n",
    "    y_true=y_test, y_pred=y_pred, auxiliary_metrics=True\n",
    ")\n",
    "\n",
    "def eval_model_perf_2(perf, y_test, y_pred, plot=False, results=False):\n",
    "    \"\"\"\n",
    "    evaluating on accuracy, precision, recall\n",
    "    plot confusion matrix\n",
    "    \"\"\"\n",
    "    \n",
    "    base_acc = perf[\"accuracy\"]\n",
    "    matrix = confusion_matrix(y_test, y_pred)\n",
    "    # Per-class accuracies are important!\n",
    "    class_acc = matrix.diagonal() / matrix.sum(axis=1)\n",
    "    class_acc_str = [f\"{acc:0.1%}\" for acc in class_acc]\n",
    "\n",
    "    print(f\"Accuracy: {base_acc:.1%}\")\n",
    "    print(class_acc_str)\n",
    "\n",
    "    preci = precision_score(y_test, y_pred)\n",
    "    reca = recall_score(y_test, y_pred)\n",
    "    print(f\"Precision: {preci: .3f}\")\n",
    "    print(f\"Recall: {reca: .3f}\")\n",
    "    \n",
    "    if plot:\n",
    "        columns=[ 'Closed', 'Acquired']\n",
    "        df_cm = pd.DataFrame(matrix, index=columns, columns=columns)\n",
    "        plt.figure(figsize=(3,3))\n",
    "        ax = sns.heatmap(df_cm, cmap='Oranges', annot=True, fmt='g')\n",
    "        plt.xlabel('Predicted')\n",
    "        plt.ylabel('Actual')\n",
    "        plt.show()\n",
    "    if results:\n",
    "        return (preci, reca, base_acc)"
   ]
  },
  {
   "cell_type": "code",
   "execution_count": 25,
   "metadata": {},
   "outputs": [
    {
     "name": "stdout",
     "output_type": "stream",
     "text": [
      "Accuracy: 73.9%\n",
      "['78.2%', '69.2%']\n",
      "Precision:  0.749\n",
      "Recall:  0.692\n"
     ]
    },
    {
     "data": {
      "image/png": "[encoded data removed]",
      "text/plain": [
       "<Figure size 300x300 with 2 Axes>"
      ]
     },
     "metadata": {},
     "output_type": "display_data"
    }
   ],
   "source": [
    "origin_prec, origin_reca, origin_accu= eval_model_perf_2(perf, y_test, y_pred, plot=True, results=True)"
   ]
  },
  {
   "cell_type": "markdown",
   "metadata": {},
   "source": [
    "<a id='t3'></a>\n",
    "\n",
    "## Using `find_label_issues` from `cleanlab.filter`"
   ]
  },
  {
   "cell_type": "code",
   "execution_count": null,
   "metadata": {},
   "outputs": [],
   "source": [
    "del estimator"
   ]
  },
  {
   "cell_type": "code",
   "execution_count": null,
   "metadata": {},
   "outputs": [],
   "source": [
    "from cleanlab.filter import find_label_issues"
   ]
  },
  {
   "cell_type": "code",
   "execution_count": null,
   "metadata": {},
   "outputs": [],
   "source": [
    "def get_pred_probs(X_train, X_test, label='status_binary'):\n",
    "    \"\"\"Uses cross-validation to obtain out-of-sample predicted probabilities\n",
    "    for our entire dataset\"\"\"\n",
    "\n",
    "    hyperparameters = {\n",
    "        'RF':{},\n",
    "        'GBM':{},\n",
    "        'XGB':{}\n",
    "    }\n",
    "    num_examples, num_classes = X_train.shape[0], len(X_train[label].value_counts())\n",
    "    skf = StratifiedKFold()\n",
    "    skf_splits = [\n",
    "        [train_index, test_index]\n",
    "        for train_index, test_index in skf.split(X=X_train, y=X_train[label])\n",
    "    ]\n",
    "    pred_probs = pd.DataFrame(\n",
    "        np.zeros((num_examples, num_classes)),\n",
    "        columns=['Closed', 'Acquired'],\n",
    "    )\n",
    "\n",
    "    # Iterate through cross-validation folds\n",
    "    for split_num, split in enumerate(skf_splits):\n",
    "        train_index, val_index = split\n",
    "        train_data_subset = X_train.iloc[train_index]\n",
    "        validation_data = X_train.iloc[val_index]\n",
    "        predictor = TabularPredictor(label=label, verbosity=0)\n",
    "        predictor.fit(\n",
    "            train_data_subset,\n",
    "            tuning_data=validation_data,\n",
    "            hyperparameters=hyperparameters,\n",
    "        )\n",
    "        pred_probs_fold = predictor.predict_proba(validation_data, as_pandas=True)\n",
    "        pred_probs.iloc[val_index] = pred_probs_fold\n",
    "        del pred_probs_fold\n",
    "    return pred_probs.values\n",
    "\n",
    "# Out-of-sample predicted probabilities\n",
    "pred_probs = get_pred_probs(X_train, X_test)"
   ]
  },
  {
   "cell_type": "code",
   "execution_count": null,
   "metadata": {},
   "outputs": [],
   "source": [
    "ordered_label_issues = find_label_issues(\n",
    "    labels=X_train.status_binary.values,\n",
    "    pred_probs=pred_probs,\n",
    "    filter_by=\"confident_learning\",\n",
    "    return_indices_ranked_by=\"self_confidence\",\n",
    ")\n",
    "percentage = len(ordered_label_issues)*100/train_pd.shape[0]\n",
    "print(f\"percentage of outliers identified : {percentage:.3f}%\")\n",
    "print(f\"10 most outstanding outliers identified: \")\n",
    "positive_idx = [i for i in ordered_label_issues if train_pd.status_binary[i] == 1]\n",
    "train_pd.iloc[positive_idx[:10], :]"
   ]
  },
  {
   "cell_type": "code",
   "execution_count": null,
   "metadata": {},
   "outputs": [],
   "source": [
    "plt.figure(figsize=(4,2))\n",
    "train_pd.total_investment.hist(bins=20, label='all startups')\n",
    "train_pd.iloc[positive_idx, :].total_investment.hist(bins=20, label='outliers')\n",
    "plt.legend();"
   ]
  },
  {
   "cell_type": "markdown",
   "metadata": {},
   "source": [
    "<a id='t5'></a>\n",
    "\n",
    "## Train better model by removing outliers"
   ]
  },
  {
   "cell_type": "code",
   "execution_count": null,
   "metadata": {},
   "outputs": [],
   "source": [
    "len(ordered_label_issues)\n",
    "#X_train.shape[0]*.1"
   ]
  },
  {
   "cell_type": "code",
   "execution_count": null,
   "metadata": {},
   "outputs": [],
   "source": [
    "# Remove error-prone labels from training set.\n",
    "clean_train_data = X_train.drop(ordered_label_issues)\n",
    "\n",
    "# Train the models with cleaned data (we are actually training with LESS data!)\n",
    "predictor = TabularPredictor(label=\"status_binary\", verbosity=0)\n",
    "predictor.fit(clean_train_data, tuning_data=X_test, hyperparameters=hyperparam)\n",
    "\n",
    "# Test model\n",
    "y_true = X_test[\"status_binary\"]\n",
    "test_data = X_test.drop(\"status_binary\", axis=1)\n",
    "y_pred = predictor.predict(test_data)\n",
    "perf = predictor.evaluate_predictions(\n",
    "    y_true=y_true, y_pred=y_pred, auxiliary_metrics=True\n",
    ")\n",
    "new_prec, new_reca, new_accu= eval_model_perf_2(perf, y_true, y_pred, plot=True, results=True)"
   ]
  },
  {
   "cell_type": "code",
   "execution_count": null,
   "metadata": {},
   "outputs": [],
   "source": [
    "prec_list = []\n",
    "drop_label_numbers = []\n",
    "recall_list = []\n",
    "accu_list = []\n",
    "for i in range(10, len(ordered_label_issues), 20):\n",
    "    # Remove error-prone labels from training set.\n",
    "    clean_train_data = X_train.drop(ordered_label_issues[:i])\n",
    "    #print(f\"drop labels: {i}\")\n",
    "    # Train the models with cleaned data (we are actually training with LESS data!)\n",
    "    predictor = TabularPredictor(label=\"status_binary\", verbosity=0)\n",
    "    predictor.fit(clean_train_data, tuning_data=X_test, hyperparameters=hyperparam)\n",
    "    \n",
    "    # Test model\n",
    "    y_true = X_test[\"status_binary\"]\n",
    "    test_data = X_test.drop(\"status_binary\", axis=1)\n",
    "    y_pred = predictor.predict(test_data)\n",
    "    perf = predictor.evaluate_predictions(\n",
    "        y_true=y_true, y_pred=y_pred, auxiliary_metrics=True\n",
    "    )\n",
    "    prec, reca, accu = eval_model_perf_2(perf, y_true, y_pred, results=True)\n",
    "    prec_list.append(prec)\n",
    "    recall_list.append(reca)\n",
    "    drop_label_numbers.append(i)\n",
    "    accu_list.append(accu)"
   ]
  },
  {
   "cell_type": "code",
   "execution_count": null,
   "metadata": {},
   "outputs": [],
   "source": [
    "drop_label_numbers.append(len(ordered_label_issues))\n",
    "prec_list.append(new_prec)\n",
    "recall_list.append(new_reca)\n",
    "accu_list.append(new_accu)"
   ]
  },
  {
   "cell_type": "code",
   "execution_count": null,
   "metadata": {},
   "outputs": [],
   "source": [
    "plt.figure(figsize=(7, 4))\n",
    "plt.plot(drop_label_numbers, prec_list, label='precision')\n",
    "plt.plot(drop_label_numbers, recall_list, label='recall')\n",
    "#plt.plot(drop_label_numbers, accu_list, label='accuracy')\n",
    "\n",
    "plt.legend(bbox_to_anchor=(1.2, 1), loc='upper right', ncol=1)\n",
    "plt.xlabel('Numbers of Dropped Outliers')\n",
    "plt.hlines(y=origin_prec, xmin=0, xmax=600, linestyles='--', color='deepskyblue', linewidth=1)\n",
    "plt.hlines(y=origin_reca, xmin=0, xmax=600, linestyles='--', color='darkred', linewidth=1)\n",
    "#plt.hlines(y=origin_accu, xmin=0, xmax=600, linestyles='--', color='black', linewidth=1)\n",
    "#plt.text(500, origin_accu-0.003, 'original_accuracy', **style)\n",
    "style = dict(size=10, color='gray')\n",
    "plt.text(550, 0.739, 'Original Precision w/o Cleanlab', size=10, color='deepskyblue')\n",
    "plt.text(550, 0.682, 'Original Recall w/o Cleanlab', size=10, color='darkred')\n",
    "plt.title('Performance of models after removing outliers');"
   ]
  },
  {
   "cell_type": "code",
   "execution_count": null,
   "metadata": {},
   "outputs": [],
   "source": [
    "plt.figure(figsize=(7, 4))\n",
    "plt.plot(drop_label_numbers, accu_list, label='accuracy')\n",
    "plt.hlines(y=origin_accu, xmin=0, xmax=600, linestyles='--', color='deepskyblue', linewidth=1)\n",
    "plt.text(500, origin_accu-0.001, 'original_accuracy', size=10, color='deepskyblue')\n",
    "plt.xlabel('Numbers of Dropped Outliers')\n",
    "plt.title('Performance of models after removing outliers')\n",
    "plt.ylabel('Accuracy');"
   ]
  },
  {
   "cell_type": "code",
   "execution_count": null,
   "metadata": {},
   "outputs": [],
   "source": [
    "perf_pd = pd.DataFrame({'numbers': drop_label_numbers, 'precision': prec_list, 'recall': recall_list,\n",
    "                        'accuracy': accu_list})\n",
    "\n",
    "perf_pd['precision_changed'] = (perf_pd.precision-origin_prec)*100/origin_prec\n",
    "perf_pd['recall_changed'] =( perf_pd.recall-origin_reca)*100/origin_reca\n",
    "perf_pd['accuracy_changed'] = (perf_pd.accuracy-origin_accu)*100/origin_accu"
   ]
  },
  {
   "cell_type": "code",
   "execution_count": null,
   "metadata": {},
   "outputs": [],
   "source": [
    "plt.style.use('bmh')"
   ]
  },
  {
   "cell_type": "code",
   "execution_count": null,
   "metadata": {},
   "outputs": [],
   "source": [
    "perf_pd_pos = perf_pd[(perf_pd.precision_changed > 0 )& (perf_pd.recall_changed > 0) & (perf_pd.accuracy_changed >0)]"
   ]
  },
  {
   "cell_type": "code",
   "execution_count": null,
   "metadata": {},
   "outputs": [],
   "source": [
    "perf_pd_pos"
   ]
  },
  {
   "cell_type": "code",
   "execution_count": null,
   "metadata": {},
   "outputs": [],
   "source": [
    "plt.figure(figsize=(8, 4))\n",
    "plt.plot(perf_pd.numbers, perf_pd.precision_changed, label='precision changed')\n",
    "plt.plot(perf_pd.numbers, perf_pd.recall_changed, label='recall changed')\n",
    "plt.plot(perf_pd.numbers, perf_pd.accuracy_changed, label='accuracy changed')\n",
    "plt.hlines(xmin=0,xmax=550,y=0, linestyles='-.', color='grey')\n",
    "plt.ylabel('%changed')\n",
    "plt.xlabel('number of dropped outliers')\n",
    "plt.legend();"
   ]
  },
  {
   "cell_type": "code",
   "execution_count": null,
   "metadata": {},
   "outputs": [],
   "source": [
    "perf_pd"
   ]
  },
  {
   "cell_type": "markdown",
   "metadata": {},
   "source": [
    "<a id='t6'></a>\n",
    "\n",
    "## How does CleanLab help to improve model performance?"
   ]
  },
  {
   "cell_type": "markdown",
   "metadata": {},
   "source": [
    "Looking at the results above, `CleanLab` is able to **increase both precision and recall** as follows\n",
    "\n",
    "- Drop the top 94% outliers identified by  `cleanlab`\n",
    "    * Precision: 0.759 <font color='#00cc66'>+1.3%</font>\n",
    "    * Recall: 0.720 <font color='#00cc66'>+4%</font>\n",
    "    * Accuracy: 0.754 <font color='#00cc66'>+2%</font>\n",
    " \n",
    "\n",
    "Hot take: Elon's team should try to improve the precision of their model for the next company acquisition..."
   ]
  }
 ],
 "metadata": {
  "kernelspec": {
   "display_name": "Python 3 (ipykernel)",
   "language": "python",
   "name": "python3"
  },
  "language_info": {
   "codemirror_mode": {
    "name": "ipython",
    "version": 3
   },
   "file_extension": ".py",
   "mimetype": "text/x-python",
   "name": "python",
   "nbconvert_exporter": "python",
   "pygments_lexer": "ipython3",
   "version": "3.8.13"
  }
 },
 "nbformat": 4,
 "nbformat_minor": 4
}
