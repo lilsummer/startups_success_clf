{
 "cells": [
  {
   "cell_type": "markdown",
   "metadata": {
    "id": "2u1slszvL7Gq"
   },
   "source": [
    "# Split Data by Founded Year\n"
   ]
  },
  {
   "cell_type": "markdown",
   "metadata": {
    "id": "5BzW_0pwo2Jq"
   },
   "source": [
    "### Split Method\n",
    "\n",
    "### Drop columns"
   ]
  },
  {
   "cell_type": "code",
   "execution_count": 2,
   "metadata": {
    "execution": {
     "iopub.execute_input": "2022-09-20T01:56:44.607467Z",
     "iopub.status.busy": "2022-09-20T01:56:44.606941Z",
     "iopub.status.idle": "2022-09-20T01:56:45.034606Z",
     "shell.execute_reply": "2022-09-20T01:56:45.033781Z",
     "shell.execute_reply.started": "2022-09-20T01:56:44.607421Z"
    },
    "id": "icwUQ-bJjiaj",
    "outputId": "d2b4244a-09cf-43af-e2a6-9e234e68d005"
   },
   "outputs": [],
   "source": [
    "import pandas as pd\n",
    "import numpy as np\n",
    "import statsmodels.api as sm\n",
    "import seaborn as sns\n",
    "import graphviz\n",
    "import matplotlib.pyplot as plt\n",
    "from sklearn import metrics\n",
    "from sklearn import preprocessing\n",
    "from sklearn.feature_selection import VarianceThreshold,RFECV\n",
    "from sklearn.inspection import permutation_importance\n",
    "from sklearn.neighbors import KNeighborsClassifier\n",
    "from sklearn.linear_model import LogisticRegressionCV\n",
    "from sklearn.ensemble import RandomForestClassifier\n",
    "from sklearn.model_selection import train_test_split, cross_val_score, cross_val_predict,RepeatedStratifiedKFold,StratifiedKFold\n",
    "from imblearn.over_sampling import SMOTE\n",
    "\n",
    "startup_df = pd.read_csv(\"startup_df.csv\")\n"
   ]
  },
  {
   "cell_type": "code",
   "execution_count": 3,
   "metadata": {},
   "outputs": [
    {
     "data": {
      "text/html": [
       "<div>\n",
       "<style scoped>\n",
       "    .dataframe tbody tr th:only-of-type {\n",
       "        vertical-align: middle;\n",
       "    }\n",
       "\n",
       "    .dataframe tbody tr th {\n",
       "        vertical-align: top;\n",
       "    }\n",
       "\n",
       "    .dataframe thead th {\n",
       "        text-align: right;\n",
       "    }\n",
       "</style>\n",
       "<table border=\"1\" class=\"dataframe\">\n",
       "  <thead>\n",
       "    <tr style=\"text-align: right;\">\n",
       "      <th></th>\n",
       "      <th>name</th>\n",
       "      <th>market</th>\n",
       "      <th>funding_total_usd</th>\n",
       "      <th>country_code</th>\n",
       "      <th>region</th>\n",
       "      <th>city</th>\n",
       "      <th>funding_rounds</th>\n",
       "      <th>founded_month</th>\n",
       "      <th>founded_quarter</th>\n",
       "      <th>founded_year</th>\n",
       "      <th>...</th>\n",
       "      <th>round_C</th>\n",
       "      <th>round_D</th>\n",
       "      <th>round_E</th>\n",
       "      <th>round_F</th>\n",
       "      <th>round_G</th>\n",
       "      <th>round_H</th>\n",
       "      <th>age_first_funding</th>\n",
       "      <th>age_last_funding</th>\n",
       "      <th>status_binary</th>\n",
       "      <th>total_investment</th>\n",
       "    </tr>\n",
       "  </thead>\n",
       "  <tbody>\n",
       "    <tr>\n",
       "      <th>0</th>\n",
       "      <td>#waywire</td>\n",
       "      <td>Other</td>\n",
       "      <td>17,50,000</td>\n",
       "      <td>USA</td>\n",
       "      <td>New York City</td>\n",
       "      <td>New York</td>\n",
       "      <td>1.0</td>\n",
       "      <td>6.0</td>\n",
       "      <td>2.0</td>\n",
       "      <td>2012.0</td>\n",
       "      <td>...</td>\n",
       "      <td>0.0</td>\n",
       "      <td>0.0</td>\n",
       "      <td>0.0</td>\n",
       "      <td>0.0</td>\n",
       "      <td>0.0</td>\n",
       "      <td>0.0</td>\n",
       "      <td>0.079452</td>\n",
       "      <td>0.079452</td>\n",
       "      <td>1</td>\n",
       "      <td>1750000.0</td>\n",
       "    </tr>\n",
       "    <tr>\n",
       "      <th>1</th>\n",
       "      <td>1000memories</td>\n",
       "      <td>Curated Web</td>\n",
       "      <td>25,35,000</td>\n",
       "      <td>USA</td>\n",
       "      <td>SF Bay Area</td>\n",
       "      <td>San Francisco</td>\n",
       "      <td>2.0</td>\n",
       "      <td>7.0</td>\n",
       "      <td>3.0</td>\n",
       "      <td>2010.0</td>\n",
       "      <td>...</td>\n",
       "      <td>0.0</td>\n",
       "      <td>0.0</td>\n",
       "      <td>0.0</td>\n",
       "      <td>0.0</td>\n",
       "      <td>0.0</td>\n",
       "      <td>0.0</td>\n",
       "      <td>0.000000</td>\n",
       "      <td>0.630137</td>\n",
       "      <td>1</td>\n",
       "      <td>2535000.0</td>\n",
       "    </tr>\n",
       "    <tr>\n",
       "      <th>2</th>\n",
       "      <td>100Plus</td>\n",
       "      <td>Analytics</td>\n",
       "      <td>12,50,000</td>\n",
       "      <td>USA</td>\n",
       "      <td>SF Bay Area</td>\n",
       "      <td>San Francisco</td>\n",
       "      <td>2.0</td>\n",
       "      <td>9.0</td>\n",
       "      <td>3.0</td>\n",
       "      <td>2011.0</td>\n",
       "      <td>...</td>\n",
       "      <td>0.0</td>\n",
       "      <td>0.0</td>\n",
       "      <td>0.0</td>\n",
       "      <td>0.0</td>\n",
       "      <td>0.0</td>\n",
       "      <td>0.0</td>\n",
       "      <td>0.128767</td>\n",
       "      <td>0.205479</td>\n",
       "      <td>1</td>\n",
       "      <td>1250000.0</td>\n",
       "    </tr>\n",
       "    <tr>\n",
       "      <th>3</th>\n",
       "      <td>10BestThings</td>\n",
       "      <td>Curated Web</td>\n",
       "      <td>50,000</td>\n",
       "      <td>USA</td>\n",
       "      <td>Cleveland</td>\n",
       "      <td>Cleveland</td>\n",
       "      <td>1.0</td>\n",
       "      <td>4.0</td>\n",
       "      <td>2.0</td>\n",
       "      <td>2009.0</td>\n",
       "      <td>...</td>\n",
       "      <td>0.0</td>\n",
       "      <td>0.0</td>\n",
       "      <td>0.0</td>\n",
       "      <td>0.0</td>\n",
       "      <td>0.0</td>\n",
       "      <td>0.0</td>\n",
       "      <td>0.000000</td>\n",
       "      <td>0.000000</td>\n",
       "      <td>0</td>\n",
       "      <td>50000.0</td>\n",
       "    </tr>\n",
       "    <tr>\n",
       "      <th>4</th>\n",
       "      <td>12Society</td>\n",
       "      <td>E-Commerce</td>\n",
       "      <td>-</td>\n",
       "      <td>USA</td>\n",
       "      <td>Los Angeles</td>\n",
       "      <td>West Hollywood</td>\n",
       "      <td>1.0</td>\n",
       "      <td>1.0</td>\n",
       "      <td>1.0</td>\n",
       "      <td>2012.0</td>\n",
       "      <td>...</td>\n",
       "      <td>0.0</td>\n",
       "      <td>0.0</td>\n",
       "      <td>0.0</td>\n",
       "      <td>0.0</td>\n",
       "      <td>0.0</td>\n",
       "      <td>0.0</td>\n",
       "      <td>0.260274</td>\n",
       "      <td>0.260274</td>\n",
       "      <td>1</td>\n",
       "      <td>0.0</td>\n",
       "    </tr>\n",
       "  </tbody>\n",
       "</table>\n",
       "<p>5 rows × 35 columns</p>\n",
       "</div>"
      ],
      "text/plain": [
       "           name        market funding_total_usd country_code         region  \\\n",
       "0      #waywire         Other        17,50,000           USA  New York City   \n",
       "1  1000memories  Curated Web         25,35,000           USA    SF Bay Area   \n",
       "2       100Plus    Analytics         12,50,000           USA    SF Bay Area   \n",
       "3  10BestThings  Curated Web            50,000           USA      Cleveland   \n",
       "4     12Society   E-Commerce               -             USA    Los Angeles   \n",
       "\n",
       "             city  funding_rounds  founded_month  founded_quarter  \\\n",
       "0        New York             1.0            6.0              2.0   \n",
       "1   San Francisco             2.0            7.0              3.0   \n",
       "2   San Francisco             2.0            9.0              3.0   \n",
       "3       Cleveland             1.0            4.0              2.0   \n",
       "4  West Hollywood             1.0            1.0              1.0   \n",
       "\n",
       "   founded_year  ...  round_C  round_D  round_E  round_F  round_G  round_H  \\\n",
       "0        2012.0  ...      0.0      0.0      0.0      0.0      0.0      0.0   \n",
       "1        2010.0  ...      0.0      0.0      0.0      0.0      0.0      0.0   \n",
       "2        2011.0  ...      0.0      0.0      0.0      0.0      0.0      0.0   \n",
       "3        2009.0  ...      0.0      0.0      0.0      0.0      0.0      0.0   \n",
       "4        2012.0  ...      0.0      0.0      0.0      0.0      0.0      0.0   \n",
       "\n",
       "   age_first_funding  age_last_funding  status_binary  total_investment  \n",
       "0           0.079452          0.079452              1         1750000.0  \n",
       "1           0.000000          0.630137              1         2535000.0  \n",
       "2           0.128767          0.205479              1         1250000.0  \n",
       "3           0.000000          0.000000              0           50000.0  \n",
       "4           0.260274          0.260274              1               0.0  \n",
       "\n",
       "[5 rows x 35 columns]"
      ]
     },
     "execution_count": 3,
     "metadata": {},
     "output_type": "execute_result"
    }
   ],
   "source": [
    "startup_df.head()"
   ]
  },
  {
   "cell_type": "code",
   "execution_count": 4,
   "metadata": {},
   "outputs": [
    {
     "data": {
      "text/plain": [
       "Index(['name', 'market', 'funding_total_usd', 'country_code', 'region', 'city',\n",
       "       'funding_rounds', 'founded_month', 'founded_quarter', 'founded_year',\n",
       "       'seed', 'venture', 'equity_crowdfunding', 'undisclosed',\n",
       "       'convertible_note', 'debt_financing', 'angel', 'grant',\n",
       "       'private_equity', 'post_ipo_equity', 'post_ipo_debt',\n",
       "       'secondary_market', 'product_crowdfunding', 'round_A', 'round_B',\n",
       "       'round_C', 'round_D', 'round_E', 'round_F', 'round_G', 'round_H',\n",
       "       'age_first_funding', 'age_last_funding', 'status_binary',\n",
       "       'total_investment'],\n",
       "      dtype='object')"
      ]
     },
     "execution_count": 4,
     "metadata": {},
     "output_type": "execute_result"
    }
   ],
   "source": [
    "startup_df.columns"
   ]
  },
  {
   "cell_type": "code",
   "execution_count": 11,
   "metadata": {},
   "outputs": [],
   "source": []
  },
  {
   "cell_type": "markdown",
   "metadata": {},
   "source": [
    "## Split data by founded year"
   ]
  },
  {
   "cell_type": "code",
   "execution_count": 15,
   "metadata": {
    "execution": {
     "iopub.execute_input": "2022-09-20T01:56:54.460687Z",
     "iopub.status.busy": "2022-09-20T01:56:54.460290Z",
     "iopub.status.idle": "2022-09-20T01:56:54.482851Z",
     "shell.execute_reply": "2022-09-20T01:56:54.480997Z",
     "shell.execute_reply.started": "2022-09-20T01:56:54.460641Z"
    }
   },
   "outputs": [
    {
     "data": {
      "text/plain": [
       "count    3851.000000\n",
       "mean     2006.351078\n",
       "std         4.142129\n",
       "min      1995.000000\n",
       "25%      2004.000000\n",
       "50%      2007.000000\n",
       "75%      2010.000000\n",
       "max      2014.000000\n",
       "Name: founded_year, dtype: float64"
      ]
     },
     "execution_count": 15,
     "metadata": {},
     "output_type": "execute_result"
    }
   ],
   "source": [
    "startup_df.founded_year.describe()"
   ]
  },
  {
   "cell_type": "code",
   "execution_count": 30,
   "metadata": {},
   "outputs": [],
   "source": [
    "drop_cols = ['name', 'country_code', 'region', 'city',\n",
    "        'post_ipo_equity', 'post_ipo_debt',\n",
    "       'round_G', 'round_H',\n",
    "        'age_last_funding', 'status_binary', 'funding_total_usd'\n",
    "]"
   ]
  },
  {
   "cell_type": "code",
   "execution_count": 31,
   "metadata": {
    "execution": {
     "iopub.execute_input": "2022-09-20T01:56:54.485538Z",
     "iopub.status.busy": "2022-09-20T01:56:54.485068Z",
     "iopub.status.idle": "2022-09-20T01:56:54.502645Z",
     "shell.execute_reply": "2022-09-20T01:56:54.500912Z",
     "shell.execute_reply.started": "2022-09-20T01:56:54.485492Z"
    }
   },
   "outputs": [],
   "source": [
    "## split train and test\n",
    "\n",
    "train = startup_df[startup_df.founded_year <= 2010]\n",
    "test = startup_df[startup_df.founded_year > 2010]"
   ]
  },
  {
   "cell_type": "code",
   "execution_count": 42,
   "metadata": {},
   "outputs": [],
   "source": [
    "train.to_csv('crunchbase_train.csv', index=False)\n",
    "test.to_csv('crunchbase_test.csv', index=False)"
   ]
  },
  {
   "cell_type": "code",
   "execution_count": null,
   "metadata": {},
   "outputs": [],
   "source": []
  },
  {
   "cell_type": "code",
   "execution_count": null,
   "metadata": {},
   "outputs": [],
   "source": []
  },
  {
   "cell_type": "code",
   "execution_count": null,
   "metadata": {},
   "outputs": [],
   "source": []
  },
  {
   "cell_type": "code",
   "execution_count": null,
   "metadata": {},
   "outputs": [],
   "source": []
  },
  {
   "cell_type": "code",
   "execution_count": null,
   "metadata": {},
   "outputs": [],
   "source": []
  },
  {
   "cell_type": "code",
   "execution_count": 32,
   "metadata": {
    "execution": {
     "iopub.execute_input": "2022-09-20T01:56:54.509400Z",
     "iopub.status.busy": "2022-09-20T01:56:54.507216Z",
     "iopub.status.idle": "2022-09-20T01:56:54.522233Z",
     "shell.execute_reply": "2022-09-20T01:56:54.520119Z",
     "shell.execute_reply.started": "2022-09-20T01:56:54.507684Z"
    }
   },
   "outputs": [
    {
     "data": {
      "text/plain": [
       "0    308\n",
       "1    289\n",
       "Name: status_binary, dtype: int64"
      ]
     },
     "execution_count": 32,
     "metadata": {},
     "output_type": "execute_result"
    }
   ],
   "source": [
    "test.status_binary.value_counts()"
   ]
  },
  {
   "cell_type": "code",
   "execution_count": 33,
   "metadata": {
    "execution": {
     "iopub.execute_input": "2022-09-20T01:56:54.525357Z",
     "iopub.status.busy": "2022-09-20T01:56:54.524514Z",
     "iopub.status.idle": "2022-09-20T01:56:54.534830Z",
     "shell.execute_reply": "2022-09-20T01:56:54.533088Z",
     "shell.execute_reply.started": "2022-09-20T01:56:54.525312Z"
    }
   },
   "outputs": [],
   "source": [
    "X_train = train.drop(drop_cols, axis=1)\n",
    "y_train = train['status_binary']\n",
    "X_test = test.drop(drop_cols, axis=1)\n",
    "y_test = test['status_binary']"
   ]
  },
  {
   "cell_type": "code",
   "execution_count": 34,
   "metadata": {
    "execution": {
     "iopub.execute_input": "2022-09-20T01:56:54.541003Z",
     "iopub.status.busy": "2022-09-20T01:56:54.540526Z",
     "iopub.status.idle": "2022-09-20T01:56:54.553683Z",
     "shell.execute_reply": "2022-09-20T01:56:54.552562Z",
     "shell.execute_reply.started": "2022-09-20T01:56:54.540950Z"
    }
   },
   "outputs": [
    {
     "data": {
      "text/plain": [
       "1    1958\n",
       "0    1296\n",
       "Name: status_binary, dtype: int64"
      ]
     },
     "execution_count": 34,
     "metadata": {},
     "output_type": "execute_result"
    }
   ],
   "source": [
    "y_train.value_counts()"
   ]
  },
  {
   "cell_type": "code",
   "execution_count": 35,
   "metadata": {
    "execution": {
     "iopub.execute_input": "2022-09-20T01:56:54.557026Z",
     "iopub.status.busy": "2022-09-20T01:56:54.556048Z",
     "iopub.status.idle": "2022-09-20T01:56:54.567175Z",
     "shell.execute_reply": "2022-09-20T01:56:54.565903Z",
     "shell.execute_reply.started": "2022-09-20T01:56:54.556965Z"
    }
   },
   "outputs": [],
   "source": [
    "#final_train.isna().sum()"
   ]
  },
  {
   "cell_type": "code",
   "execution_count": 36,
   "metadata": {
    "execution": {
     "iopub.execute_input": "2022-09-20T01:57:49.884281Z",
     "iopub.status.busy": "2022-09-20T01:57:49.883844Z",
     "iopub.status.idle": "2022-09-20T01:57:49.904425Z",
     "shell.execute_reply": "2022-09-20T01:57:49.903183Z",
     "shell.execute_reply.started": "2022-09-20T01:57:49.884247Z"
    }
   },
   "outputs": [],
   "source": [
    "## get dummies \n",
    "one_hot_encoded_training_predictors = pd.get_dummies(X_train)\n",
    "one_hot_encoded_test_predictors = pd.get_dummies(X_test)\n",
    "final_train, final_test = one_hot_encoded_training_predictors.align(one_hot_encoded_test_predictors,\n",
    "                                                                    join='left', \n",
    "                                                                    axis=1)"
   ]
  },
  {
   "cell_type": "code",
   "execution_count": 37,
   "metadata": {
    "execution": {
     "iopub.execute_input": "2022-09-20T01:56:54.569412Z",
     "iopub.status.busy": "2022-09-20T01:56:54.568807Z",
     "iopub.status.idle": "2022-09-20T01:56:54.582063Z",
     "shell.execute_reply": "2022-09-20T01:56:54.579895Z",
     "shell.execute_reply.started": "2022-09-20T01:56:54.569374Z"
    }
   },
   "outputs": [
    {
     "data": {
      "text/plain": [
       "funding_rounds                   0\n",
       "founded_month                    0\n",
       "founded_quarter                  0\n",
       "founded_year                     0\n",
       "seed                             0\n",
       "venture                          0\n",
       "equity_crowdfunding              0\n",
       "undisclosed                      0\n",
       "convertible_note                 0\n",
       "debt_financing                   0\n",
       "angel                            0\n",
       "grant                            0\n",
       "private_equity                   0\n",
       "secondary_market                 0\n",
       "product_crowdfunding             0\n",
       "round_A                          0\n",
       "round_B                          0\n",
       "round_C                          0\n",
       "round_D                          0\n",
       "round_E                          0\n",
       "round_F                          0\n",
       "age_first_funding                0\n",
       "total_investment                 0\n",
       "market_Advertising               0\n",
       "market_Analytics                 0\n",
       "market_Biotechnology             0\n",
       "market_Clean Technology        597\n",
       "market_Curated Web               0\n",
       "market_E-Commerce                0\n",
       "market_Education                 0\n",
       "market_Enterprise Software       0\n",
       "market_Finance                   0\n",
       "market_Games                     0\n",
       "market_Hardware + Software       0\n",
       "market_Health Care               0\n",
       "market_Messaging                 0\n",
       "market_Mobile                    0\n",
       "market_Other                     0\n",
       "market_Search                    0\n",
       "market_Security                  0\n",
       "market_Semiconductors            0\n",
       "market_Social Media              0\n",
       "market_Software                  0\n",
       "market_Web Hosting               0\n",
       "dtype: int64"
      ]
     },
     "execution_count": 37,
     "metadata": {},
     "output_type": "execute_result"
    }
   ],
   "source": [
    "final_test.isna().sum()"
   ]
  },
  {
   "cell_type": "code",
   "execution_count": 38,
   "metadata": {
    "execution": {
     "iopub.execute_input": "2022-09-20T01:57:50.628278Z",
     "iopub.status.busy": "2022-09-20T01:57:50.627866Z",
     "iopub.status.idle": "2022-09-20T01:57:50.635124Z",
     "shell.execute_reply": "2022-09-20T01:57:50.633950Z",
     "shell.execute_reply.started": "2022-09-20T01:57:50.628245Z"
    }
   },
   "outputs": [],
   "source": [
    "final_test.fillna(0, inplace=True)"
   ]
  },
  {
   "cell_type": "code",
   "execution_count": 39,
   "metadata": {
    "execution": {
     "iopub.execute_input": "2022-09-20T01:57:51.176330Z",
     "iopub.status.busy": "2022-09-20T01:57:51.175904Z",
     "iopub.status.idle": "2022-09-20T01:57:51.183352Z",
     "shell.execute_reply": "2022-09-20T01:57:51.182315Z",
     "shell.execute_reply.started": "2022-09-20T01:57:51.176290Z"
    }
   },
   "outputs": [
    {
     "data": {
      "text/plain": [
       "Index(['funding_rounds', 'founded_month', 'founded_quarter', 'founded_year',\n",
       "       'seed', 'venture', 'equity_crowdfunding', 'undisclosed',\n",
       "       'convertible_note', 'debt_financing', 'angel', 'grant',\n",
       "       'private_equity', 'secondary_market', 'product_crowdfunding', 'round_A',\n",
       "       'round_B', 'round_C', 'round_D', 'round_E', 'round_F',\n",
       "       'age_first_funding', 'total_investment', 'market_Advertising ',\n",
       "       'market_Analytics ', 'market_Biotechnology ',\n",
       "       'market_Clean Technology ', 'market_Curated Web ', 'market_E-Commerce ',\n",
       "       'market_Education ', 'market_Enterprise Software ', 'market_Finance ',\n",
       "       'market_Games ', 'market_Hardware + Software ', 'market_Health Care ',\n",
       "       'market_Messaging ', 'market_Mobile ', 'market_Other', 'market_Search ',\n",
       "       'market_Security ', 'market_Semiconductors ', 'market_Social Media ',\n",
       "       'market_Software ', 'market_Web Hosting '],\n",
       "      dtype='object')"
      ]
     },
     "execution_count": 39,
     "metadata": {},
     "output_type": "execute_result"
    }
   ],
   "source": [
    "final_train.columns"
   ]
  },
  {
   "cell_type": "code",
   "execution_count": 40,
   "metadata": {
    "execution": {
     "iopub.execute_input": "2022-09-20T01:57:52.052414Z",
     "iopub.status.busy": "2022-09-20T01:57:52.052018Z",
     "iopub.status.idle": "2022-09-20T01:58:06.200637Z",
     "shell.execute_reply": "2022-09-20T01:58:06.199282Z",
     "shell.execute_reply.started": "2022-09-20T01:57:52.052383Z"
    },
    "id": "emFcGwDaJxsP",
    "outputId": "5b583591-1b17-42be-ef91-04677950e8cf"
   },
   "outputs": [
    {
     "name": "stdout",
     "output_type": "stream",
     "text": [
      "90 - train score: 0.995 | test score: 0.700\n",
      "110 - train score: 0.995 | test score: 0.695\n",
      "130 - train score: 0.995 | test score: 0.704\n",
      "150 - train score: 0.995 | test score: 0.707\n",
      "170 - train score: 0.995 | test score: 0.702\n",
      "190 - train score: 0.995 | test score: 0.714\n",
      "210 - train score: 0.995 | test score: 0.705\n",
      "230 - train score: 0.995 | test score: 0.704\n",
      "250 - train score: 0.995 | test score: 0.702\n",
      "270 - train score: 0.995 | test score: 0.717\n",
      "290 - train score: 0.995 | test score: 0.709\n"
     ]
    }
   ],
   "source": [
    "#Testing the impact of increasing desicion trees used to predict y.\n",
    "n = 90\n",
    "while n <= 300:\n",
    "    model = RandomForestClassifier(n_estimators=n)\n",
    "    model.fit(final_train, y_train)\n",
    "    print('{} - train score: {:.3f} | test score: {:.3f}'.format(n,model.score(final_train,y_train),model.score(final_test,y_test)))\n",
    "    n = n+20"
   ]
  },
  {
   "cell_type": "code",
   "execution_count": 74,
   "metadata": {
    "execution": {
     "iopub.execute_input": "2022-09-20T01:58:07.875076Z",
     "iopub.status.busy": "2022-09-20T01:58:07.874657Z",
     "iopub.status.idle": "2022-09-20T01:58:09.444256Z",
     "shell.execute_reply": "2022-09-20T01:58:09.442671Z",
     "shell.execute_reply.started": "2022-09-20T01:58:07.875043Z"
    },
    "id": "JAQJaXTruk9Q",
    "outputId": "305b826f-dcc1-4a06-fdd4-e5972ecf4864"
   },
   "outputs": [
    {
     "data": {
      "image/png": "[encoded data removed]",
      "text/plain": [
       "<Figure size 432x288 with 1 Axes>"
      ]
     },
     "metadata": {
      "needs_background": "light"
     },
     "output_type": "display_data"
    }
   ],
   "source": [
    "model = RandomForestClassifier(n_estimators=230) \n",
    "model.fit(final_train, y_train)\n",
    "\n",
    "#ROC CURVE - Plotting the true positives against the false positives and an AUC score\n",
    "y_pred_proba = model.predict_proba(final_test) [:,1]\n",
    "fpr, tpr, _ = metrics.roc_curve(y_test, y_pred_proba)\n",
    "auc = metrics.roc_auc_score(y_test, y_pred_proba)\n",
    "plt.plot(fpr,tpr,label=\"data 1, auc=\"+str(auc))\n",
    "plt.xlabel('False positive rate')\n",
    "plt.ylabel('True positive rate')\n",
    "plt.legend(loc=4)\n",
    "plt.show()"
   ]
  },
  {
   "cell_type": "code",
   "execution_count": null,
   "metadata": {
    "id": "kH-yHdfX8L6L"
   },
   "outputs": [],
   "source": []
  }
 ],
 "metadata": {
  "kernelspec": {
   "display_name": "Python 3 (ipykernel)",
   "language": "python",
   "name": "python3"
  },
  "language_info": {
   "codemirror_mode": {
    "name": "ipython",
    "version": 3
   },
   "file_extension": ".py",
   "mimetype": "text/x-python",
   "name": "python",
   "nbconvert_exporter": "python",
   "pygments_lexer": "ipython3",
   "version": "3.8.13"
  }
 },
 "nbformat": 4,
 "nbformat_minor": 4
}
