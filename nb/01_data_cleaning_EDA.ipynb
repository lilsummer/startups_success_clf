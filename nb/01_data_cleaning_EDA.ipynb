{
 "cells": [
  {
   "cell_type": "markdown",
   "metadata": {
    "id": "2u1slszvL7Gq"
   },
   "source": [
    "# Predicting the chance of startup success\n"
   ]
  },
  {
   "cell_type": "markdown",
   "metadata": {},
   "source": [
    "## Credits to..\n",
    "\n",
    "Most of the scripts here is directly from this kaggle notebook [Random Forrest and Logistic Regression, AUC: 81,4](https://www.kaggle.com/code/nikolajtrampedach/random-forrest-and-logistic-regression-auc-81-4) by [Nikolaj Trampedach](https://www.kaggle.com/nikolajtrampedach)\n",
    "\n"
   ]
  },
  {
   "cell_type": "markdown",
   "metadata": {},
   "source": [
    "## Data cleaning steps\n",
    "\n",
    "* convert to `pd.datetime`\n",
    "* calculating `age_first_funding` and `age_last_funding`\n",
    "* drop columns: `url` `permalink` etc\n",
    "* drop rows with na values\n",
    "* only include startups founded after 1995"
   ]
  },
  {
   "cell_type": "markdown",
   "metadata": {
    "id": "5BzW_0pwo2Jq"
   },
   "source": [
    "## Import of data and relevant libaries"
   ]
  },
  {
   "cell_type": "code",
   "execution_count": 70,
   "metadata": {
    "execution": {
     "iopub.execute_input": "2022-09-20T01:56:44.607467Z",
     "iopub.status.busy": "2022-09-20T01:56:44.606941Z",
     "iopub.status.idle": "2022-09-20T01:56:45.034606Z",
     "shell.execute_reply": "2022-09-20T01:56:45.033781Z",
     "shell.execute_reply.started": "2022-09-20T01:56:44.607421Z"
    },
    "id": "icwUQ-bJjiaj",
    "outputId": "d2b4244a-09cf-43af-e2a6-9e234e68d005"
   },
   "outputs": [],
   "source": [
    "import pandas as pd\n",
    "import numpy as np\n",
    "import statsmodels.api as sm\n",
    "import seaborn as sns\n",
    "import graphviz\n",
    "import matplotlib.pyplot as plt\n",
    "from sklearn import metrics\n",
    "from sklearn import preprocessing\n",
    "from sklearn.feature_selection import VarianceThreshold,RFECV\n",
    "from sklearn.inspection import permutation_importance\n",
    "from sklearn.neighbors import KNeighborsClassifier\n",
    "from sklearn.linear_model import LogisticRegressionCV\n",
    "from sklearn.ensemble import RandomForestClassifier\n",
    "from sklearn.model_selection import train_test_split, cross_val_score, cross_val_predict,RepeatedStratifiedKFold,StratifiedKFold\n",
    "from imblearn.over_sampling import SMOTE\n",
    "\n",
    "startup_df = pd.read_csv(\"investments_VC.csv\", delimiter=',', header = 0, encoding = \"ISO-8859-1\",skipinitialspace=True)\n",
    "startup_df = startup_df.rename(columns={'market ': 'market', 'funding_total_usd ': 'funding_total_usd'})\n"
   ]
  },
  {
   "cell_type": "code",
   "execution_count": 71,
   "metadata": {
    "execution": {
     "iopub.execute_input": "2022-09-20T01:56:45.036805Z",
     "iopub.status.busy": "2022-09-20T01:56:45.036288Z",
     "iopub.status.idle": "2022-09-20T01:56:45.096668Z",
     "shell.execute_reply": "2022-09-20T01:56:45.095626Z",
     "shell.execute_reply.started": "2022-09-20T01:56:45.036749Z"
    },
    "id": "EZI3CpGvoMx9",
    "outputId": "5cae6982-b644-4885-dcc7-694e2bf9dc37"
   },
   "outputs": [
    {
     "name": "stdout",
     "output_type": "stream",
     "text": [
      "<class 'pandas.core.frame.DataFrame'>\n",
      "RangeIndex: 54294 entries, 0 to 54293\n",
      "Data columns (total 39 columns):\n",
      " #   Column                Non-Null Count  Dtype  \n",
      "---  ------                --------------  -----  \n",
      " 0   permalink             49438 non-null  object \n",
      " 1   name                  49437 non-null  object \n",
      " 2   homepage_url          45989 non-null  object \n",
      " 3   category_list         45477 non-null  object \n",
      " 4   market                45470 non-null  object \n",
      " 5   funding_total_usd     49438 non-null  object \n",
      " 6   status                48124 non-null  object \n",
      " 7   country_code          44165 non-null  object \n",
      " 8   state_code            30161 non-null  object \n",
      " 9   region                44165 non-null  object \n",
      " 10  city                  43322 non-null  object \n",
      " 11  funding_rounds        49438 non-null  float64\n",
      " 12  founded_at            38554 non-null  object \n",
      " 13  founded_month         38482 non-null  object \n",
      " 14  founded_quarter       38482 non-null  object \n",
      " 15  founded_year          38482 non-null  float64\n",
      " 16  first_funding_at      49438 non-null  object \n",
      " 17  last_funding_at       49438 non-null  object \n",
      " 18  seed                  49438 non-null  float64\n",
      " 19  venture               49438 non-null  float64\n",
      " 20  equity_crowdfunding   49438 non-null  float64\n",
      " 21  undisclosed           49438 non-null  float64\n",
      " 22  convertible_note      49438 non-null  float64\n",
      " 23  debt_financing        49438 non-null  float64\n",
      " 24  angel                 49438 non-null  float64\n",
      " 25  grant                 49438 non-null  float64\n",
      " 26  private_equity        49438 non-null  float64\n",
      " 27  post_ipo_equity       49438 non-null  float64\n",
      " 28  post_ipo_debt         49438 non-null  float64\n",
      " 29  secondary_market      49438 non-null  float64\n",
      " 30  product_crowdfunding  49438 non-null  float64\n",
      " 31  round_A               49438 non-null  float64\n",
      " 32  round_B               49438 non-null  float64\n",
      " 33  round_C               49438 non-null  float64\n",
      " 34  round_D               49438 non-null  float64\n",
      " 35  round_E               49438 non-null  float64\n",
      " 36  round_F               49438 non-null  float64\n",
      " 37  round_G               49438 non-null  float64\n",
      " 38  round_H               49438 non-null  float64\n",
      "dtypes: float64(23), object(16)\n",
      "memory usage: 16.2+ MB\n"
     ]
    }
   ],
   "source": [
    "startup_df.info()"
   ]
  },
  {
   "cell_type": "code",
   "execution_count": 72,
   "metadata": {
    "execution": {
     "iopub.execute_input": "2022-09-20T01:56:45.098485Z",
     "iopub.status.busy": "2022-09-20T01:56:45.098166Z",
     "iopub.status.idle": "2022-09-20T01:56:45.171588Z",
     "shell.execute_reply": "2022-09-20T01:56:45.170217Z",
     "shell.execute_reply.started": "2022-09-20T01:56:45.098454Z"
    },
    "id": "V1ZXlpHInTWi"
   },
   "outputs": [],
   "source": [
    "#Based on the .info() function, we can identify that some data variables need to be converted into a date type.\n",
    "format_date = ('founded_at','first_funding_at','last_funding_at')\n",
    "for i in format_date:\n",
    "  startup_df[i] = pd.to_datetime(startup_df[i], format = '%Y-%m-%d', errors = 'coerce')"
   ]
  },
  {
   "cell_type": "code",
   "execution_count": 73,
   "metadata": {
    "execution": {
     "iopub.execute_input": "2022-09-20T01:56:45.173801Z",
     "iopub.status.busy": "2022-09-20T01:56:45.173358Z",
     "iopub.status.idle": "2022-09-20T01:56:45.231475Z",
     "shell.execute_reply": "2022-09-20T01:56:45.229473Z",
     "shell.execute_reply.started": "2022-09-20T01:56:45.173753Z"
    },
    "id": "Pzn4mLLepyCo",
    "outputId": "d00f4523-12af-4203-e314-8a27a5c4fc66"
   },
   "outputs": [
    {
     "name": "stdout",
     "output_type": "stream",
     "text": [
      "<class 'pandas.core.frame.DataFrame'>\n",
      "RangeIndex: 54294 entries, 0 to 54293\n",
      "Data columns (total 39 columns):\n",
      " #   Column                Non-Null Count  Dtype         \n",
      "---  ------                --------------  -----         \n",
      " 0   permalink             49438 non-null  object        \n",
      " 1   name                  49437 non-null  object        \n",
      " 2   homepage_url          45989 non-null  object        \n",
      " 3   category_list         45477 non-null  object        \n",
      " 4   market                45470 non-null  object        \n",
      " 5   funding_total_usd     49438 non-null  object        \n",
      " 6   status                48124 non-null  object        \n",
      " 7   country_code          44165 non-null  object        \n",
      " 8   state_code            30161 non-null  object        \n",
      " 9   region                44165 non-null  object        \n",
      " 10  city                  43322 non-null  object        \n",
      " 11  funding_rounds        49438 non-null  float64       \n",
      " 12  founded_at            38553 non-null  datetime64[ns]\n",
      " 13  founded_month         38482 non-null  object        \n",
      " 14  founded_quarter       38482 non-null  object        \n",
      " 15  founded_year          38482 non-null  float64       \n",
      " 16  first_funding_at      49428 non-null  datetime64[ns]\n",
      " 17  last_funding_at       49432 non-null  datetime64[ns]\n",
      " 18  seed                  49438 non-null  float64       \n",
      " 19  venture               49438 non-null  float64       \n",
      " 20  equity_crowdfunding   49438 non-null  float64       \n",
      " 21  undisclosed           49438 non-null  float64       \n",
      " 22  convertible_note      49438 non-null  float64       \n",
      " 23  debt_financing        49438 non-null  float64       \n",
      " 24  angel                 49438 non-null  float64       \n",
      " 25  grant                 49438 non-null  float64       \n",
      " 26  private_equity        49438 non-null  float64       \n",
      " 27  post_ipo_equity       49438 non-null  float64       \n",
      " 28  post_ipo_debt         49438 non-null  float64       \n",
      " 29  secondary_market      49438 non-null  float64       \n",
      " 30  product_crowdfunding  49438 non-null  float64       \n",
      " 31  round_A               49438 non-null  float64       \n",
      " 32  round_B               49438 non-null  float64       \n",
      " 33  round_C               49438 non-null  float64       \n",
      " 34  round_D               49438 non-null  float64       \n",
      " 35  round_E               49438 non-null  float64       \n",
      " 36  round_F               49438 non-null  float64       \n",
      " 37  round_G               49438 non-null  float64       \n",
      " 38  round_H               49438 non-null  float64       \n",
      "dtypes: datetime64[ns](3), float64(23), object(13)\n",
      "memory usage: 16.2+ MB\n"
     ]
    }
   ],
   "source": [
    "startup_df.info()"
   ]
  },
  {
   "cell_type": "code",
   "execution_count": 74,
   "metadata": {
    "execution": {
     "iopub.execute_input": "2022-09-20T01:56:45.236212Z",
     "iopub.status.busy": "2022-09-20T01:56:45.235863Z",
     "iopub.status.idle": "2022-09-20T01:56:45.353667Z",
     "shell.execute_reply": "2022-09-20T01:56:45.351857Z",
     "shell.execute_reply.started": "2022-09-20T01:56:45.236181Z"
    },
    "id": "HpIhblIKjq-a",
    "outputId": "ed776202-85bf-48fe-fd55-72bad5f95954"
   },
   "outputs": [
    {
     "data": {
      "text/html": [
       "<div>\n",
       "<style scoped>\n",
       "    .dataframe tbody tr th:only-of-type {\n",
       "        vertical-align: middle;\n",
       "    }\n",
       "\n",
       "    .dataframe tbody tr th {\n",
       "        vertical-align: top;\n",
       "    }\n",
       "\n",
       "    .dataframe thead th {\n",
       "        text-align: right;\n",
       "    }\n",
       "</style>\n",
       "<table border=\"1\" class=\"dataframe\">\n",
       "  <thead>\n",
       "    <tr style=\"text-align: right;\">\n",
       "      <th></th>\n",
       "      <th>funding_rounds</th>\n",
       "      <th>founded_year</th>\n",
       "      <th>seed</th>\n",
       "      <th>venture</th>\n",
       "      <th>equity_crowdfunding</th>\n",
       "      <th>undisclosed</th>\n",
       "      <th>convertible_note</th>\n",
       "      <th>debt_financing</th>\n",
       "      <th>angel</th>\n",
       "      <th>grant</th>\n",
       "      <th>...</th>\n",
       "      <th>secondary_market</th>\n",
       "      <th>product_crowdfunding</th>\n",
       "      <th>round_A</th>\n",
       "      <th>round_B</th>\n",
       "      <th>round_C</th>\n",
       "      <th>round_D</th>\n",
       "      <th>round_E</th>\n",
       "      <th>round_F</th>\n",
       "      <th>round_G</th>\n",
       "      <th>round_H</th>\n",
       "    </tr>\n",
       "  </thead>\n",
       "  <tbody>\n",
       "    <tr>\n",
       "      <th>count</th>\n",
       "      <td>49438.000000</td>\n",
       "      <td>38482.000000</td>\n",
       "      <td>4.943800e+04</td>\n",
       "      <td>4.943800e+04</td>\n",
       "      <td>4.943800e+04</td>\n",
       "      <td>4.943800e+04</td>\n",
       "      <td>4.943800e+04</td>\n",
       "      <td>4.943800e+04</td>\n",
       "      <td>4.943800e+04</td>\n",
       "      <td>4.943800e+04</td>\n",
       "      <td>...</td>\n",
       "      <td>4.943800e+04</td>\n",
       "      <td>4.943800e+04</td>\n",
       "      <td>4.943800e+04</td>\n",
       "      <td>4.943800e+04</td>\n",
       "      <td>4.943800e+04</td>\n",
       "      <td>4.943800e+04</td>\n",
       "      <td>4.943800e+04</td>\n",
       "      <td>4.943800e+04</td>\n",
       "      <td>4.943800e+04</td>\n",
       "      <td>4.943800e+04</td>\n",
       "    </tr>\n",
       "    <tr>\n",
       "      <th>mean</th>\n",
       "      <td>1.696205</td>\n",
       "      <td>2007.359129</td>\n",
       "      <td>2.173215e+05</td>\n",
       "      <td>7.501051e+06</td>\n",
       "      <td>6.163322e+03</td>\n",
       "      <td>1.302213e+05</td>\n",
       "      <td>2.336410e+04</td>\n",
       "      <td>1.888157e+06</td>\n",
       "      <td>6.541898e+04</td>\n",
       "      <td>1.628453e+05</td>\n",
       "      <td>...</td>\n",
       "      <td>3.845592e+04</td>\n",
       "      <td>7.074227e+03</td>\n",
       "      <td>1.243955e+06</td>\n",
       "      <td>1.492891e+06</td>\n",
       "      <td>1.205356e+06</td>\n",
       "      <td>7.375261e+05</td>\n",
       "      <td>3.424682e+05</td>\n",
       "      <td>1.697692e+05</td>\n",
       "      <td>5.767067e+04</td>\n",
       "      <td>1.423197e+04</td>\n",
       "    </tr>\n",
       "    <tr>\n",
       "      <th>std</th>\n",
       "      <td>1.294213</td>\n",
       "      <td>7.579203</td>\n",
       "      <td>1.056985e+06</td>\n",
       "      <td>2.847112e+07</td>\n",
       "      <td>1.999048e+05</td>\n",
       "      <td>2.981404e+06</td>\n",
       "      <td>1.432046e+06</td>\n",
       "      <td>1.382046e+08</td>\n",
       "      <td>6.582908e+05</td>\n",
       "      <td>5.612088e+06</td>\n",
       "      <td>...</td>\n",
       "      <td>3.864461e+06</td>\n",
       "      <td>4.282166e+05</td>\n",
       "      <td>5.531974e+06</td>\n",
       "      <td>7.472704e+06</td>\n",
       "      <td>7.993592e+06</td>\n",
       "      <td>9.815218e+06</td>\n",
       "      <td>5.406915e+06</td>\n",
       "      <td>6.277905e+06</td>\n",
       "      <td>5.252312e+06</td>\n",
       "      <td>2.716865e+06</td>\n",
       "    </tr>\n",
       "    <tr>\n",
       "      <th>min</th>\n",
       "      <td>1.000000</td>\n",
       "      <td>1902.000000</td>\n",
       "      <td>0.000000e+00</td>\n",
       "      <td>0.000000e+00</td>\n",
       "      <td>0.000000e+00</td>\n",
       "      <td>0.000000e+00</td>\n",
       "      <td>0.000000e+00</td>\n",
       "      <td>0.000000e+00</td>\n",
       "      <td>0.000000e+00</td>\n",
       "      <td>0.000000e+00</td>\n",
       "      <td>...</td>\n",
       "      <td>0.000000e+00</td>\n",
       "      <td>0.000000e+00</td>\n",
       "      <td>0.000000e+00</td>\n",
       "      <td>0.000000e+00</td>\n",
       "      <td>0.000000e+00</td>\n",
       "      <td>0.000000e+00</td>\n",
       "      <td>0.000000e+00</td>\n",
       "      <td>0.000000e+00</td>\n",
       "      <td>0.000000e+00</td>\n",
       "      <td>0.000000e+00</td>\n",
       "    </tr>\n",
       "    <tr>\n",
       "      <th>25%</th>\n",
       "      <td>1.000000</td>\n",
       "      <td>2006.000000</td>\n",
       "      <td>0.000000e+00</td>\n",
       "      <td>0.000000e+00</td>\n",
       "      <td>0.000000e+00</td>\n",
       "      <td>0.000000e+00</td>\n",
       "      <td>0.000000e+00</td>\n",
       "      <td>0.000000e+00</td>\n",
       "      <td>0.000000e+00</td>\n",
       "      <td>0.000000e+00</td>\n",
       "      <td>...</td>\n",
       "      <td>0.000000e+00</td>\n",
       "      <td>0.000000e+00</td>\n",
       "      <td>0.000000e+00</td>\n",
       "      <td>0.000000e+00</td>\n",
       "      <td>0.000000e+00</td>\n",
       "      <td>0.000000e+00</td>\n",
       "      <td>0.000000e+00</td>\n",
       "      <td>0.000000e+00</td>\n",
       "      <td>0.000000e+00</td>\n",
       "      <td>0.000000e+00</td>\n",
       "    </tr>\n",
       "    <tr>\n",
       "      <th>50%</th>\n",
       "      <td>1.000000</td>\n",
       "      <td>2010.000000</td>\n",
       "      <td>0.000000e+00</td>\n",
       "      <td>0.000000e+00</td>\n",
       "      <td>0.000000e+00</td>\n",
       "      <td>0.000000e+00</td>\n",
       "      <td>0.000000e+00</td>\n",
       "      <td>0.000000e+00</td>\n",
       "      <td>0.000000e+00</td>\n",
       "      <td>0.000000e+00</td>\n",
       "      <td>...</td>\n",
       "      <td>0.000000e+00</td>\n",
       "      <td>0.000000e+00</td>\n",
       "      <td>0.000000e+00</td>\n",
       "      <td>0.000000e+00</td>\n",
       "      <td>0.000000e+00</td>\n",
       "      <td>0.000000e+00</td>\n",
       "      <td>0.000000e+00</td>\n",
       "      <td>0.000000e+00</td>\n",
       "      <td>0.000000e+00</td>\n",
       "      <td>0.000000e+00</td>\n",
       "    </tr>\n",
       "    <tr>\n",
       "      <th>75%</th>\n",
       "      <td>2.000000</td>\n",
       "      <td>2012.000000</td>\n",
       "      <td>2.500000e+04</td>\n",
       "      <td>5.000000e+06</td>\n",
       "      <td>0.000000e+00</td>\n",
       "      <td>0.000000e+00</td>\n",
       "      <td>0.000000e+00</td>\n",
       "      <td>0.000000e+00</td>\n",
       "      <td>0.000000e+00</td>\n",
       "      <td>0.000000e+00</td>\n",
       "      <td>...</td>\n",
       "      <td>0.000000e+00</td>\n",
       "      <td>0.000000e+00</td>\n",
       "      <td>0.000000e+00</td>\n",
       "      <td>0.000000e+00</td>\n",
       "      <td>0.000000e+00</td>\n",
       "      <td>0.000000e+00</td>\n",
       "      <td>0.000000e+00</td>\n",
       "      <td>0.000000e+00</td>\n",
       "      <td>0.000000e+00</td>\n",
       "      <td>0.000000e+00</td>\n",
       "    </tr>\n",
       "    <tr>\n",
       "      <th>max</th>\n",
       "      <td>18.000000</td>\n",
       "      <td>2014.000000</td>\n",
       "      <td>1.300000e+08</td>\n",
       "      <td>2.351000e+09</td>\n",
       "      <td>2.500000e+07</td>\n",
       "      <td>2.924328e+08</td>\n",
       "      <td>3.000000e+08</td>\n",
       "      <td>3.007950e+10</td>\n",
       "      <td>6.359026e+07</td>\n",
       "      <td>7.505000e+08</td>\n",
       "      <td>...</td>\n",
       "      <td>6.806116e+08</td>\n",
       "      <td>7.200000e+07</td>\n",
       "      <td>3.190000e+08</td>\n",
       "      <td>5.420000e+08</td>\n",
       "      <td>4.900000e+08</td>\n",
       "      <td>1.200000e+09</td>\n",
       "      <td>4.000000e+08</td>\n",
       "      <td>1.060000e+09</td>\n",
       "      <td>1.000000e+09</td>\n",
       "      <td>6.000000e+08</td>\n",
       "    </tr>\n",
       "  </tbody>\n",
       "</table>\n",
       "<p>8 rows × 23 columns</p>\n",
       "</div>"
      ],
      "text/plain": [
       "       funding_rounds  founded_year          seed       venture  \\\n",
       "count    49438.000000  38482.000000  4.943800e+04  4.943800e+04   \n",
       "mean         1.696205   2007.359129  2.173215e+05  7.501051e+06   \n",
       "std          1.294213      7.579203  1.056985e+06  2.847112e+07   \n",
       "min          1.000000   1902.000000  0.000000e+00  0.000000e+00   \n",
       "25%          1.000000   2006.000000  0.000000e+00  0.000000e+00   \n",
       "50%          1.000000   2010.000000  0.000000e+00  0.000000e+00   \n",
       "75%          2.000000   2012.000000  2.500000e+04  5.000000e+06   \n",
       "max         18.000000   2014.000000  1.300000e+08  2.351000e+09   \n",
       "\n",
       "       equity_crowdfunding   undisclosed  convertible_note  debt_financing  \\\n",
       "count         4.943800e+04  4.943800e+04      4.943800e+04    4.943800e+04   \n",
       "mean          6.163322e+03  1.302213e+05      2.336410e+04    1.888157e+06   \n",
       "std           1.999048e+05  2.981404e+06      1.432046e+06    1.382046e+08   \n",
       "min           0.000000e+00  0.000000e+00      0.000000e+00    0.000000e+00   \n",
       "25%           0.000000e+00  0.000000e+00      0.000000e+00    0.000000e+00   \n",
       "50%           0.000000e+00  0.000000e+00      0.000000e+00    0.000000e+00   \n",
       "75%           0.000000e+00  0.000000e+00      0.000000e+00    0.000000e+00   \n",
       "max           2.500000e+07  2.924328e+08      3.000000e+08    3.007950e+10   \n",
       "\n",
       "              angel         grant  ...  secondary_market  \\\n",
       "count  4.943800e+04  4.943800e+04  ...      4.943800e+04   \n",
       "mean   6.541898e+04  1.628453e+05  ...      3.845592e+04   \n",
       "std    6.582908e+05  5.612088e+06  ...      3.864461e+06   \n",
       "min    0.000000e+00  0.000000e+00  ...      0.000000e+00   \n",
       "25%    0.000000e+00  0.000000e+00  ...      0.000000e+00   \n",
       "50%    0.000000e+00  0.000000e+00  ...      0.000000e+00   \n",
       "75%    0.000000e+00  0.000000e+00  ...      0.000000e+00   \n",
       "max    6.359026e+07  7.505000e+08  ...      6.806116e+08   \n",
       "\n",
       "       product_crowdfunding       round_A       round_B       round_C  \\\n",
       "count          4.943800e+04  4.943800e+04  4.943800e+04  4.943800e+04   \n",
       "mean           7.074227e+03  1.243955e+06  1.492891e+06  1.205356e+06   \n",
       "std            4.282166e+05  5.531974e+06  7.472704e+06  7.993592e+06   \n",
       "min            0.000000e+00  0.000000e+00  0.000000e+00  0.000000e+00   \n",
       "25%            0.000000e+00  0.000000e+00  0.000000e+00  0.000000e+00   \n",
       "50%            0.000000e+00  0.000000e+00  0.000000e+00  0.000000e+00   \n",
       "75%            0.000000e+00  0.000000e+00  0.000000e+00  0.000000e+00   \n",
       "max            7.200000e+07  3.190000e+08  5.420000e+08  4.900000e+08   \n",
       "\n",
       "            round_D       round_E       round_F       round_G       round_H  \n",
       "count  4.943800e+04  4.943800e+04  4.943800e+04  4.943800e+04  4.943800e+04  \n",
       "mean   7.375261e+05  3.424682e+05  1.697692e+05  5.767067e+04  1.423197e+04  \n",
       "std    9.815218e+06  5.406915e+06  6.277905e+06  5.252312e+06  2.716865e+06  \n",
       "min    0.000000e+00  0.000000e+00  0.000000e+00  0.000000e+00  0.000000e+00  \n",
       "25%    0.000000e+00  0.000000e+00  0.000000e+00  0.000000e+00  0.000000e+00  \n",
       "50%    0.000000e+00  0.000000e+00  0.000000e+00  0.000000e+00  0.000000e+00  \n",
       "75%    0.000000e+00  0.000000e+00  0.000000e+00  0.000000e+00  0.000000e+00  \n",
       "max    1.200000e+09  4.000000e+08  1.060000e+09  1.000000e+09  6.000000e+08  \n",
       "\n",
       "[8 rows x 23 columns]"
      ]
     },
     "execution_count": 74,
     "metadata": {},
     "output_type": "execute_result"
    }
   ],
   "source": [
    "startup_df.describe()"
   ]
  },
  {
   "cell_type": "markdown",
   "metadata": {
    "id": "c4pvJTN10zE3"
   },
   "source": [
    "## 2.Initial Data Preparation\n",
    "Preparing for exploration"
   ]
  },
  {
   "cell_type": "code",
   "execution_count": 75,
   "metadata": {
    "execution": {
     "iopub.execute_input": "2022-09-20T01:56:45.358628Z",
     "iopub.status.busy": "2022-09-20T01:56:45.358253Z",
     "iopub.status.idle": "2022-09-20T01:56:45.388030Z",
     "shell.execute_reply": "2022-09-20T01:56:45.386186Z",
     "shell.execute_reply.started": "2022-09-20T01:56:45.358594Z"
    },
    "id": "GgxdqcvivkqR",
    "outputId": "8b5ee392-ec0e-4939-b7df-daec85bc19a6"
   },
   "outputs": [
    {
     "data": {
      "text/html": [
       "<div>\n",
       "<style scoped>\n",
       "    .dataframe tbody tr th:only-of-type {\n",
       "        vertical-align: middle;\n",
       "    }\n",
       "\n",
       "    .dataframe tbody tr th {\n",
       "        vertical-align: top;\n",
       "    }\n",
       "\n",
       "    .dataframe thead th {\n",
       "        text-align: right;\n",
       "    }\n",
       "</style>\n",
       "<table border=\"1\" class=\"dataframe\">\n",
       "  <thead>\n",
       "    <tr style=\"text-align: right;\">\n",
       "      <th></th>\n",
       "      <th>permalink</th>\n",
       "      <th>name</th>\n",
       "      <th>homepage_url</th>\n",
       "      <th>category_list</th>\n",
       "      <th>market</th>\n",
       "      <th>funding_total_usd</th>\n",
       "      <th>status</th>\n",
       "      <th>country_code</th>\n",
       "      <th>state_code</th>\n",
       "      <th>region</th>\n",
       "      <th>...</th>\n",
       "      <th>secondary_market</th>\n",
       "      <th>product_crowdfunding</th>\n",
       "      <th>round_A</th>\n",
       "      <th>round_B</th>\n",
       "      <th>round_C</th>\n",
       "      <th>round_D</th>\n",
       "      <th>round_E</th>\n",
       "      <th>round_F</th>\n",
       "      <th>round_G</th>\n",
       "      <th>round_H</th>\n",
       "    </tr>\n",
       "  </thead>\n",
       "  <tbody>\n",
       "    <tr>\n",
       "      <th>0</th>\n",
       "      <td>/organization/waywire</td>\n",
       "      <td>#waywire</td>\n",
       "      <td>http://www.waywire.com</td>\n",
       "      <td>|Entertainment|Politics|Social Media|News|</td>\n",
       "      <td>News</td>\n",
       "      <td>17,50,000</td>\n",
       "      <td>acquired</td>\n",
       "      <td>USA</td>\n",
       "      <td>NY</td>\n",
       "      <td>New York City</td>\n",
       "      <td>...</td>\n",
       "      <td>0.0</td>\n",
       "      <td>0.0</td>\n",
       "      <td>0.0</td>\n",
       "      <td>0.0</td>\n",
       "      <td>0.0</td>\n",
       "      <td>0.0</td>\n",
       "      <td>0.0</td>\n",
       "      <td>0.0</td>\n",
       "      <td>0.0</td>\n",
       "      <td>0.0</td>\n",
       "    </tr>\n",
       "  </tbody>\n",
       "</table>\n",
       "<p>1 rows × 39 columns</p>\n",
       "</div>"
      ],
      "text/plain": [
       "               permalink      name            homepage_url  \\\n",
       "0  /organization/waywire  #waywire  http://www.waywire.com   \n",
       "\n",
       "                                category_list market funding_total_usd  \\\n",
       "0  |Entertainment|Politics|Social Media|News|  News         17,50,000    \n",
       "\n",
       "     status country_code state_code         region  ... secondary_market  \\\n",
       "0  acquired          USA         NY  New York City  ...              0.0   \n",
       "\n",
       "   product_crowdfunding round_A round_B round_C  round_D round_E round_F  \\\n",
       "0                   0.0     0.0     0.0     0.0      0.0     0.0     0.0   \n",
       "\n",
       "   round_G  round_H  \n",
       "0      0.0      0.0  \n",
       "\n",
       "[1 rows x 39 columns]"
      ]
     },
     "execution_count": 75,
     "metadata": {},
     "output_type": "execute_result"
    }
   ],
   "source": [
    "startup_df.head(1)"
   ]
  },
  {
   "cell_type": "code",
   "execution_count": 76,
   "metadata": {
    "execution": {
     "iopub.execute_input": "2022-09-20T01:56:45.390543Z",
     "iopub.status.busy": "2022-09-20T01:56:45.390144Z",
     "iopub.status.idle": "2022-09-20T01:56:45.428176Z",
     "shell.execute_reply": "2022-09-20T01:56:45.426967Z",
     "shell.execute_reply.started": "2022-09-20T01:56:45.390500Z"
    },
    "id": "guYfkXKnvagu"
   },
   "outputs": [],
   "source": [
    "#To reduce the complexity, while processing the date variable fields, we convert the actual dates to \n",
    "#relative dates, describing the distance from founded to first and last funding and then drop the founded date.\n",
    "\n",
    "startup_df['age_first_funding'] = (startup_df['first_funding_at']-startup_df['founded_at'])/pd.Timedelta(days=365)\n",
    "startup_df['age_last_funding'] = (startup_df['last_funding_at']-startup_df['founded_at'])/pd.Timedelta(days=365)\n",
    "startup_df['founded_month'] = pd.DatetimeIndex(startup_df['founded_at']).month\n",
    "startup_df['founded_quarter'] = pd.DatetimeIndex(startup_df['founded_at']).quarter\n"
   ]
  },
  {
   "cell_type": "code",
   "execution_count": 77,
   "metadata": {
    "execution": {
     "iopub.execute_input": "2022-09-20T01:56:45.430002Z",
     "iopub.status.busy": "2022-09-20T01:56:45.429591Z",
     "iopub.status.idle": "2022-09-20T01:56:45.473602Z",
     "shell.execute_reply": "2022-09-20T01:56:45.472581Z",
     "shell.execute_reply.started": "2022-09-20T01:56:45.429950Z"
    },
    "id": "hakAQ97ntD9z",
    "outputId": "118eaa2f-000a-4242-e9f3-49ddf2c41a39"
   },
   "outputs": [
    {
     "data": {
      "text/plain": [
       "permalink                4856\n",
       "name                     4857\n",
       "homepage_url             8305\n",
       "category_list            8817\n",
       "market                   8824\n",
       "funding_total_usd        4856\n",
       "status                   6170\n",
       "country_code            10129\n",
       "state_code              24133\n",
       "region                  10129\n",
       "city                    10972\n",
       "funding_rounds           4856\n",
       "founded_at              15741\n",
       "founded_month           15741\n",
       "founded_quarter         15741\n",
       "founded_year            15812\n",
       "first_funding_at         4866\n",
       "last_funding_at          4862\n",
       "seed                     4856\n",
       "venture                  4856\n",
       "equity_crowdfunding      4856\n",
       "undisclosed              4856\n",
       "convertible_note         4856\n",
       "debt_financing           4856\n",
       "angel                    4856\n",
       "grant                    4856\n",
       "private_equity           4856\n",
       "post_ipo_equity          4856\n",
       "post_ipo_debt            4856\n",
       "secondary_market         4856\n",
       "product_crowdfunding     4856\n",
       "round_A                  4856\n",
       "round_B                  4856\n",
       "round_C                  4856\n",
       "round_D                  4856\n",
       "round_E                  4856\n",
       "round_F                  4856\n",
       "round_G                  4856\n",
       "round_H                  4856\n",
       "age_first_funding       15747\n",
       "age_last_funding        15743\n",
       "dtype: int64"
      ]
     },
     "execution_count": 77,
     "metadata": {},
     "output_type": "execute_result"
    }
   ],
   "source": [
    "startup_df.isnull().sum()"
   ]
  },
  {
   "cell_type": "code",
   "execution_count": 78,
   "metadata": {
    "execution": {
     "iopub.execute_input": "2022-09-20T01:56:45.475335Z",
     "iopub.status.busy": "2022-09-20T01:56:45.475029Z",
     "iopub.status.idle": "2022-09-20T01:56:45.549530Z",
     "shell.execute_reply": "2022-09-20T01:56:45.548527Z",
     "shell.execute_reply.started": "2022-09-20T01:56:45.475307Z"
    },
    "id": "pZ6kC6Qat9wx",
    "outputId": "c08a3409-304e-40c2-896f-beb78b2a4106"
   },
   "outputs": [
    {
     "data": {
      "text/plain": [
       "(32760, 41)"
      ]
     },
     "execution_count": 78,
     "metadata": {},
     "output_type": "execute_result"
    }
   ],
   "source": [
    "#As the dataset contains quite many null-values, we try to reduce the amount null-values by\n",
    "#deleting the rows with a few central variables containing null\n",
    "startup_df = startup_df.drop(startup_df[\n",
    "                                        (\n",
    "                                        (startup_df['status'].isna())|\n",
    "                                        (startup_df['founded_month'].isna())|\n",
    "                                        (startup_df['founded_year'].isna())|\n",
    "                                        (startup_df['market'].isna())|\n",
    "                                        (startup_df['country_code'].isna())|\n",
    "                                        (startup_df['funding_total_usd'].isna())|\n",
    "                                        (startup_df['age_first_funding'].isna())|\n",
    "                                        (startup_df['founded_year'].isna())|\n",
    "                                        (startup_df['city'].isna())\n",
    "                                        )\n",
    "                                        ].index)\n",
    "#With a general removal of all observations containing null-values, we have 28290 observations remaining\n",
    "startup_df.shape"
   ]
  },
  {
   "cell_type": "code",
   "execution_count": 79,
   "metadata": {
    "execution": {
     "iopub.execute_input": "2022-09-20T01:56:45.553613Z",
     "iopub.status.busy": "2022-09-20T01:56:45.553286Z",
     "iopub.status.idle": "2022-09-20T01:56:45.586887Z",
     "shell.execute_reply": "2022-09-20T01:56:45.586000Z",
     "shell.execute_reply.started": "2022-09-20T01:56:45.553581Z"
    },
    "id": "2tBLnes-tVY7",
    "outputId": "dcd9cff9-b127-4ac5-ad5e-b9d3d95b6328"
   },
   "outputs": [
    {
     "data": {
      "text/plain": [
       "permalink                  0\n",
       "name                       0\n",
       "homepage_url            1594\n",
       "category_list              0\n",
       "market                     0\n",
       "funding_total_usd          0\n",
       "status                     0\n",
       "country_code               0\n",
       "state_code              9544\n",
       "region                     0\n",
       "city                       0\n",
       "funding_rounds             0\n",
       "founded_at                 0\n",
       "founded_month              0\n",
       "founded_quarter            0\n",
       "founded_year               0\n",
       "first_funding_at           0\n",
       "last_funding_at            0\n",
       "seed                       0\n",
       "venture                    0\n",
       "equity_crowdfunding        0\n",
       "undisclosed                0\n",
       "convertible_note           0\n",
       "debt_financing             0\n",
       "angel                      0\n",
       "grant                      0\n",
       "private_equity             0\n",
       "post_ipo_equity            0\n",
       "post_ipo_debt              0\n",
       "secondary_market           0\n",
       "product_crowdfunding       0\n",
       "round_A                    0\n",
       "round_B                    0\n",
       "round_C                    0\n",
       "round_D                    0\n",
       "round_E                    0\n",
       "round_F                    0\n",
       "round_G                    0\n",
       "round_H                    0\n",
       "age_first_funding          0\n",
       "age_last_funding           0\n",
       "dtype: int64"
      ]
     },
     "execution_count": 79,
     "metadata": {},
     "output_type": "execute_result"
    }
   ],
   "source": [
    "#Based on the cleaning above, we would now like to see, \n",
    "#how many observations for each column that contains null-values.\n",
    "\n",
    "startup_df.isnull().sum()"
   ]
  },
  {
   "cell_type": "code",
   "execution_count": 80,
   "metadata": {
    "execution": {
     "iopub.execute_input": "2022-09-20T01:56:45.589094Z",
     "iopub.status.busy": "2022-09-20T01:56:45.588685Z",
     "iopub.status.idle": "2022-09-20T01:56:45.607909Z",
     "shell.execute_reply": "2022-09-20T01:56:45.606161Z",
     "shell.execute_reply.started": "2022-09-20T01:56:45.589054Z"
    }
   },
   "outputs": [
    {
     "data": {
      "text/plain": [
       "San Francisco         2219\n",
       "New York              1951\n",
       "London                1022\n",
       "Palo Alto              484\n",
       "Austin                 461\n",
       "                      ... \n",
       "Hainesport               1\n",
       "Tooele                   1\n",
       "Talent                   1\n",
       "Temple                   1\n",
       "Gerasdorf Bei Wien       1\n",
       "Name: city, Length: 3429, dtype: int64"
      ]
     },
     "execution_count": 80,
     "metadata": {},
     "output_type": "execute_result"
    }
   ],
   "source": [
    "startup_df.city.value_counts()"
   ]
  },
  {
   "cell_type": "code",
   "execution_count": 81,
   "metadata": {
    "execution": {
     "iopub.execute_input": "2022-09-20T01:56:45.610327Z",
     "iopub.status.busy": "2022-09-20T01:56:45.609884Z",
     "iopub.status.idle": "2022-09-20T01:56:45.623937Z",
     "shell.execute_reply": "2022-09-20T01:56:45.622215Z",
     "shell.execute_reply.started": "2022-09-20T01:56:45.610287Z"
    },
    "id": "XdAh1bFvPkAi"
   },
   "outputs": [],
   "source": [
    "#Excluding irrelevant variables, assumed cannot be used to predict the success of a start-up\n",
    "#Funding_total_USD is excluded, as this is an aggregation of angel and seed\n",
    "\n",
    "#We, however keep the name of the startup to correctly distinct between them the futher analysis\n",
    "startup_df = startup_df.drop(\n",
    "    [\n",
    "     'permalink'\n",
    "#     ,'name'\n",
    "     ,'homepage_url'\n",
    "     ,'state_code'\n",
    "   #  ,'region'\n",
    "  #   ,'city'\n",
    "     ,'founded_at'\n",
    "     ,'first_funding_at'\n",
    "   #  ,'funding_total_usd'\n",
    "     ,'last_funding_at'\n",
    "     ,'category_list'\n",
    "     ], axis = 1)"
   ]
  },
  {
   "cell_type": "code",
   "execution_count": 82,
   "metadata": {
    "execution": {
     "iopub.execute_input": "2022-09-20T01:56:45.627213Z",
     "iopub.status.busy": "2022-09-20T01:56:45.626441Z",
     "iopub.status.idle": "2022-09-20T01:56:45.691224Z",
     "shell.execute_reply": "2022-09-20T01:56:45.690467Z",
     "shell.execute_reply.started": "2022-09-20T01:56:45.627165Z"
    },
    "id": "YdwXWNUFyjbh",
    "outputId": "200643b7-eaae-48a7-ff26-144444516528"
   },
   "outputs": [
    {
     "data": {
      "text/plain": [
       "(32760, 34)"
      ]
     },
     "execution_count": 82,
     "metadata": {},
     "output_type": "execute_result"
    }
   ],
   "source": [
    "#Further, we can check that we do not have any duplicates in our dataset\n",
    "startup_df = startup_df.drop_duplicates()\n",
    "startup_df.shape"
   ]
  },
  {
   "cell_type": "code",
   "execution_count": 83,
   "metadata": {
    "execution": {
     "iopub.execute_input": "2022-09-20T01:56:45.692727Z",
     "iopub.status.busy": "2022-09-20T01:56:45.692312Z",
     "iopub.status.idle": "2022-09-20T01:56:45.735664Z",
     "shell.execute_reply": "2022-09-20T01:56:45.734495Z",
     "shell.execute_reply.started": "2022-09-20T01:56:45.692684Z"
    },
    "id": "RUE8IwYDMQAQ",
    "outputId": "05136e8a-6c2a-4156-c3b6-cd2f6115aa63"
   },
   "outputs": [
    {
     "name": "stdout",
     "output_type": "stream",
     "text": [
      "Before\n"
     ]
    },
    {
     "data": {
      "text/html": [
       "<div>\n",
       "<style scoped>\n",
       "    .dataframe tbody tr th:only-of-type {\n",
       "        vertical-align: middle;\n",
       "    }\n",
       "\n",
       "    .dataframe tbody tr th {\n",
       "        vertical-align: top;\n",
       "    }\n",
       "\n",
       "    .dataframe thead th {\n",
       "        text-align: right;\n",
       "    }\n",
       "</style>\n",
       "<table border=\"1\" class=\"dataframe\">\n",
       "  <thead>\n",
       "    <tr style=\"text-align: right;\">\n",
       "      <th></th>\n",
       "      <th>country_code</th>\n",
       "    </tr>\n",
       "    <tr>\n",
       "      <th>status</th>\n",
       "      <th></th>\n",
       "    </tr>\n",
       "  </thead>\n",
       "  <tbody>\n",
       "    <tr>\n",
       "      <th>operating</th>\n",
       "      <td>28311</td>\n",
       "    </tr>\n",
       "    <tr>\n",
       "      <th>closed</th>\n",
       "      <td>1702</td>\n",
       "    </tr>\n",
       "    <tr>\n",
       "      <th>acquired</th>\n",
       "      <td>2747</td>\n",
       "    </tr>\n",
       "  </tbody>\n",
       "</table>\n",
       "</div>"
      ],
      "text/plain": [
       "           country_code\n",
       "status                 \n",
       "operating         28311\n",
       "closed             1702\n",
       "acquired           2747"
      ]
     },
     "metadata": {},
     "output_type": "display_data"
    },
    {
     "name": "stdout",
     "output_type": "stream",
     "text": [
      "After\n"
     ]
    },
    {
     "data": {
      "text/html": [
       "<div>\n",
       "<style scoped>\n",
       "    .dataframe tbody tr th:only-of-type {\n",
       "        vertical-align: middle;\n",
       "    }\n",
       "\n",
       "    .dataframe tbody tr th {\n",
       "        vertical-align: top;\n",
       "    }\n",
       "\n",
       "    .dataframe thead th {\n",
       "        text-align: right;\n",
       "    }\n",
       "</style>\n",
       "<table border=\"1\" class=\"dataframe\">\n",
       "  <thead>\n",
       "    <tr style=\"text-align: right;\">\n",
       "      <th></th>\n",
       "      <th>country_code</th>\n",
       "    </tr>\n",
       "    <tr>\n",
       "      <th>status_binary</th>\n",
       "      <th></th>\n",
       "    </tr>\n",
       "  </thead>\n",
       "  <tbody>\n",
       "    <tr>\n",
       "      <th>0</th>\n",
       "      <td>1702</td>\n",
       "    </tr>\n",
       "    <tr>\n",
       "      <th>1</th>\n",
       "      <td>2747</td>\n",
       "    </tr>\n",
       "  </tbody>\n",
       "</table>\n",
       "</div>"
      ],
      "text/plain": [
       "               country_code\n",
       "status_binary              \n",
       "0                      1702\n",
       "1                      2747"
      ]
     },
     "metadata": {},
     "output_type": "display_data"
    }
   ],
   "source": [
    "print('Before')\n",
    "display(startup_df.groupby('status').agg({'country_code':'count'}).sort_values(by=['status'], ascending = False))\n",
    "StatusDict = {\"closed\":0,\"acquired\":1}\n",
    "\n",
    "startup_df = startup_df[(startup_df['status'] == 'acquired') | (startup_df['status'] == 'closed')]\n",
    "startup_df[\"status_binary\"] = startup_df[\"status\"].map(StatusDict)\n",
    "startup_df = startup_df.drop(['status'], axis = 1)\n",
    "\n",
    "print('After')\n",
    "display(startup_df.groupby('status_binary').agg({'country_code':'count'}).sort_values(by=['status_binary'], ascending = True))\n"
   ]
  },
  {
   "cell_type": "code",
   "execution_count": 84,
   "metadata": {
    "execution": {
     "iopub.execute_input": "2022-09-20T01:56:45.737333Z",
     "iopub.status.busy": "2022-09-20T01:56:45.737011Z",
     "iopub.status.idle": "2022-09-20T01:56:45.754988Z",
     "shell.execute_reply": "2022-09-20T01:56:45.753829Z",
     "shell.execute_reply.started": "2022-09-20T01:56:45.737302Z"
    },
    "id": "jv9aonwuMQyM",
    "outputId": "05d3476a-a967-425e-e2bf-e9b4442d93e3"
   },
   "outputs": [
    {
     "data": {
      "text/plain": [
       "count    4.449000e+03\n",
       "mean     1.658375e+07\n",
       "std      9.896583e+07\n",
       "min      0.000000e+00\n",
       "25%      3.000000e+05\n",
       "50%      3.370000e+06\n",
       "75%      1.450000e+07\n",
       "max      5.700000e+09\n",
       "Name: total_investment, dtype: float64"
      ]
     },
     "execution_count": 84,
     "metadata": {},
     "output_type": "execute_result"
    }
   ],
   "source": [
    "#Hence, the format of funding_total_USD is distorted, we are aggregating a new attribute \n",
    "\n",
    "startup_df['total_investment'] = startup_df['seed'] + startup_df['venture'] +startup_df['equity_crowdfunding'] + startup_df['undisclosed'] + startup_df['convertible_note'] + startup_df['debt_financing'] + startup_df['angel'] + startup_df['grant'] + startup_df['private_equity'] + startup_df['post_ipo_equity'] + startup_df['post_ipo_debt'] + startup_df['secondary_market'] + startup_df['product_crowdfunding']\n",
    "\n",
    "startup_df['total_investment'].describe()\n",
    "\n"
   ]
  },
  {
   "cell_type": "code",
   "execution_count": 85,
   "metadata": {
    "execution": {
     "iopub.execute_input": "2022-09-20T01:56:45.757030Z",
     "iopub.status.busy": "2022-09-20T01:56:45.756678Z",
     "iopub.status.idle": "2022-09-20T01:56:45.763268Z",
     "shell.execute_reply": "2022-09-20T01:56:45.762453Z",
     "shell.execute_reply.started": "2022-09-20T01:56:45.756999Z"
    },
    "id": "OoIPnbDGsE4p",
    "outputId": "e4ecb424-f992-49fe-cee6-506b2acc95e5"
   },
   "outputs": [
    {
     "data": {
      "text/plain": [
       "5700000000.0"
      ]
     },
     "execution_count": 85,
     "metadata": {},
     "output_type": "execute_result"
    }
   ],
   "source": [
    "max(startup_df['total_investment'])"
   ]
  },
  {
   "cell_type": "markdown",
   "metadata": {
    "id": "eetSKS3NbsRa"
   },
   "source": [
    "## 3. Data Preparation\n",
    "Preparing for modelling\n"
   ]
  },
  {
   "cell_type": "code",
   "execution_count": 86,
   "metadata": {
    "execution": {
     "iopub.execute_input": "2022-09-20T01:56:45.765152Z",
     "iopub.status.busy": "2022-09-20T01:56:45.764527Z",
     "iopub.status.idle": "2022-09-20T01:56:45.775857Z",
     "shell.execute_reply": "2022-09-20T01:56:45.774333Z",
     "shell.execute_reply.started": "2022-09-20T01:56:45.765085Z"
    },
    "id": "XpnFVKyD36Zd"
   },
   "outputs": [],
   "source": [
    "#Exporting data to .CSV in order to explore data in Tableau\n",
    "#startup_df.to_csv(r'startup_df_v1.csv', index = False, sep=';',mode='w')\n",
    "#files.download('startup_df_v1.csv')"
   ]
  },
  {
   "cell_type": "code",
   "execution_count": 87,
   "metadata": {
    "execution": {
     "iopub.execute_input": "2022-09-20T01:56:45.778112Z",
     "iopub.status.busy": "2022-09-20T01:56:45.777764Z",
     "iopub.status.idle": "2022-09-20T01:56:45.789979Z",
     "shell.execute_reply": "2022-09-20T01:56:45.788705Z",
     "shell.execute_reply.started": "2022-09-20T01:56:45.778066Z"
    },
    "id": "7V05y4YGBZ8M",
    "outputId": "fe4e57f6-8f6f-4585-c4da-f686fb95cb8e"
   },
   "outputs": [
    {
     "data": {
      "text/plain": [
       "(4449, 35)"
      ]
     },
     "execution_count": 87,
     "metadata": {},
     "output_type": "execute_result"
    }
   ],
   "source": [
    "startup_df.shape"
   ]
  },
  {
   "cell_type": "markdown",
   "metadata": {
    "id": "27qlmUDETENZ"
   },
   "source": [
    "### 3.1 Funding sum and rounds"
   ]
  },
  {
   "cell_type": "code",
   "execution_count": 88,
   "metadata": {
    "execution": {
     "iopub.execute_input": "2022-09-20T01:56:45.792400Z",
     "iopub.status.busy": "2022-09-20T01:56:45.791996Z",
     "iopub.status.idle": "2022-09-20T01:56:45.809930Z",
     "shell.execute_reply": "2022-09-20T01:56:45.808482Z",
     "shell.execute_reply.started": "2022-09-20T01:56:45.792368Z"
    },
    "id": "hD2sU1YivAm9",
    "outputId": "80256ce2-a9a6-4ae2-f054-26ea70bcb795"
   },
   "outputs": [
    {
     "name": "stdout",
     "output_type": "stream",
     "text": [
      "The following code remove all datapoints below: -21000000.0 and above 35800000.0\n",
      "This results in the following data model: (3986, 35)\n"
     ]
    }
   ],
   "source": [
    "#Removing outliers via IQR: Interquartile range, also called midspread.\n",
    "\n",
    "Q1 = startup_df['total_investment'].quantile(0.25)\n",
    "Q3 = startup_df['total_investment'].quantile(0.75)\n",
    "IQR = Q3 - Q1\n",
    "\n",
    "fund_lower = (Q1 - 1.5 * IQR)\n",
    "fund_upper = (Q3 + 1.5 * IQR)\n",
    "\n",
    "startup_df = startup_df[\n",
    "                        (startup_df['total_investment'] >= fund_lower ) \n",
    "                        & (startup_df['total_investment'] <= fund_upper)\n",
    "                        ]\n",
    "\n",
    "print('The following code remove all datapoints below: {} and above {}'.format(fund_lower, fund_upper))\n",
    "print('This results in the following data model: {}'.format(startup_df.shape))"
   ]
  },
  {
   "cell_type": "markdown",
   "metadata": {
    "id": "BULZLl0uTnPI"
   },
   "source": [
    "### 3.2 Markets\n"
   ]
  },
  {
   "cell_type": "code",
   "execution_count": 89,
   "metadata": {
    "execution": {
     "iopub.execute_input": "2022-09-20T01:56:45.812003Z",
     "iopub.status.busy": "2022-09-20T01:56:45.811615Z",
     "iopub.status.idle": "2022-09-20T01:56:45.823509Z",
     "shell.execute_reply": "2022-09-20T01:56:45.822473Z",
     "shell.execute_reply.started": "2022-09-20T01:56:45.811967Z"
    },
    "id": "6wtOa5KrszqC"
   },
   "outputs": [],
   "source": [
    "top20_markets = startup_df['market'].value_counts()[:20].keys().tolist()\n",
    "startup_df['market'] = startup_df['market'].apply(lambda i: i if i in top20_markets else 'Other')"
   ]
  },
  {
   "cell_type": "markdown",
   "metadata": {
    "id": "yaxmof1mTwzT"
   },
   "source": [
    "### 3.3 Age when funded"
   ]
  },
  {
   "cell_type": "code",
   "execution_count": 90,
   "metadata": {
    "execution": {
     "iopub.execute_input": "2022-09-20T01:56:45.825919Z",
     "iopub.status.busy": "2022-09-20T01:56:45.825173Z",
     "iopub.status.idle": "2022-09-20T01:56:45.840430Z",
     "shell.execute_reply": "2022-09-20T01:56:45.839146Z",
     "shell.execute_reply.started": "2022-09-20T01:56:45.825885Z"
    },
    "id": "jPDtj4-UE3Es"
   },
   "outputs": [],
   "source": [
    "#It looks like, some startups have recived funding prior to the date of establishment.\n",
    "\n",
    "#startup_df['age_first_funding'] = startup_df['age_first_funding'].clip(lower=0, upper=None)\n",
    "#startup_df['age_last_funding'] = startup_df['age_last_funding'].clip(lower=0, upper=None)\n",
    "\n",
    "\n",
    "startup_df.loc[startup_df['age_first_funding'] < 0, 'age_first_funding'] = 0\n",
    "startup_df.loc[startup_df['age_last_funding'] < 0, 'age_first_funding'] = 0"
   ]
  },
  {
   "cell_type": "markdown",
   "metadata": {
    "id": "dge8u4poHWsO"
   },
   "source": [
    "### 3.4 Age when founded\n"
   ]
  },
  {
   "cell_type": "code",
   "execution_count": 91,
   "metadata": {
    "execution": {
     "iopub.execute_input": "2022-09-20T01:56:45.842230Z",
     "iopub.status.busy": "2022-09-20T01:56:45.841759Z",
     "iopub.status.idle": "2022-09-20T01:56:45.856298Z",
     "shell.execute_reply": "2022-09-20T01:56:45.854698Z",
     "shell.execute_reply.started": "2022-09-20T01:56:45.842198Z"
    },
    "id": "zfvf4ROuHc9z"
   },
   "outputs": [],
   "source": [
    "#The majority of the startups are located after 1994\n",
    "#To further reduce the amount of outliers, we are excluding all startups before 1995.\n",
    "\n",
    "startup_df = startup_df[(startup_df['founded_year'] >= 1995.0 )]"
   ]
  },
  {
   "cell_type": "code",
   "execution_count": 92,
   "metadata": {},
   "outputs": [
    {
     "data": {
      "text/plain": [
       "Index(['name', 'market', 'funding_total_usd', 'country_code', 'region', 'city',\n",
       "       'funding_rounds', 'founded_month', 'founded_quarter', 'founded_year',\n",
       "       'seed', 'venture', 'equity_crowdfunding', 'undisclosed',\n",
       "       'convertible_note', 'debt_financing', 'angel', 'grant',\n",
       "       'private_equity', 'post_ipo_equity', 'post_ipo_debt',\n",
       "       'secondary_market', 'product_crowdfunding', 'round_A', 'round_B',\n",
       "       'round_C', 'round_D', 'round_E', 'round_F', 'round_G', 'round_H',\n",
       "       'age_first_funding', 'age_last_funding', 'status_binary',\n",
       "       'total_investment'],\n",
       "      dtype='object')"
      ]
     },
     "execution_count": 92,
     "metadata": {},
     "output_type": "execute_result"
    }
   ],
   "source": [
    "startup_df.columns"
   ]
  },
  {
   "cell_type": "code",
   "execution_count": 93,
   "metadata": {},
   "outputs": [],
   "source": [
    "startup_df.to_csv('startup_df.csv', index=False)"
   ]
  },
  {
   "cell_type": "code",
   "execution_count": null,
   "metadata": {},
   "outputs": [],
   "source": []
  },
  {
   "cell_type": "markdown",
   "metadata": {},
   "source": [
    "# EDA"
   ]
  },
  {
   "cell_type": "code",
   "execution_count": 94,
   "metadata": {},
   "outputs": [
    {
     "data": {
      "text/plain": [
       "Other                   1438\n",
       "Software                 467\n",
       "Curated Web              287\n",
       "Mobile                   232\n",
       "Enterprise Software      167\n",
       "Games                    142\n",
       "Advertising              142\n",
       "E-Commerce               134\n",
       "Social Media             119\n",
       "Biotechnology            114\n",
       "Hardware + Software       79\n",
       "Security                  74\n",
       "Finance                   65\n",
       "Semiconductors            65\n",
       "Web Hosting               56\n",
       "Health Care               50\n",
       "Messaging                 48\n",
       "Search                    47\n",
       "Analytics                 47\n",
       "Clean Technology          42\n",
       "Education                 36\n",
       "Name: market, dtype: int64"
      ]
     },
     "execution_count": 94,
     "metadata": {},
     "output_type": "execute_result"
    }
   ],
   "source": [
    "startup_df.market.value_counts()"
   ]
  },
  {
   "cell_type": "code",
   "execution_count": 96,
   "metadata": {},
   "outputs": [
    {
     "data": {
      "text/plain": [
       "San Francisco    417\n",
       "New York         280\n",
       "Palo Alto        102\n",
       "London           100\n",
       "Seattle           91\n",
       "                ... \n",
       "Shumen             1\n",
       "Miami Beach        1\n",
       "Charleston         1\n",
       "Duluth             1\n",
       "College Park       1\n",
       "Name: city, Length: 810, dtype: int64"
      ]
     },
     "execution_count": 96,
     "metadata": {},
     "output_type": "execute_result"
    }
   ],
   "source": [
    "startup_df.city.value_counts()"
   ]
  },
  {
   "cell_type": "code",
   "execution_count": 100,
   "metadata": {},
   "outputs": [
    {
     "data": {
      "text/plain": [
       "status_binary  funding_rounds\n",
       "0              1.0               1170\n",
       "               2.0                301\n",
       "               3.0                 77\n",
       "               4.0                 37\n",
       "               5.0                  8\n",
       "               6.0                  4\n",
       "               7.0                  4\n",
       "               8.0                  3\n",
       "1              1.0               1046\n",
       "               2.0                630\n",
       "               3.0                362\n",
       "               4.0                129\n",
       "               5.0                 43\n",
       "               6.0                 27\n",
       "               7.0                  6\n",
       "               8.0                  2\n",
       "               9.0                  1\n",
       "               10.0                 1\n",
       "Name: name, dtype: int64"
      ]
     },
     "execution_count": 100,
     "metadata": {},
     "output_type": "execute_result"
    }
   ],
   "source": [
    "startup_df.groupby(['status_binary','funding_rounds'])['name'].count()"
   ]
  },
  {
   "cell_type": "code",
   "execution_count": 101,
   "metadata": {},
   "outputs": [
    {
     "data": {
      "text/plain": [
       "status_binary  founded_year\n",
       "0              1995.0            2\n",
       "               1996.0            6\n",
       "               1997.0            6\n",
       "               1998.0           10\n",
       "               1999.0           25\n",
       "               2000.0           27\n",
       "               2001.0           17\n",
       "               2002.0           31\n",
       "               2003.0           49\n",
       "               2004.0           61\n",
       "               2005.0           88\n",
       "               2006.0          141\n",
       "               2007.0          211\n",
       "               2008.0          181\n",
       "               2009.0          206\n",
       "               2010.0          235\n",
       "               2011.0          196\n",
       "               2012.0           92\n",
       "               2013.0           19\n",
       "               2014.0            1\n",
       "1              1995.0           24\n",
       "               1996.0           28\n",
       "               1997.0           53\n",
       "               1998.0           57\n",
       "               1999.0          130\n",
       "               2000.0          135\n",
       "               2001.0          100\n",
       "               2002.0          101\n",
       "               2003.0          102\n",
       "               2004.0          114\n",
       "               2005.0          159\n",
       "               2006.0          192\n",
       "               2007.0          213\n",
       "               2008.0          173\n",
       "               2009.0          187\n",
       "               2010.0          190\n",
       "               2011.0          174\n",
       "               2012.0           94\n",
       "               2013.0           21\n",
       "Name: name, dtype: int64"
      ]
     },
     "execution_count": 101,
     "metadata": {},
     "output_type": "execute_result"
    }
   ],
   "source": [
    "startup_df.groupby(['status_binary','founded_year'])['name'].count()"
   ]
  },
  {
   "cell_type": "code",
   "execution_count": 103,
   "metadata": {},
   "outputs": [
    {
     "data": {
      "text/plain": [
       "count    3851.000000\n",
       "mean     2006.351078\n",
       "std         4.142129\n",
       "min      1995.000000\n",
       "25%      2004.000000\n",
       "50%      2007.000000\n",
       "75%      2010.000000\n",
       "max      2014.000000\n",
       "Name: founded_year, dtype: float64"
      ]
     },
     "execution_count": 103,
     "metadata": {},
     "output_type": "execute_result"
    }
   ],
   "source": [
    "startup_df.founded_year.describe()"
   ]
  },
  {
   "cell_type": "code",
   "execution_count": 102,
   "metadata": {},
   "outputs": [
    {
     "data": {
      "text/plain": [
       "status_binary  market              \n",
       "0              Advertising              51\n",
       "               Analytics                 7\n",
       "               Biotechnology            54\n",
       "               Clean Technology         23\n",
       "               Curated Web             156\n",
       "               E-Commerce               67\n",
       "               Education                15\n",
       "               Enterprise Software      33\n",
       "               Finance                  25\n",
       "               Games                    74\n",
       "               Hardware + Software      35\n",
       "               Health Care              21\n",
       "               Messaging                20\n",
       "               Mobile                  103\n",
       "               Other                   611\n",
       "               Search                   21\n",
       "               Security                 15\n",
       "               Semiconductors           21\n",
       "               Social Media             70\n",
       "               Software                165\n",
       "               Web Hosting              17\n",
       "1              Advertising              91\n",
       "               Analytics                40\n",
       "               Biotechnology            60\n",
       "               Clean Technology         19\n",
       "               Curated Web             131\n",
       "               E-Commerce               67\n",
       "               Education                21\n",
       "               Enterprise Software     134\n",
       "               Finance                  40\n",
       "               Games                    68\n",
       "               Hardware + Software      44\n",
       "               Health Care              29\n",
       "               Messaging                28\n",
       "               Mobile                  129\n",
       "               Other                   827\n",
       "               Search                   26\n",
       "               Security                 59\n",
       "               Semiconductors           44\n",
       "               Social Media             49\n",
       "               Software                302\n",
       "               Web Hosting              39\n",
       "Name: name, dtype: int64"
      ]
     },
     "execution_count": 102,
     "metadata": {},
     "output_type": "execute_result"
    }
   ],
   "source": [
    "startup_df.groupby(['status_binary','market'])['name'].count()"
   ]
  },
  {
   "cell_type": "code",
   "execution_count": null,
   "metadata": {},
   "outputs": [],
   "source": []
  },
  {
   "cell_type": "code",
   "execution_count": null,
   "metadata": {},
   "outputs": [],
   "source": []
  }
 ],
 "metadata": {
  "kernelspec": {
   "display_name": "Python 3 (ipykernel)",
   "language": "python",
   "name": "python3"
  },
  "language_info": {
   "codemirror_mode": {
    "name": "ipython",
    "version": 3
   },
   "file_extension": ".py",
   "mimetype": "text/x-python",
   "name": "python",
   "nbconvert_exporter": "python",
   "pygments_lexer": "ipython3",
   "version": "3.8.13"
  }
 },
 "nbformat": 4,
 "nbformat_minor": 4
}
